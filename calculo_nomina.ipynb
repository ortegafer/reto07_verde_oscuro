{
 "cells": [
  {
   "cell_type": "code",
   "execution_count": 1,
   "metadata": {},
   "outputs": [],
   "source": [
    "import pandas as pd"
   ]
  },
  {
   "cell_type": "code",
   "execution_count": 3,
   "metadata": {},
   "outputs": [],
   "source": [
    "import pandas as pd\n",
    "\n",
    "# Cargar el archivo Excel\n",
    "file_path = \"Datos/Originales/Dataset_1.xlsx\"\n",
    "\n",
    "# Leer la hoja de IPC\n",
    "ipc_df = pd.read_excel(file_path, sheet_name=\"IPC\")\n",
    "\n",
    "# Función para calcular la nómina futura\n",
    "def calcular_nomina_futura(nomina_actual, años_para_jubilacion, ipc_df):\n",
    "    \"\"\"\n",
    "    Calcula la nómina futura de un trabajador, sumando el IPC de cada año.\n",
    "\n",
    "    Parámetros:\n",
    "    - nomina_actual: La nómina actual del trabajador.\n",
    "    - años_para_jubilacion: Los años que le quedan para jubilarse.\n",
    "    - ipc_df: DataFrame con los valores de IPC por año.\n",
    "\n",
    "    Retorna:\n",
    "    - Una lista con la nómina proyectada para cada año.\n",
    "    \"\"\"\n",
    "    # Inicializar la lista con la nómina actual\n",
    "    nomina_futura = [nomina_actual]\n",
    "\n",
    "    # Iterar sobre los años restantes\n",
    "    for i in range(años_para_jubilacion):\n",
    "        # Obtener el IPC del año correspondiente\n",
    "        ipc = ipc_df.iloc[i][\"TIPO\"]\n",
    "\n",
    "        # Calcular la nueva nómina sumando el IPC\n",
    "        nueva_nomina = nomina_futura[-1] * (1 + ipc)\n",
    "        nomina_futura.append(nueva_nomina)\n",
    "\n",
    "    return nomina_futura\n"
   ]
  },
  {
   "cell_type": "code",
   "execution_count": 5,
   "metadata": {},
   "outputs": [
    {
     "name": "stdout",
     "output_type": "stream",
     "text": [
      "Nómina proyectada para los próximos años:\n",
      "Año 0: 15319.07 €\n",
      "Año 1: 15890.47 €\n",
      "Año 2: 16364.01 €\n",
      "Año 3: 16984.20 €\n",
      "Año 4: 17663.57 €\n",
      "Año 5: 18149.32 €\n",
      "Año 6: 18466.93 €\n",
      "Año 7: 19002.47 €\n",
      "Año 8: 19544.04 €\n",
      "Año 9: 20040.46 €\n",
      "Año 10: 20477.35 €\n",
      "Año 11: 21085.52 €\n",
      "Año 12: 21686.46 €\n",
      "Año 13: 22228.62 €\n"
     ]
    }
   ],
   "source": [
    "# Ejemplo de uso\n",
    "nomina_actual = 15319.07  # Nómina actual del trabajador\n",
    "años_para_jubilacion = 13  # Años que le quedan para jubilarse\n",
    "\n",
    "# Calcular la nómina futura\n",
    "nomina_proyectada = calcular_nomina_futura(nomina_actual, años_para_jubilacion, ipc_df)\n",
    "\n",
    "# Mostrar el resultado\n",
    "print(\"Nómina proyectada para los próximos años:\")\n",
    "for año, nomina in enumerate(nomina_proyectada):\n",
    "    print(f\"Año {año}: {nomina:.2f} €\")"
   ]
  }
 ],
 "metadata": {
  "kernelspec": {
   "display_name": ".venv",
   "language": "python",
   "name": "python3"
  },
  "language_info": {
   "codemirror_mode": {
    "name": "ipython",
    "version": 3
   },
   "file_extension": ".py",
   "mimetype": "text/x-python",
   "name": "python",
   "nbconvert_exporter": "python",
   "pygments_lexer": "ipython3",
   "version": "3.13.1"
  }
 },
 "nbformat": 4,
 "nbformat_minor": 2
}
