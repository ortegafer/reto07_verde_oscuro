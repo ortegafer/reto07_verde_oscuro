{
 "cells": [
  {
   "cell_type": "code",
   "execution_count": 1,
   "metadata": {},
   "outputs": [
    {
     "name": "stdout",
     "output_type": "stream",
     "text": [
      "     ID  Capital Jubilación  Capital Actual  Monto Mensual\n",
      "0     1       107929.622400    79044.634854     552.426719\n",
      "1     2       170034.093333    81754.958037     276.906429\n",
      "2     3       124495.870475    95174.453457     769.609247\n",
      "3     4        90971.927228    66405.763329     459.409757\n",
      "4     5       146242.762248   103969.478056     666.252760\n",
      "..  ...                 ...             ...            ...\n",
      "95   96       176848.801468   129305.554148     899.100272\n",
      "96   97       171826.411025    91366.197089     345.502916\n",
      "97   98       182500.267745    81066.404032     255.414251\n",
      "98   99       242550.898824   133741.287476     529.557554\n",
      "99  100       217555.431681   132225.957290     605.299605\n",
      "\n",
      "[100 rows x 4 columns]\n"
     ]
    }
   ],
   "source": [
    "import pandas as pd\n",
    "import pickle\n",
    "import math\n",
    "import datetime as dt\n",
    "\n",
    "\n",
    "def calculo_nomina(salario_actual, años_hasta_jubilación, ipc):\n",
    "    redondeado = math.floor(años_hasta_jubilación)\n",
    "    salario = salario_actual\n",
    "    for i in range(0, redondeado):\n",
    "        salario = salario + salario * ipc.iloc[i, 1]\n",
    "    return float(salario)\n",
    "\n",
    "def calcular_monto_mensual(capital, intereses):\n",
    "    n_periodos = len(intereses)\n",
    "    sumatorio = sum((1 + intereses[i]) ** (i + 1) for i in range(n_periodos))\n",
    "    if sumatorio == 0:\n",
    "        return None\n",
    "    return capital / sumatorio\n",
    "\n",
    "def calcular_primas_jubilacion_df(df, ipc, interes1, interes2, duracion_interes1, interes_rendimiento1, interes_rendimiento2, duracion_interes_rendimiento1):\n",
    "    resultados = []\n",
    "    with open(\"notebooks/Data Mining/modelo.pkl\", \"rb\") as f:\n",
    "        modelo = pickle.load(f)\n",
    "    X_2 = df.drop(['ID', 'FECHA NAC', 'SEXO', 'FECHA ENTRADA', 'PARA CONTAR MESES'], axis=1)\n",
    "    X_2.columns = ['Ingreso Anual (€)','Edad']\n",
    "    X_2 = X_2[['Edad','Ingreso Anual (€)']] \n",
    "    df[\"AÑOS HASTA JUBILACION\"] = modelo.predict(X_2)\n",
    "    for _, row in df.iterrows():\n",
    "        salario_final = calculo_nomina(row['NOMINA BRUTA 01/01/2025'], row['AÑOS HASTA JUBILACION'], ipc)\n",
    "        porcentaje_renta = min((row['EDAD'] // 4) * 0.0225, 0.19)\n",
    "        m1 = (salario_final * porcentaje_renta) / 12\n",
    "        \n",
    "        fecha_jubilacion = dt.datetime(2025, 1, 1) + dt.timedelta(days=row['AÑOS HASTA JUBILACION'] * 365)\n",
    "        fecha_jubilacion = fecha_jubilacion.strftime('%Y-%m-%d')\n",
    "        date_range = pd.date_range(start=fecha_jubilacion, periods=22 * 12, freq='MS')\n",
    "        date_list = date_range.strftime('%Y-%m').tolist()\n",
    "        \n",
    "        int1 = ((1 + (interes1 * 0.01)) ** (1 / 12)) - 1\n",
    "        int2 = ((1 + (interes2 * 0.01)) ** (1 / 12)) - 1\n",
    "        año1, mes1 = duracion_interes1\n",
    "        \n",
    "        intereses = [int1] * (año1 * 12 + mes1) + [int2] * ((22 * 12) - (año1 * 12 + mes1))\n",
    "        \n",
    "        rentas = []\n",
    "        valor = m1\n",
    "        for fecha in date_list:\n",
    "            if fecha[-2:] == '01':\n",
    "                valor *= 1.03\n",
    "            rentas.append(valor)\n",
    "        \n",
    "        df_rentas = pd.DataFrame({'Fecha': date_list, 'Intereses': intereses, 'Pagos': rentas})\n",
    "        \n",
    "        capital_jubilacion = 0\n",
    "        for i in range(len(df_rentas) - 1, -1, -1):\n",
    "            renta = float(df_rentas.iloc[i, 2]) * (1 + float(df_rentas.iloc[i, 1])) ** -1\n",
    "            for interes in range(i, -1, -1):\n",
    "                renta = renta * (1 + float(df_rentas.iloc[interes, 1])) ** -1\n",
    "            capital_jubilacion += renta\n",
    "        \n",
    "        fechas = pd.date_range(start='2025-01-01', end=fecha_jubilacion, freq='MS')\n",
    "        fechas_formateadas = fechas.strftime('%Y-%m')\n",
    "        \n",
    "        int_ren1 = ((1 + (interes_rendimiento1 * 0.01)) ** (1 / 12)) - 1\n",
    "        int_ren2 = ((1 + (interes_rendimiento2 * 0.01)) ** (1 / 12)) - 1\n",
    "        año2, mes2 = duracion_interes_rendimiento1\n",
    "        \n",
    "        intereses1 = [int_ren1] * (año2 * 12 + mes2) + [int_ren2] * (len(fechas_formateadas) - (año2 * 12 + mes2))\n",
    "        df1 = pd.DataFrame({'Fecha': fechas_formateadas, 'Intereses': intereses1})\n",
    "        \n",
    "        capital_actual = capital_jubilacion\n",
    "        for i in range(len(df1) - 1, -1, -1):\n",
    "            capital_actual = capital_actual * (1 + float(df1.iloc[i, 1])) ** -1\n",
    "        \n",
    "        monto_mensual = calcular_monto_mensual(capital_jubilacion, df1['Intereses'].tolist())\n",
    "        \n",
    "        resultados.append([row['ID'], capital_jubilacion, capital_actual, monto_mensual])\n",
    "    \n",
    "    return pd.DataFrame(resultados, columns=['ID', 'Capital Jubilación', 'Capital Actual', 'Monto Mensual'])\n",
    "\n",
    "# Cargar los datos y calcular resultados\n",
    "df_input = pd.read_csv('Datos/Limpios/datos1_limpios.csv', index_col=0)\n",
    "ipc_data = pd.read_excel('Datos/Originales/Dataset_1.xlsx', sheet_name='IPC')\n",
    "resultados_df = calcular_primas_jubilacion_df(df_input, ipc_data, 2, 1.5, [6,9], 2.5, 2, [7,0])\n",
    "print(resultados_df)\n"
   ]
  },
  {
   "cell_type": "code",
   "execution_count": 2,
   "metadata": {},
   "outputs": [
    {
     "data": {
      "text/plain": [
       "np.float64(10312093.356052017)"
      ]
     },
     "execution_count": 2,
     "metadata": {},
     "output_type": "execute_result"
    }
   ],
   "source": [
    "resultados_df['Capital Actual'].sum()"
   ]
  },
  {
   "cell_type": "code",
   "execution_count": 3,
   "metadata": {},
   "outputs": [
    {
     "data": {
      "text/plain": [
       "np.float64(17555353.35504604)"
      ]
     },
     "execution_count": 3,
     "metadata": {},
     "output_type": "execute_result"
    }
   ],
   "source": [
    "resultados_df['Capital Jubilación'].sum()"
   ]
  },
  {
   "cell_type": "code",
   "execution_count": 4,
   "metadata": {},
   "outputs": [
    {
     "data": {
      "text/plain": [
       "np.float64(51886.4580051582)"
      ]
     },
     "execution_count": 4,
     "metadata": {},
     "output_type": "execute_result"
    }
   ],
   "source": [
    "resultados_df['Monto Mensual'].sum()"
   ]
  }
 ],
 "metadata": {
  "kernelspec": {
   "display_name": ".venv",
   "language": "python",
   "name": "python3"
  },
  "language_info": {
   "codemirror_mode": {
    "name": "ipython",
    "version": 3
   },
   "file_extension": ".py",
   "mimetype": "text/x-python",
   "name": "python",
   "nbconvert_exporter": "python",
   "pygments_lexer": "ipython3",
   "version": "3.13.1"
  }
 },
 "nbformat": 4,
 "nbformat_minor": 2
}
