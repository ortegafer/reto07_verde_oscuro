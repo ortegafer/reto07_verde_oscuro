{
 "cells": [
  {
   "cell_type": "code",
   "execution_count": 21,
   "metadata": {},
   "outputs": [
    {
     "name": "stdout",
     "output_type": "stream",
     "text": [
      "     ID  Capital Jubilación  Capital Actual  Monto Mensual\n",
      "0     1        53789.500404    16304.489071     165.641224\n",
      "1     2        84724.660895     4195.435782      31.250342\n",
      "2     3        62036.917812    22619.706673     252.041851\n",
      "3     4        45331.778918    13546.937657     136.787124\n",
      "4     5        72865.257000    19435.170941     187.648184\n",
      "..  ...                 ...             ...            ...\n",
      "95   96        88130.282948    26524.621249     268.642736\n",
      "96   97        85621.983772     6539.997462      50.131035\n",
      "97   98        90936.311623     3201.791555      23.495314\n",
      "98   99       120854.087805    10792.898304      83.904760\n",
      "99  100       108397.470607    14721.417541     120.603960\n",
      "\n",
      "[100 rows x 4 columns]\n"
     ]
    }
   ],
   "source": [
    "import pandas as pd\n",
    "import pickle\n",
    "import math\n",
    "import datetime as dt\n",
    "\n",
    "\n",
    "def calculo_nomina(salario_actual, años_hasta_jubilación, ipc):\n",
    "    redondeado = math.floor(años_hasta_jubilación)\n",
    "    salario = salario_actual\n",
    "    for i in range(0, redondeado):\n",
    "        salario = salario + salario * ipc.iloc[i, 1]\n",
    "    return float(salario)\n",
    "\n",
    "def calcular_monto_mensual(capital, intereses):\n",
    "    n_periodos = len(intereses)\n",
    "    sumatorio = sum((1 + intereses[i]) ** (i + 1) for i in range(n_periodos))\n",
    "    if sumatorio == 0:\n",
    "        return None\n",
    "    return capital / sumatorio\n",
    "\n",
    "def calcular_primas_jubilacion_df(df, ipc, interes1, interes2, duracion_interes1, interes_rendimiento1, interes_rendimiento2, duracion_interes_rendimiento1):\n",
    "    resultados = []\n",
    "    with open(\"notebooks/Data Mining/modelo.pkl\", \"rb\") as f:\n",
    "        modelo = pickle.load(f)\n",
    "    X_2 = df.drop(['ID', 'FECHA NAC', 'SEXO', 'FECHA ENTRADA', 'PARA CONTAR MESES'], axis=1)\n",
    "    X_2.columns = ['Ingreso Anual (€)','Edad']\n",
    "    X_2 = X_2[['Edad','Ingreso Anual (€)']] \n",
    "    df[\"AÑOS HASTA JUBILACION\"] = modelo.predict(X_2)\n",
    "    for _, row in df.iterrows():\n",
    "        salario_final = calculo_nomina(row['NOMINA BRUTA 01/01/2025'], row['AÑOS HASTA JUBILACION'], ipc)\n",
    "        porcentaje_renta = min((row['EDAD'] // 4) * 0.0225, 0.19)\n",
    "        m1 = (salario_final * porcentaje_renta) / 12\n",
    "        \n",
    "        fecha_jubilacion = dt.datetime(2025, 1, 1) + dt.timedelta(days=row['AÑOS HASTA JUBILACION'] * 365)\n",
    "        fecha_jubilacion = fecha_jubilacion.strftime('%Y-%m-%d')\n",
    "        date_range = pd.date_range(start=fecha_jubilacion, periods=22 * 12, freq='MS')\n",
    "        date_list = date_range.strftime('%Y-%m').tolist()\n",
    "        \n",
    "        int1 = ((1 + (interes1 * 0.01)) ** (1 / 12)) - 1\n",
    "        int2 = ((1 + (interes2 * 0.01)) ** (1 / 12)) - 1\n",
    "        año1, mes1 = duracion_interes1\n",
    "        \n",
    "        intereses = [int1] * (año1 * 12 + mes1) + [int2] * ((22 * 12) - (año1 * 12 + mes1))\n",
    "        \n",
    "        rentas = []\n",
    "        valor = m1\n",
    "        for fecha in date_list:\n",
    "            if fecha[-2:] == '01':\n",
    "                valor *= 1.03\n",
    "            rentas.append(valor)\n",
    "        \n",
    "        df_rentas = pd.DataFrame({'Fecha': date_list, 'Intereses': intereses, 'Pagos': rentas})\n",
    "        \n",
    "        capital_jubilacion = 0\n",
    "        for i in range(len(df_rentas) - 1, -1, -1):\n",
    "            renta = float(df_rentas.iloc[i, 2]) * (1 + float(df_rentas.iloc[i, 1])) ** -1\n",
    "            for interes in range(i, -1, -1):\n",
    "                renta = renta * (1 + float(df_rentas.iloc[interes, 1])) ** -1\n",
    "            capital_jubilacion += renta\n",
    "        \n",
    "        fechas = pd.date_range(start='2025-01-01', end=fecha_jubilacion, freq='MS')\n",
    "        fechas_formateadas = fechas.strftime('%Y-%m')\n",
    "        \n",
    "        int_ren1 = ((1 + (interes_rendimiento1 * 0.01)) ** (1 / 12)) - 1\n",
    "        int_ren2 = ((1 + (interes_rendimiento2 * 0.01)) ** (1 / 12)) - 1\n",
    "        año2, mes2 = duracion_interes_rendimiento1\n",
    "        \n",
    "        intereses1 = [int_ren1] * (año2 * 12 + mes2) + [int_ren2] * (len(fechas_formateadas) - (año2 * 12 + mes2))\n",
    "        df1 = pd.DataFrame({'Fecha': fechas_formateadas, 'Intereses': intereses1})\n",
    "        \n",
    "        capital_actual = capital_jubilacion\n",
    "        for i in range(len(df1) - 1, -1, -1):\n",
    "            capital_actual = capital_actual * (1 + float(df1.iloc[i, 1])) ** -1\n",
    "        \n",
    "        monto_mensual = calcular_monto_mensual(capital_jubilacion, df1['Intereses'].tolist())\n",
    "        \n",
    "        resultados.append([row['ID'], capital_jubilacion, capital_actual, monto_mensual])\n",
    "    \n",
    "    return pd.DataFrame(resultados, columns=['ID', 'Capital Jubilación', 'Capital Actual', 'Monto Mensual'])\n",
    "\n",
    "# Cargar los datos y calcular resultados\n",
    "df_input = pd.read_csv('Datos/Limpios/datos1_limpios.csv', index_col=0)\n",
    "ipc_data = pd.read_excel('Datos/Originales/Dataset_1.xlsx', sheet_name='IPC')\n",
    "resultados_df = calcular_primas_jubilacion_df(df_input, ipc_data, 8.9, 8.9, [6,9], 8.9, 8.9, [7,0])\n",
    "print(resultados_df)\n"
   ]
  },
  {
   "cell_type": "code",
   "execution_count": 22,
   "metadata": {},
   "outputs": [
    {
     "data": {
      "text/plain": [
       "np.float64(1262744.7370012922)"
      ]
     },
     "execution_count": 22,
     "metadata": {},
     "output_type": "execute_result"
    }
   ],
   "source": [
    "resultados_df['Capital Actual'].sum()"
   ]
  },
  {
   "cell_type": "code",
   "execution_count": 23,
   "metadata": {},
   "outputs": [
    {
     "data": {
      "text/plain": [
       "np.float64(8747629.049988018)"
      ]
     },
     "execution_count": 23,
     "metadata": {},
     "output_type": "execute_result"
    }
   ],
   "source": [
    "resultados_df['Capital Jubilación'].sum()"
   ]
  },
  {
   "cell_type": "code",
   "execution_count": 24,
   "metadata": {},
   "outputs": [
    {
     "data": {
      "text/plain": [
       "np.float64(11913.79834826541)"
      ]
     },
     "execution_count": 24,
     "metadata": {},
     "output_type": "execute_result"
    }
   ],
   "source": [
    "resultados_df['Monto Mensual'].sum()"
   ]
  },
  {
   "cell_type": "code",
   "execution_count": 26,
   "metadata": {},
   "outputs": [],
   "source": [
    "import pandas as pd\n",
    "import pickle\n",
    "import math\n",
    "import datetime as dt\n",
    "\n",
    "def calculo_nomina(salario_actual, años_hasta_jubilación, ipc):\n",
    "    redondeado = math.floor(años_hasta_jubilación)\n",
    "    salario = salario_actual\n",
    "    for i in range(0, redondeado):\n",
    "        salario = salario + salario * ipc.iloc[i, 1]\n",
    "    return float(salario)\n",
    "\n",
    "def calcular_monto_mensual(capital, intereses):\n",
    "    n_periodos = len(intereses)\n",
    "    sumatorio = sum((1 + intereses[i]) ** (i + 1) for i in range(n_periodos))\n",
    "    return capital / sumatorio\n",
    "\n",
    "def calcular_primas_jubilacion_df(df, ipc, lista_intereses):\n",
    "    resultados = []\n",
    "    with open(\"notebooks/Data Mining/modelo.pkl\", \"rb\") as f:\n",
    "        modelo = pickle.load(f)\n",
    "    X_2 = df.drop(['ID', 'FECHA NAC', 'SEXO', 'FECHA ENTRADA', 'PARA CONTAR MESES'], axis=1)\n",
    "    X_2.columns = ['Ingreso Anual (€)','Edad']\n",
    "    X_2 = X_2[['Edad','Ingreso Anual (€)']]\n",
    "    df[\"AÑOS HASTA JUBILACION\"] = modelo.predict(X_2)\n",
    "    for _, row in df.iterrows():\n",
    "        salario_final = calculo_nomina(row['NOMINA BRUTA 01/01/2025'], row['AÑOS HASTA JUBILACION'], ipc)\n",
    "        porcentaje_renta = min((row['EDAD'] // 4) * 0.0225, 0.19)\n",
    "        m1 = (salario_final * porcentaje_renta) / 12\n",
    "        \n",
    "        fecha_jubilacion = dt.datetime(2025, 1, 1) + dt.timedelta(days=row['AÑOS HASTA JUBILACION'] * 365)\n",
    "        fecha_jubilacion = fecha_jubilacion.strftime('%Y-%m-%d')\n",
    "        date_range = pd.date_range(start=fecha_jubilacion, periods=22 * 12, freq='MS')\n",
    "        date_list = date_range.strftime('%Y-%m').tolist()\n",
    "        \n",
    "        if len(lista_intereses) < len(date_list):\n",
    "            raise ValueError(f\"La lista de intereses es demasiado corta. Se requieren {len(date_list)} valores, pero solo se proporcionaron {len(lista_intereses)}.\")\n",
    "        \n",
    "        intereses = lista_intereses[:len(date_list)]\n",
    "        \n",
    "        rentas = []\n",
    "        valor = m1\n",
    "        for fecha in date_list:\n",
    "            if fecha[-2:] == '01':\n",
    "                valor *= 1.03\n",
    "            rentas.append(valor)\n",
    "        \n",
    "        df_rentas = pd.DataFrame({'Fecha': date_list, 'Intereses': intereses, 'Pagos': rentas})\n",
    "        \n",
    "        capital_jubilacion = 0\n",
    "        for i in range(len(df_rentas) - 1, -1, -1):\n",
    "            renta = float(df_rentas.iloc[i, 2]) * (1 + float(df_rentas.iloc[i, 1])) ** -1\n",
    "            for interes in range(i, -1, -1):\n",
    "                renta = renta * (1 + float(df_rentas.iloc[interes, 1])) ** -1\n",
    "            capital_jubilacion += renta\n",
    "        \n",
    "        fechas = pd.date_range(start='2025-01-01', end=fecha_jubilacion, freq='MS')\n",
    "        fechas_formateadas = fechas.strftime('%Y-%m')\n",
    "        \n",
    "        if len(lista_intereses) < len(fechas_formateadas):\n",
    "            raise ValueError(f\"La lista de intereses es demasiado corta. Se requieren {len(fechas_formateadas)} valores, pero solo se proporcionaron {len(lista_intereses)}.\")\n",
    "        \n",
    "        intereses1 = lista_intereses[:len(fechas_formateadas)]\n",
    "        df1 = pd.DataFrame({'Fecha': fechas_formateadas, 'Intereses': intereses1})\n",
    "        \n",
    "        capital_actual = capital_jubilacion\n",
    "        for i in range(len(df1) - 1, -1, -1):\n",
    "            capital_actual = capital_actual * (1 + float(df1.iloc[i, 1])) ** -1\n",
    "        \n",
    "        monto_mensual = calcular_monto_mensual(capital_jubilacion, df1['Intereses'].tolist())\n",
    "        \n",
    "        resultados.append([row['ID'], capital_jubilacion, capital_actual, monto_mensual])\n",
    "    \n",
    "    return pd.DataFrame(resultados, columns=['ID', 'Capital Jubilación', 'Capital Actual', 'Monto Mensual'])\n"
   ]
  },
  {
   "cell_type": "code",
   "execution_count": 27,
   "metadata": {},
   "outputs": [
    {
     "name": "stdout",
     "output_type": "stream",
     "text": [
      "     ID  Capital Jubilación  Capital Actual  Monto Mensual\n",
      "0     1        48186.160343    11271.687573   3.062069e-03\n",
      "1     2        75895.912642     4731.424973   3.043940e-14\n",
      "2     3        55571.855778    15987.780240   3.692455e+00\n",
      "3     4        40607.920704     9214.582508   2.580462e-03\n",
      "4     5        65274.938021    12174.246245   3.549037e-03\n",
      "..  ...                 ...             ...            ...\n",
      "95   96        78947.271704    18487.650995   5.016834e-03\n",
      "96   97        76699.631264     6365.166951   5.613758e-08\n",
      "97   98        81460.277209     3035.687248   1.771217e-20\n",
      "98   99       108254.498618    14456.320585   8.101126e-08\n",
      "99  100        97099.907430    18153.115842   1.394233e-05\n",
      "\n",
      "[100 rows x 4 columns]\n"
     ]
    }
   ],
   "source": [
    "df_input = pd.read_csv('Datos/Limpios/datos1_limpios.csv', index_col=0)\n",
    "ipc_data = pd.read_excel('Datos/Originales/Dataset_1.xlsx', sheet_name='IPC')\n",
    "intereses_lista = pd.read_csv('Datos/Limpios/datos1_limpios.csv', index_col=0)\n",
    "intereses_lista = pd.read_csv('Datos/Intereses/Datos históricos del S&P 500.csv', index_col=0)\n",
    "lista=list(intereses_lista['% var.'])\n",
    "intereses_lista = [float(str(i).replace('%', '').replace(',', '.')) / 100 for i in lista]\n",
    "\n",
    "resultados_df = calcular_primas_jubilacion_df(df_input, ipc_data, intereses_lista)\n",
    "print(resultados_df)\n"
   ]
  },
  {
   "cell_type": "code",
   "execution_count": 28,
   "metadata": {},
   "outputs": [
    {
     "data": {
      "text/plain": [
       "np.float64(1195478.4404291294)"
      ]
     },
     "execution_count": 28,
     "metadata": {},
     "output_type": "execute_result"
    }
   ],
   "source": [
    "resultados_df['Capital Actual'].sum()"
   ]
  },
  {
   "cell_type": "code",
   "execution_count": 29,
   "metadata": {},
   "outputs": [
    {
     "data": {
      "text/plain": [
       "np.float64(7835991.299050733)"
      ]
     },
     "execution_count": 29,
     "metadata": {},
     "output_type": "execute_result"
    }
   ],
   "source": [
    "resultados_df['Capital Jubilación'].sum()"
   ]
  },
  {
   "cell_type": "code",
   "execution_count": 30,
   "metadata": {},
   "outputs": [
    {
     "data": {
      "text/plain": [
       "np.float64(82.90849485047693)"
      ]
     },
     "execution_count": 30,
     "metadata": {},
     "output_type": "execute_result"
    }
   ],
   "source": [
    "resultados_df['Monto Mensual'].sum()"
   ]
  }
 ],
 "metadata": {
  "kernelspec": {
   "display_name": ".venv",
   "language": "python",
   "name": "python3"
  },
  "language_info": {
   "codemirror_mode": {
    "name": "ipython",
    "version": 3
   },
   "file_extension": ".py",
   "mimetype": "text/x-python",
   "name": "python",
   "nbconvert_exporter": "python",
   "pygments_lexer": "ipython3",
   "version": "3.13.1"
  }
 },
 "nbformat": 4,
 "nbformat_minor": 2
}
