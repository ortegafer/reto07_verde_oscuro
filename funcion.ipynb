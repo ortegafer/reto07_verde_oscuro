{
 "cells": [
  {
   "cell_type": "code",
   "execution_count": 32,
   "metadata": {},
   "outputs": [],
   "source": [
    "def calculo_nomina(salario_actual, años_hasta_jubilación):\n",
    "    import math\n",
    "    import pandas as pd\n",
    "    redondeado = math.floor(años_hasta_jubilación)\n",
    "    salario = salario_actual\n",
    "    ipc= pd.read_excel('Datos/Originales/Dataset_1.xlsx', sheet_name='IPC')\n",
    "    for i in range(0, redondeado):\n",
    "        salario = salario + salario*ipc.iloc[i,1]\n",
    "    return float(salario)\n",
    "\n",
    "def calcular_monto_mensual(capital, intereses):\n",
    "    n_periodos = len(intereses)\n",
    "    sumatorio = sum((1 + intereses[i]) ** (i + 1) for i in range(n_periodos))\n",
    "    if sumatorio == 0:\n",
    "        return None\n",
    "    return capital / sumatorio\n",
    "\n",
    "def calcular_primas_jubilacion(salario, edad, años_trabajados, interes1, interes2, duración_interes1, interes_rendimiento1, interes_rendimiento2, duración_interés_rendimiento1, fecha_jubilación= None):\n",
    "    import datetime as dt\n",
    "    import pandas as pd\n",
    "    import pickle\n",
    "    with open(\"notebooks/Data Mining/modelo.pkl\", \"rb\") as f:\n",
    "        modelo = pickle.load(f)\n",
    "    if fecha_jubilación is None:\n",
    "        X_pred = pd.DataFrame({'Edad': [edad], 'Ingreso Anual (€)': [salario]})\n",
    "        años_hasta_jubilacion = modelo.predict(X_pred)[0]  # Predecimos los años hasta la jubilación\n",
    "        fecha_jubilacion = dt.date(2025, 1, 1) + dt.timedelta(days=años_hasta_jubilacion * 365)\n",
    "    else:\n",
    "        fecha_jubilacion = pd.to_datetime(fecha_jubilación).date()\n",
    "        años_hasta_jubilacion = (fecha_jubilacion - dt.date(2025, 1, 1)).days / 365  # 🔹 Cálculo corregido 🔹\n",
    "        \n",
    "    salario_final= calculo_nomina(salario, años_hasta_jubilacion)\n",
    "    porcentaje_renta = min((años_trabajados // 4) * 0.0225, 0.19)\n",
    "    m1 = (salario_final * porcentaje_renta)/12\n",
    "    date_range = pd.date_range(start=fecha_jubilacion, periods=22*12, freq='MS')\n",
    "    date_list = date_range.strftime('%Y-%m').tolist()\n",
    "    intereses= []\n",
    "    int1= ((1+ (interes1*0.01))**(1/12))-1\n",
    "    int2= ((1+ (interes2*0.01))**(1/12))-1\n",
    "    año1 = duración_interes1[0]\n",
    "    mes1= duración_interes1[1]\n",
    "    for i in range(0, año1*12+ mes1):\n",
    "        intereses.append(int1)\n",
    "    for i in range(0, (22*12) - (año1*12+ mes1)):\n",
    "        intereses.append(int2)\n",
    "    rentas = []\n",
    "    valor =m1\n",
    "    for fecha in date_list:\n",
    "        mes = fecha[-2:] \n",
    "        if mes == '01':\n",
    "            valor *= 1.03 \n",
    "        rentas.append(valor)\n",
    "    df = pd.DataFrame({'Fecha': date_list, 'Intereses': intereses, 'Pagos': rentas})\n",
    "    capital_jubilacion = 0\n",
    "    for i in range(len(df)-1, -1, -1):\n",
    "        renta = float(df.iloc[i,2]) * (1+float(df.iloc[i,1]))**-1\n",
    "        for interes in range(i, -1, -1):\n",
    "            renta = renta * (1+float(df.iloc[interes,1]))**-1\n",
    "        capital_jubilacion += renta\n",
    "    #pasarlo a 2025\n",
    "    fechas = pd.date_range(start='2025-01-01', end=fecha_jubilacion, freq='MS')\n",
    "    fechas_formateadas = fechas.strftime('%Y-%m')\n",
    "    \n",
    "    int_ren1= ((1+ (interes_rendimiento1*0.01))**(1/12))-1\n",
    "    int_ren2= ((1+ (interes_rendimiento2*0.01))**(1/12))-1\n",
    "    año2= duración_interés_rendimiento1[0]\n",
    "    mes2= duración_interés_rendimiento1[1]\n",
    "    \n",
    "    intereses1= []\n",
    "    for i in range(0, año2*12+mes2):\n",
    "        intereses1.append(int_ren1)\n",
    "    for i in range(0, len(fechas_formateadas) - 7*12):\n",
    "        intereses1.append(int_ren2)\n",
    "    \n",
    "    df1 = pd.DataFrame({'Fecha': fechas_formateadas, 'Intereses': intereses1})\n",
    "    \n",
    "    capital_actual= capital_jubilacion\n",
    "    for i in range(len(df1)-1, -1, -1):\n",
    "        capital_actual = capital_actual * (1+float(df1.iloc[i,1]))**-1\n",
    "    \n",
    "    monto_mensual = calcular_monto_mensual(capital_jubilacion, df1['Intereses'].tolist())\n",
    "        \n",
    "    return capital_jubilacion, capital_actual, monto_mensual\n"
   ]
  },
  {
   "cell_type": "code",
   "execution_count": 33,
   "metadata": {},
   "outputs": [
    {
     "name": "stdout",
     "output_type": "stream",
     "text": [
      "(107665.69921202921, 78981.5743038414, 554.8229170516299)\n"
     ]
    }
   ],
   "source": [
    "print(calcular_primas_jubilacion(15319.07,51,36,2,1.5, [6,9], 2.5, 2, [7,0], '2038-11-20'))"
   ]
  },
  {
   "cell_type": "code",
   "execution_count": 34,
   "metadata": {},
   "outputs": [
    {
     "name": "stdout",
     "output_type": "stream",
     "text": [
      "(107929.62240047324, 79044.63485385975, 552.4267194215648)\n"
     ]
    }
   ],
   "source": [
    "print(calcular_primas_jubilacion(15319.07,51,36,2,1.5, [6,9], 2.5, 2, [7,0]))"
   ]
  }
 ],
 "metadata": {
  "kernelspec": {
   "display_name": ".venv",
   "language": "python",
   "name": "python3"
  },
  "language_info": {
   "codemirror_mode": {
    "name": "ipython",
    "version": 3
   },
   "file_extension": ".py",
   "mimetype": "text/x-python",
   "name": "python",
   "nbconvert_exporter": "python",
   "pygments_lexer": "ipython3",
   "version": "3.13.1"
  }
 },
 "nbformat": 4,
 "nbformat_minor": 2
}
