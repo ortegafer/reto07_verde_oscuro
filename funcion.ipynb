{
 "cells": [
  {
   "cell_type": "code",
   "execution_count": 2,
   "metadata": {},
   "outputs": [],
   "source": [
    "def calculo_nomina(salario_actual, años_hasta_jubilación):\n",
    "    import math\n",
    "    import pandas as pd\n",
    "    redondeado = math.floor(años_hasta_jubilación)\n",
    "    salario = salario_actual\n",
    "    ipc= pd.read_excel('Datos/Originales/Dataset_1.xlsx', sheet_name='IPC')\n",
    "    for i in range(0, redondeado):\n",
    "        salario = salario + salario*ipc.iloc[i,1]\n",
    "    return float(salario)"
   ]
  },
  {
   "cell_type": "code",
   "execution_count": 3,
   "metadata": {},
   "outputs": [
    {
     "data": {
      "text/plain": [
       "22228.62105163274"
      ]
     },
     "execution_count": 3,
     "metadata": {},
     "output_type": "execute_result"
    }
   ],
   "source": [
    "calculo_nomina(15319.07, 13)"
   ]
  },
  {
   "cell_type": "code",
   "execution_count": 105,
   "metadata": {},
   "outputs": [],
   "source": [
    "def calcular_primas_jubilacion(salario, años_trabajados, años_hasta_jubilacion, fecha_jubilación):\n",
    "    salario_final= calculo_nomina(salario, años_hasta_jubilacion)\n",
    "    porcentaje_renta = min((años_trabajados // 4) * 0.0225, 0.19)\n",
    "    m1 = (salario_final * porcentaje_renta)/12\n",
    "    import datetime as dt\n",
    "    import pandas as pd\n",
    "    date_range = pd.date_range(start=fecha_jubilación, periods=22*12, freq='MS')\n",
    "    date_list = date_range.strftime('%Y-%m').tolist()\n",
    "    intereses= []\n",
    "    for i in range(0, 6*12+9):\n",
    "        intereses.append(0.00165)\n",
    "    for i in range(0, (22*12) - (6*12+9)):\n",
    "        intereses.append(0.00124)\n",
    "    df = pd.DataFrame({'Fecha': date_list, 'Intereses': intereses})\n",
    "    \n",
    "    return df, m1"
   ]
  },
  {
   "cell_type": "code",
   "execution_count": 106,
   "metadata": {},
   "outputs": [
    {
     "data": {
      "text/plain": [
       "(       Fecha  Intereses\n",
       " 0    2038-12    0.00165\n",
       " 1    2039-01    0.00165\n",
       " 2    2039-02    0.00165\n",
       " 3    2039-03    0.00165\n",
       " 4    2039-04    0.00165\n",
       " ..       ...        ...\n",
       " 259  2060-07    0.00124\n",
       " 260  2060-08    0.00124\n",
       " 261  2060-09    0.00124\n",
       " 262  2060-10    0.00124\n",
       " 263  2060-11    0.00124\n",
       " \n",
       " [264 rows x 2 columns],\n",
       " 351.9531666508517)"
      ]
     },
     "execution_count": 106,
     "metadata": {},
     "output_type": "execute_result"
    }
   ],
   "source": [
    "calcular_primas_jubilacion(15319.07,36,13.55, '2038-11-20')"
   ]
  },
  {
   "cell_type": "code",
   "execution_count": 6,
   "metadata": {},
   "outputs": [],
   "source": [
    "años_trabajados= 36\n",
    "salario_final= 1852.38"
   ]
  },
  {
   "cell_type": "code",
   "execution_count": 59,
   "metadata": {},
   "outputs": [],
   "source": [
    "intereses= []"
   ]
  },
  {
   "cell_type": "code",
   "execution_count": 82,
   "metadata": {},
   "outputs": [],
   "source": [
    "fecha_jubilación= '2038-11-22'"
   ]
  },
  {
   "cell_type": "code",
   "execution_count": null,
   "metadata": {},
   "outputs": [],
   "source": [
    "import pandas as pd\n",
    "import datetime as dt"
   ]
  },
  {
   "cell_type": "code",
   "execution_count": 89,
   "metadata": {},
   "outputs": [],
   "source": [
    "date_range = pd.date_range(start=fecha_jubilación, periods=22*12, freq='MS')\n",
    "\n",
    "date_list = date_range.strftime('%Y-%m').tolist()"
   ]
  },
  {
   "cell_type": "code",
   "execution_count": 73,
   "metadata": {},
   "outputs": [
    {
     "data": {
      "text/plain": [
       "183"
      ]
     },
     "execution_count": 73,
     "metadata": {},
     "output_type": "execute_result"
    }
   ],
   "source": [
    "(22*12) - (6*12+9)"
   ]
  },
  {
   "cell_type": "code",
   "execution_count": 91,
   "metadata": {},
   "outputs": [],
   "source": [
    "intereses= []"
   ]
  },
  {
   "cell_type": "code",
   "execution_count": 92,
   "metadata": {},
   "outputs": [],
   "source": [
    "for i in range(0, 6*12+9):\n",
    "    intereses.append(0.00165)\n",
    "for i in range(0, (22*12) - (6*12+9)):\n",
    "    intereses.append(0.00124)"
   ]
  },
  {
   "cell_type": "code",
   "execution_count": 101,
   "metadata": {},
   "outputs": [],
   "source": [
    "df = pd.DataFrame({'Fecha': date_list, 'Intereses': intereses})"
   ]
  },
  {
   "cell_type": "code",
   "execution_count": null,
   "metadata": {},
   "outputs": [],
   "source": [
    "df"
   ]
  },
  {
   "cell_type": "code",
   "execution_count": 115,
   "metadata": {},
   "outputs": [
    {
     "ename": "AttributeError",
     "evalue": "'str' object has no attribute 'str'",
     "output_type": "error",
     "traceback": [
      "\u001b[1;31m---------------------------------------------------------------------------\u001b[0m",
      "\u001b[1;31mAttributeError\u001b[0m                            Traceback (most recent call last)",
      "Cell \u001b[1;32mIn[115], line 1\u001b[0m\n\u001b[1;32m----> 1\u001b[0m \u001b[43mdf\u001b[49m\u001b[38;5;241;43m.\u001b[39;49m\u001b[43mloc\u001b[49m\u001b[43m[\u001b[49m\u001b[38;5;241;43m0\u001b[39;49m\u001b[43m,\u001b[49m\u001b[43m \u001b[49m\u001b[38;5;124;43m'\u001b[39;49m\u001b[38;5;124;43mFecha\u001b[39;49m\u001b[38;5;124;43m'\u001b[39;49m\u001b[43m]\u001b[49m\u001b[38;5;241;43m.\u001b[39;49m\u001b[43mstr\u001b[49m\u001b[38;5;241m.\u001b[39msplit(\u001b[38;5;124m'\u001b[39m\u001b[38;5;124m-\u001b[39m\u001b[38;5;124m'\u001b[39m)\u001b[38;5;241m.\u001b[39mstr[\u001b[38;5;241m1\u001b[39m] \n",
      "\u001b[1;31mAttributeError\u001b[0m: 'str' object has no attribute 'str'"
     ]
    }
   ],
   "source": [
    "df.loc[0, 'Fecha'].str.split('-').str[1] "
   ]
  },
  {
   "cell_type": "code",
   "execution_count": null,
   "metadata": {},
   "outputs": [],
   "source": [
    "df['Mes'] = df['Fecha'].str.split('-').str[1]  # Extrae el mes como texto\n",
    "print(df)\n"
   ]
  }
 ],
 "metadata": {
  "kernelspec": {
   "display_name": ".venv",
   "language": "python",
   "name": "python3"
  },
  "language_info": {
   "codemirror_mode": {
    "name": "ipython",
    "version": 3
   },
   "file_extension": ".py",
   "mimetype": "text/x-python",
   "name": "python",
   "nbconvert_exporter": "python",
   "pygments_lexer": "ipython3",
   "version": "3.13.1"
  }
 },
 "nbformat": 4,
 "nbformat_minor": 2
}
