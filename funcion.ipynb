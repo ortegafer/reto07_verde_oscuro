{
 "cells": [
  {
   "cell_type": "code",
   "execution_count": 56,
   "metadata": {},
   "outputs": [],
   "source": [
    "def calculo_nomina(salario_actual, años_hasta_jubilación):\n",
    "    import math\n",
    "    import pandas as pd\n",
    "    redondeado = math.floor(años_hasta_jubilación)\n",
    "    salario = salario_actual\n",
    "    ipc= pd.read_excel('Datos/Originales/Dataset_1.xlsx', sheet_name='IPC')\n",
    "    for i in range(0, redondeado):\n",
    "        salario = salario + salario*ipc.iloc[i,1]\n",
    "    return float(salario)"
   ]
  },
  {
   "cell_type": "code",
   "execution_count": 57,
   "metadata": {},
   "outputs": [
    {
     "data": {
      "text/plain": [
       "22228.62105163274"
      ]
     },
     "execution_count": 57,
     "metadata": {},
     "output_type": "execute_result"
    }
   ],
   "source": [
    "calculo_nomina(15319.07, 13)"
   ]
  },
  {
   "cell_type": "code",
   "execution_count": 58,
   "metadata": {},
   "outputs": [],
   "source": [
    "def calcular_monto_mensual(capital, intereses):\n",
    "    n_periodos = len(intereses)\n",
    "    sumatorio = sum((1 + intereses[i]) ** (i + 1) for i in range(n_periodos))\n",
    "    if sumatorio == 0:\n",
    "        return None\n",
    "    return capital / sumatorio"
   ]
  },
  {
   "cell_type": "code",
   "execution_count": 59,
   "metadata": {},
   "outputs": [],
   "source": [
    "def calcular_primas_jubilacion(salario, años_trabajados, años_hasta_jubilacion, fecha_jubilación, interes1, interes2, duración_interes1, interes_rendimiento1, interes_rendimiento2, duración_interés_rendimiento1):\n",
    "    salario_final= calculo_nomina(salario, años_hasta_jubilacion)\n",
    "    porcentaje_renta = min((años_trabajados // 4) * 0.0225, 0.19)\n",
    "    m1 = (salario_final * porcentaje_renta)/12\n",
    "    import datetime as dt\n",
    "    import pandas as pd\n",
    "    date_range = pd.date_range(start=fecha_jubilación, periods=22*12, freq='MS')\n",
    "    date_list = date_range.strftime('%Y-%m').tolist()\n",
    "    intereses= []\n",
    "    int1= ((1+ (interes1*0.01))**(1/12))-1\n",
    "    int2= ((1+ (interes2*0.01))**(1/12))-1\n",
    "    año1 = duración_interes1[0]\n",
    "    mes1= duración_interes1[1]\n",
    "    for i in range(0, año1*12+ mes1):\n",
    "        intereses.append(int1)\n",
    "    for i in range(0, (22*12) - (año1*12+ mes1)):\n",
    "        intereses.append(int2)\n",
    "    rentas = []\n",
    "    valor =m1\n",
    "    for fecha in date_list:\n",
    "        mes = fecha[-2:] \n",
    "        if mes == '01':\n",
    "            valor *= 1.03 \n",
    "        rentas.append(valor)\n",
    "    df = pd.DataFrame({'Fecha': date_list, 'Intereses': intereses, 'Pagos': rentas})\n",
    "    capital_jubilacion = 0\n",
    "    for i in range(len(df)-1, -1, -1):\n",
    "        renta = float(df.iloc[i,2]) * (1+float(df.iloc[i,1]))**-1\n",
    "        for interes in range(i, -1, -1):\n",
    "            renta = renta * (1+float(df.iloc[interes,1]))**-1\n",
    "        capital_jubilacion += renta\n",
    "    #pasarlo a 2025\n",
    "    fechas = pd.date_range(start='2025-01-01', end=fecha_jubilación, freq='MS')\n",
    "    fechas_formateadas = fechas.strftime('%Y-%m')\n",
    "    \n",
    "    int_ren1= ((1+ (interes_rendimiento1*0.01))**(1/12))-1\n",
    "    int_ren2= ((1+ (interes_rendimiento2*0.01))**(1/12))-1\n",
    "    año2= duración_interés_rendimiento1[0]\n",
    "    mes2= duración_interés_rendimiento1[1]\n",
    "    \n",
    "    intereses1= []\n",
    "    for i in range(0, año2*12+mes2):\n",
    "        intereses1.append(int_ren1)\n",
    "    for i in range(0, len(fechas_formateadas) - 7*12):\n",
    "        intereses1.append(int_ren2)\n",
    "    \n",
    "    df1 = pd.DataFrame({'Fecha': fechas_formateadas, 'Intereses': intereses1})\n",
    "    \n",
    "    capital_actual= capital_jubilacion\n",
    "    for i in range(len(df1)-1, -1, -1):\n",
    "        capital_actual = capital_actual * (1+float(df1.iloc[i,1]))**-1\n",
    "    \n",
    "    monto_mensual = calcular_monto_mensual(capital_jubilacion, df1['Intereses'].tolist())\n",
    "        \n",
    "    return capital_jubilacion, capital_actual, monto_mensual"
   ]
  },
  {
   "cell_type": "code",
   "execution_count": 62,
   "metadata": {},
   "outputs": [
    {
     "data": {
      "text/plain": [
       "(107665.69921202921, 78981.5743038414, 554.8229170516299)"
      ]
     },
     "execution_count": 62,
     "metadata": {},
     "output_type": "execute_result"
    }
   ],
   "source": [
    "calcular_primas_jubilacion(15319.07,36,13.55, '2038-11-20',2,1.5, [6,9], 2.5, 2, [7,0])"
   ]
  },
  {
   "cell_type": "code",
   "execution_count": 10,
   "metadata": {},
   "outputs": [],
   "source": [
    "años_trabajados= 36\n",
    "salario_final= 1852.38"
   ]
  },
  {
   "cell_type": "code",
   "execution_count": 11,
   "metadata": {},
   "outputs": [],
   "source": [
    "intereses= []"
   ]
  },
  {
   "cell_type": "code",
   "execution_count": 12,
   "metadata": {},
   "outputs": [],
   "source": [
    "import pandas as pd\n",
    "import datetime as dt"
   ]
  },
  {
   "cell_type": "code",
   "execution_count": 13,
   "metadata": {},
   "outputs": [],
   "source": [
    "fechas = pd.date_range(start='2025-01-01', end='2038-10-22', freq='MS')\n",
    "fechas_formateadas = fechas.strftime('%Y-%m')\n",
    "\n",
    "intereses1= []\n",
    "for i in range(0, 7*12):\n",
    "    intereses1.append(0.00165)\n",
    "for i in range(0, len(fechas_formateadas) - 7*12):\n",
    "    intereses1.append(0.00205)\n",
    "\n",
    "df1 = pd.DataFrame({'Fecha': fechas_formateadas, 'Intereses': intereses1})"
   ]
  },
  {
   "cell_type": "code",
   "execution_count": 14,
   "metadata": {},
   "outputs": [
    {
     "data": {
      "application/vnd.microsoft.datawrangler.viewer.v0+json": {
       "columns": [
        {
         "name": "index",
         "rawType": "int64",
         "type": "integer"
        },
        {
         "name": "Fecha",
         "rawType": "object",
         "type": "string"
        },
        {
         "name": "Intereses",
         "rawType": "float64",
         "type": "float"
        }
       ],
       "conversionMethod": "pd.DataFrame",
       "ref": "a80a9453-e201-4066-82db-0f1cb79a0e0b",
       "rows": [
        [
         "0",
         "2025-01",
         "0.00165"
        ],
        [
         "1",
         "2025-02",
         "0.00165"
        ],
        [
         "2",
         "2025-03",
         "0.00165"
        ],
        [
         "3",
         "2025-04",
         "0.00165"
        ],
        [
         "4",
         "2025-05",
         "0.00165"
        ],
        [
         "5",
         "2025-06",
         "0.00165"
        ],
        [
         "6",
         "2025-07",
         "0.00165"
        ],
        [
         "7",
         "2025-08",
         "0.00165"
        ],
        [
         "8",
         "2025-09",
         "0.00165"
        ],
        [
         "9",
         "2025-10",
         "0.00165"
        ],
        [
         "10",
         "2025-11",
         "0.00165"
        ],
        [
         "11",
         "2025-12",
         "0.00165"
        ],
        [
         "12",
         "2026-01",
         "0.00165"
        ],
        [
         "13",
         "2026-02",
         "0.00165"
        ],
        [
         "14",
         "2026-03",
         "0.00165"
        ],
        [
         "15",
         "2026-04",
         "0.00165"
        ],
        [
         "16",
         "2026-05",
         "0.00165"
        ],
        [
         "17",
         "2026-06",
         "0.00165"
        ],
        [
         "18",
         "2026-07",
         "0.00165"
        ],
        [
         "19",
         "2026-08",
         "0.00165"
        ],
        [
         "20",
         "2026-09",
         "0.00165"
        ],
        [
         "21",
         "2026-10",
         "0.00165"
        ],
        [
         "22",
         "2026-11",
         "0.00165"
        ],
        [
         "23",
         "2026-12",
         "0.00165"
        ],
        [
         "24",
         "2027-01",
         "0.00165"
        ],
        [
         "25",
         "2027-02",
         "0.00165"
        ],
        [
         "26",
         "2027-03",
         "0.00165"
        ],
        [
         "27",
         "2027-04",
         "0.00165"
        ],
        [
         "28",
         "2027-05",
         "0.00165"
        ],
        [
         "29",
         "2027-06",
         "0.00165"
        ],
        [
         "30",
         "2027-07",
         "0.00165"
        ],
        [
         "31",
         "2027-08",
         "0.00165"
        ],
        [
         "32",
         "2027-09",
         "0.00165"
        ],
        [
         "33",
         "2027-10",
         "0.00165"
        ],
        [
         "34",
         "2027-11",
         "0.00165"
        ],
        [
         "35",
         "2027-12",
         "0.00165"
        ],
        [
         "36",
         "2028-01",
         "0.00165"
        ],
        [
         "37",
         "2028-02",
         "0.00165"
        ],
        [
         "38",
         "2028-03",
         "0.00165"
        ],
        [
         "39",
         "2028-04",
         "0.00165"
        ],
        [
         "40",
         "2028-05",
         "0.00165"
        ],
        [
         "41",
         "2028-06",
         "0.00165"
        ],
        [
         "42",
         "2028-07",
         "0.00165"
        ],
        [
         "43",
         "2028-08",
         "0.00165"
        ],
        [
         "44",
         "2028-09",
         "0.00165"
        ],
        [
         "45",
         "2028-10",
         "0.00165"
        ],
        [
         "46",
         "2028-11",
         "0.00165"
        ],
        [
         "47",
         "2028-12",
         "0.00165"
        ],
        [
         "48",
         "2029-01",
         "0.00165"
        ],
        [
         "49",
         "2029-02",
         "0.00165"
        ]
       ],
       "shape": {
        "columns": 2,
        "rows": 166
       }
      },
      "text/html": [
       "<div>\n",
       "<style scoped>\n",
       "    .dataframe tbody tr th:only-of-type {\n",
       "        vertical-align: middle;\n",
       "    }\n",
       "\n",
       "    .dataframe tbody tr th {\n",
       "        vertical-align: top;\n",
       "    }\n",
       "\n",
       "    .dataframe thead th {\n",
       "        text-align: right;\n",
       "    }\n",
       "</style>\n",
       "<table border=\"1\" class=\"dataframe\">\n",
       "  <thead>\n",
       "    <tr style=\"text-align: right;\">\n",
       "      <th></th>\n",
       "      <th>Fecha</th>\n",
       "      <th>Intereses</th>\n",
       "    </tr>\n",
       "  </thead>\n",
       "  <tbody>\n",
       "    <tr>\n",
       "      <th>0</th>\n",
       "      <td>2025-01</td>\n",
       "      <td>0.00165</td>\n",
       "    </tr>\n",
       "    <tr>\n",
       "      <th>1</th>\n",
       "      <td>2025-02</td>\n",
       "      <td>0.00165</td>\n",
       "    </tr>\n",
       "    <tr>\n",
       "      <th>2</th>\n",
       "      <td>2025-03</td>\n",
       "      <td>0.00165</td>\n",
       "    </tr>\n",
       "    <tr>\n",
       "      <th>3</th>\n",
       "      <td>2025-04</td>\n",
       "      <td>0.00165</td>\n",
       "    </tr>\n",
       "    <tr>\n",
       "      <th>4</th>\n",
       "      <td>2025-05</td>\n",
       "      <td>0.00165</td>\n",
       "    </tr>\n",
       "    <tr>\n",
       "      <th>...</th>\n",
       "      <td>...</td>\n",
       "      <td>...</td>\n",
       "    </tr>\n",
       "    <tr>\n",
       "      <th>161</th>\n",
       "      <td>2038-06</td>\n",
       "      <td>0.00205</td>\n",
       "    </tr>\n",
       "    <tr>\n",
       "      <th>162</th>\n",
       "      <td>2038-07</td>\n",
       "      <td>0.00205</td>\n",
       "    </tr>\n",
       "    <tr>\n",
       "      <th>163</th>\n",
       "      <td>2038-08</td>\n",
       "      <td>0.00205</td>\n",
       "    </tr>\n",
       "    <tr>\n",
       "      <th>164</th>\n",
       "      <td>2038-09</td>\n",
       "      <td>0.00205</td>\n",
       "    </tr>\n",
       "    <tr>\n",
       "      <th>165</th>\n",
       "      <td>2038-10</td>\n",
       "      <td>0.00205</td>\n",
       "    </tr>\n",
       "  </tbody>\n",
       "</table>\n",
       "<p>166 rows × 2 columns</p>\n",
       "</div>"
      ],
      "text/plain": [
       "       Fecha  Intereses\n",
       "0    2025-01    0.00165\n",
       "1    2025-02    0.00165\n",
       "2    2025-03    0.00165\n",
       "3    2025-04    0.00165\n",
       "4    2025-05    0.00165\n",
       "..       ...        ...\n",
       "161  2038-06    0.00205\n",
       "162  2038-07    0.00205\n",
       "163  2038-08    0.00205\n",
       "164  2038-09    0.00205\n",
       "165  2038-10    0.00205\n",
       "\n",
       "[166 rows x 2 columns]"
      ]
     },
     "execution_count": 14,
     "metadata": {},
     "output_type": "execute_result"
    }
   ],
   "source": [
    "df1"
   ]
  },
  {
   "cell_type": "code",
   "execution_count": null,
   "metadata": {},
   "outputs": [
    {
     "data": {
      "text/plain": [
       "'2032-01'"
      ]
     },
     "execution_count": 19,
     "metadata": {},
     "output_type": "execute_result"
    }
   ],
   "source": [
    "df1.iloc[84,0]"
   ]
  },
  {
   "cell_type": "code",
   "execution_count": 49,
   "metadata": {},
   "outputs": [
    {
     "name": "stdout",
     "output_type": "stream",
     "text": [
      "El monto mensual a pagar es: 548.41\n"
     ]
    }
   ],
   "source": [
    "import pandas as pd\n",
    "\n",
    "def calcular_monto_mensual(capital, intereses):\n",
    "    n_periodos = len(intereses)\n",
    "    sumatorio = sum((1 + intereses[i]) ** (i + 1) for i in range(n_periodos))\n",
    "    if sumatorio == 0:\n",
    "        return None\n",
    "    return capital / sumatorio\n",
    "\n",
    "# Generación del DataFrame\n",
    "fechas = pd.date_range(start='2025-01-01', end='2038-10-22', freq='MS')\n",
    "fechas_formateadas = fechas.strftime('%Y-%m')\n",
    "\n",
    "intereses1 = []\n",
    "for i in range(0, 7*12):\n",
    "    intereses1.append(0.00165)\n",
    "for i in range(0, len(fechas_formateadas) - 7*12):\n",
    "    intereses1.append(0.00205)\n",
    "\n",
    "df1 = pd.DataFrame({'Fecha': fechas_formateadas, 'Intereses': intereses1})\n",
    "\n",
    "# Aplicación de la función\n",
    "capital = 107665.69  # Monto de capital\n",
    "monto_mensual = calcular_monto_mensual(capital, df1['Intereses'].tolist())\n",
    "\n",
    "print(f\"El monto mensual a pagar es: {monto_mensual:.2f}\")"
   ]
  },
  {
   "cell_type": "code",
   "execution_count": null,
   "metadata": {},
   "outputs": [
    {
     "name": "stdout",
     "output_type": "stream",
     "text": [
      "El monto mensual a pagar es: 556.72\n"
     ]
    }
   ],
   "source": [
    "import pandas as pd\n",
    "\n",
    "def calcular_monto_mensual(capital, intereses):\n",
    "    n_periodos = len(intereses)\n",
    "    sumatorio = sum((1 + intereses[i]) ** -(i + 1) for i in range(n_periodos))\n",
    "    if sumatorio == 0:\n",
    "        return None\n",
    "    return capital / sumatorio\n",
    "\n",
    "# Generación del DataFrame\n",
    "fechas = pd.date_range(start='2025-01-01', end='2038-10-22', freq='MS')\n",
    "fechas_formateadas = fechas.strftime('%Y-%m')\n",
    "\n",
    "intereses1 = []\n",
    "for i in range(0, 7*12):\n",
    "    intereses1.append(0.00165)\n",
    "for i in range(0, len(fechas_formateadas) - 7*12):\n",
    "    intereses1.append(0.00205)\n",
    "\n",
    "df1 = pd.DataFrame({'Fecha': fechas_formateadas, 'Intereses': intereses1})\n",
    "\n",
    "# Aplicación de la función\n",
    "capital = 78981.57  # Monto de capital\n",
    "monto_mensual = calcular_monto_mensual(capital, df1['Intereses'].tolist())\n",
    "\n",
    "print(f\"El monto mensual a pagar es: {monto_mensual:.2f}\")"
   ]
  },
  {
   "cell_type": "code",
   "execution_count": null,
   "metadata": {},
   "outputs": [
    {
     "data": {
      "text/plain": [
       "79073.04519760338"
      ]
     },
     "execution_count": 20,
     "metadata": {},
     "output_type": "execute_result"
    }
   ],
   "source": [
    "capital_actual= 107424.2299376918\n",
    "for i in range(len(df1)-1, -1, -1):\n",
    "    capital_actual = capital_actual * (1+float(df1.iloc[i,1]))**-1\n",
    "\n",
    "capital_actual\n"
   ]
  },
  {
   "cell_type": "code",
   "execution_count": null,
   "metadata": {},
   "outputs": [
    {
     "name": "stdout",
     "output_type": "stream",
     "text": [
      "166\n",
      "165\n",
      "164\n",
      "163\n",
      "162\n",
      "161\n",
      "160\n",
      "159\n",
      "158\n",
      "157\n",
      "156\n",
      "155\n",
      "154\n",
      "153\n",
      "152\n",
      "151\n",
      "150\n",
      "149\n",
      "148\n",
      "147\n",
      "146\n",
      "145\n",
      "144\n",
      "143\n",
      "142\n",
      "141\n",
      "140\n",
      "139\n",
      "138\n",
      "137\n",
      "136\n",
      "135\n",
      "134\n",
      "133\n",
      "132\n",
      "131\n",
      "130\n",
      "129\n",
      "128\n",
      "127\n",
      "126\n",
      "125\n",
      "124\n",
      "123\n",
      "122\n",
      "121\n",
      "120\n",
      "119\n",
      "118\n",
      "117\n",
      "116\n",
      "115\n",
      "114\n",
      "113\n",
      "112\n",
      "111\n",
      "110\n",
      "109\n",
      "108\n",
      "107\n",
      "106\n",
      "105\n",
      "104\n",
      "103\n",
      "102\n",
      "101\n",
      "100\n",
      "99\n",
      "98\n",
      "97\n",
      "96\n",
      "95\n",
      "94\n",
      "93\n",
      "92\n",
      "91\n",
      "90\n",
      "89\n",
      "88\n",
      "87\n",
      "86\n",
      "85\n",
      "84\n",
      "83\n"
     ]
    }
   ],
   "source": [
    "for i in range(len(df1), len(df1)-7*12, -1):\n",
    "    print(i)"
   ]
  },
  {
   "cell_type": "code",
   "execution_count": null,
   "metadata": {},
   "outputs": [
    {
     "data": {
      "text/plain": [
       "84"
      ]
     },
     "execution_count": 37,
     "metadata": {},
     "output_type": "execute_result"
    }
   ],
   "source": [
    "7*12"
   ]
  },
  {
   "cell_type": "code",
   "execution_count": null,
   "metadata": {},
   "outputs": [
    {
     "name": "stdout",
     "output_type": "stream",
     "text": [
      "85\n",
      "86\n",
      "87\n",
      "88\n",
      "89\n",
      "90\n",
      "91\n",
      "92\n",
      "93\n",
      "94\n",
      "95\n",
      "96\n",
      "97\n",
      "98\n",
      "99\n",
      "100\n",
      "101\n",
      "102\n",
      "103\n",
      "104\n",
      "105\n",
      "106\n",
      "107\n",
      "108\n",
      "109\n",
      "110\n",
      "111\n",
      "112\n",
      "113\n",
      "114\n",
      "115\n",
      "116\n",
      "117\n",
      "118\n",
      "119\n",
      "120\n",
      "121\n",
      "122\n",
      "123\n",
      "124\n",
      "125\n",
      "126\n",
      "127\n",
      "128\n",
      "129\n",
      "130\n",
      "131\n",
      "132\n",
      "133\n",
      "134\n",
      "135\n",
      "136\n",
      "137\n",
      "138\n",
      "139\n",
      "140\n",
      "141\n",
      "142\n",
      "143\n",
      "144\n",
      "145\n",
      "146\n",
      "147\n",
      "148\n",
      "149\n",
      "150\n",
      "151\n",
      "152\n",
      "153\n",
      "154\n",
      "155\n",
      "156\n",
      "157\n",
      "158\n",
      "159\n",
      "160\n",
      "161\n",
      "162\n",
      "163\n",
      "164\n",
      "165\n"
     ]
    }
   ],
   "source": [
    "for i in range(7*12+1,len(df1)):\n",
    "    print(i)"
   ]
  },
  {
   "cell_type": "code",
   "execution_count": null,
   "metadata": {},
   "outputs": [
    {
     "name": "stdout",
     "output_type": "stream",
     "text": [
      "1\n",
      "2\n",
      "3\n",
      "4\n",
      "5\n",
      "6\n",
      "7\n",
      "8\n",
      "9\n",
      "10\n",
      "11\n",
      "12\n",
      "13\n",
      "14\n",
      "15\n",
      "16\n",
      "17\n",
      "18\n",
      "19\n",
      "20\n",
      "21\n",
      "22\n",
      "23\n",
      "24\n",
      "25\n",
      "26\n",
      "27\n",
      "28\n",
      "29\n",
      "30\n",
      "31\n",
      "32\n",
      "33\n",
      "34\n",
      "35\n",
      "36\n",
      "37\n",
      "38\n",
      "39\n",
      "40\n",
      "41\n",
      "42\n",
      "43\n",
      "44\n",
      "45\n",
      "46\n",
      "47\n",
      "48\n",
      "49\n",
      "50\n",
      "51\n",
      "52\n",
      "53\n",
      "54\n",
      "55\n",
      "56\n",
      "57\n",
      "58\n",
      "59\n",
      "60\n",
      "61\n",
      "62\n",
      "63\n",
      "64\n",
      "65\n",
      "66\n",
      "67\n",
      "68\n",
      "69\n",
      "70\n",
      "71\n",
      "72\n",
      "73\n",
      "74\n",
      "75\n",
      "76\n",
      "77\n",
      "78\n",
      "79\n",
      "80\n",
      "81\n",
      "82\n"
     ]
    }
   ],
   "source": [
    "for e in range(1,len(df1)-7*12+1):\n",
    "    print(e)"
   ]
  },
  {
   "cell_type": "code",
   "execution_count": null,
   "metadata": {},
   "outputs": [
    {
     "name": "stdout",
     "output_type": "stream",
     "text": [
      "1\n",
      "2\n",
      "3\n",
      "4\n",
      "5\n",
      "6\n",
      "7\n",
      "8\n",
      "9\n",
      "10\n",
      "11\n",
      "12\n",
      "13\n",
      "14\n",
      "15\n",
      "16\n",
      "17\n",
      "18\n",
      "19\n",
      "20\n",
      "21\n",
      "22\n",
      "23\n",
      "24\n",
      "25\n",
      "26\n",
      "27\n",
      "28\n",
      "29\n",
      "30\n",
      "31\n",
      "32\n",
      "33\n",
      "34\n",
      "35\n",
      "36\n",
      "37\n",
      "38\n",
      "39\n",
      "40\n",
      "41\n",
      "42\n",
      "43\n",
      "44\n",
      "45\n",
      "46\n",
      "47\n",
      "48\n",
      "49\n",
      "50\n",
      "51\n",
      "52\n",
      "53\n",
      "54\n",
      "55\n",
      "56\n",
      "57\n",
      "58\n",
      "59\n",
      "60\n",
      "61\n",
      "62\n",
      "63\n",
      "64\n",
      "65\n",
      "66\n",
      "67\n",
      "68\n",
      "69\n",
      "70\n",
      "71\n",
      "72\n",
      "73\n",
      "74\n",
      "75\n",
      "76\n",
      "77\n",
      "78\n",
      "79\n",
      "80\n",
      "81\n"
     ]
    }
   ],
   "source": [
    "for e in range(1,len(df1)-7*12):\n",
    "    print(e)"
   ]
  },
  {
   "cell_type": "code",
   "execution_count": 16,
   "metadata": {},
   "outputs": [],
   "source": [
    "capital1= 0\n",
    "for i in range(7*12+1,len(df1)):\n",
    "    for e in range(1,len(df1)-7*12):\n",
    "        capital1 += (1+float(df1.iloc[i,1]))**(-e)*((1+0.00165)**(-e))"
   ]
  },
  {
   "cell_type": "code",
   "execution_count": 17,
   "metadata": {},
   "outputs": [
    {
     "data": {
      "text/plain": [
       "5659.39484744303"
      ]
     },
     "execution_count": 17,
     "metadata": {},
     "output_type": "execute_result"
    }
   ],
   "source": [
    "capital1"
   ]
  },
  {
   "cell_type": "code",
   "execution_count": 18,
   "metadata": {},
   "outputs": [],
   "source": [
    "capital2= 0\n",
    "for i in range(1, 7*12):\n",
    "    capital2 += (1+float(df1.iloc[i,1]))**(-i)"
   ]
  },
  {
   "cell_type": "code",
   "execution_count": 19,
   "metadata": {},
   "outputs": [
    {
     "data": {
      "text/plain": [
       "77.50772943185214"
      ]
     },
     "execution_count": 19,
     "metadata": {},
     "output_type": "execute_result"
    }
   ],
   "source": [
    "capital2"
   ]
  },
  {
   "cell_type": "code",
   "execution_count": null,
   "metadata": {},
   "outputs": [
    {
     "data": {
      "text/plain": [
       "82"
      ]
     },
     "execution_count": 88,
     "metadata": {},
     "output_type": "execute_result"
    }
   ],
   "source": [
    "len(df1)-7*12"
   ]
  },
  {
   "cell_type": "code",
   "execution_count": null,
   "metadata": {},
   "outputs": [],
   "source": [
    "date_range = pd.date_range(start=fecha_jubilación, periods=22*12, freq='MS')\n",
    "\n",
    "date_list = date_range.strftime('%Y-%m').tolist()"
   ]
  },
  {
   "cell_type": "code",
   "execution_count": null,
   "metadata": {},
   "outputs": [],
   "source": [
    "intereses= []"
   ]
  },
  {
   "cell_type": "code",
   "execution_count": null,
   "metadata": {},
   "outputs": [],
   "source": [
    "for i in range(0, 6*12+9):\n",
    "    intereses.append(0.00165)\n",
    "for i in range(0, (22*12) - (6*12+9)):\n",
    "    intereses.append(0.00124)"
   ]
  },
  {
   "cell_type": "code",
   "execution_count": null,
   "metadata": {},
   "outputs": [],
   "source": [
    "df = pd.DataFrame({'Fecha': date_list, 'Intereses': intereses})"
   ]
  },
  {
   "cell_type": "code",
   "execution_count": null,
   "metadata": {},
   "outputs": [
    {
     "data": {
      "application/vnd.microsoft.datawrangler.viewer.v0+json": {
       "columns": [
        {
         "name": "index",
         "rawType": "int64",
         "type": "integer"
        },
        {
         "name": "Fecha",
         "rawType": "object",
         "type": "string"
        },
        {
         "name": "Intereses",
         "rawType": "float64",
         "type": "float"
        }
       ],
       "conversionMethod": "pd.DataFrame",
       "ref": "5e5c2865-c67b-4849-9720-98454967b059",
       "rows": [
        [
         "0",
         "2038-11",
         "0.00165"
        ],
        [
         "1",
         "2038-12",
         "0.00165"
        ],
        [
         "2",
         "2039-01",
         "0.00165"
        ],
        [
         "3",
         "2039-02",
         "0.00165"
        ],
        [
         "4",
         "2039-03",
         "0.00165"
        ],
        [
         "5",
         "2039-04",
         "0.00165"
        ],
        [
         "6",
         "2039-05",
         "0.00165"
        ],
        [
         "7",
         "2039-06",
         "0.00165"
        ],
        [
         "8",
         "2039-07",
         "0.00165"
        ],
        [
         "9",
         "2039-08",
         "0.00165"
        ],
        [
         "10",
         "2039-09",
         "0.00165"
        ],
        [
         "11",
         "2039-10",
         "0.00165"
        ],
        [
         "12",
         "2039-11",
         "0.00165"
        ],
        [
         "13",
         "2039-12",
         "0.00165"
        ],
        [
         "14",
         "2040-01",
         "0.00165"
        ],
        [
         "15",
         "2040-02",
         "0.00165"
        ],
        [
         "16",
         "2040-03",
         "0.00165"
        ],
        [
         "17",
         "2040-04",
         "0.00165"
        ],
        [
         "18",
         "2040-05",
         "0.00165"
        ],
        [
         "19",
         "2040-06",
         "0.00165"
        ],
        [
         "20",
         "2040-07",
         "0.00165"
        ],
        [
         "21",
         "2040-08",
         "0.00165"
        ],
        [
         "22",
         "2040-09",
         "0.00165"
        ],
        [
         "23",
         "2040-10",
         "0.00165"
        ],
        [
         "24",
         "2040-11",
         "0.00165"
        ],
        [
         "25",
         "2040-12",
         "0.00165"
        ],
        [
         "26",
         "2041-01",
         "0.00165"
        ],
        [
         "27",
         "2041-02",
         "0.00165"
        ],
        [
         "28",
         "2041-03",
         "0.00165"
        ],
        [
         "29",
         "2041-04",
         "0.00165"
        ],
        [
         "30",
         "2041-05",
         "0.00165"
        ],
        [
         "31",
         "2041-06",
         "0.00165"
        ],
        [
         "32",
         "2041-07",
         "0.00165"
        ],
        [
         "33",
         "2041-08",
         "0.00165"
        ],
        [
         "34",
         "2041-09",
         "0.00165"
        ],
        [
         "35",
         "2041-10",
         "0.00165"
        ],
        [
         "36",
         "2041-11",
         "0.00165"
        ],
        [
         "37",
         "2041-12",
         "0.00165"
        ],
        [
         "38",
         "2042-01",
         "0.00165"
        ],
        [
         "39",
         "2042-02",
         "0.00165"
        ],
        [
         "40",
         "2042-03",
         "0.00165"
        ],
        [
         "41",
         "2042-04",
         "0.00165"
        ],
        [
         "42",
         "2042-05",
         "0.00165"
        ],
        [
         "43",
         "2042-06",
         "0.00165"
        ],
        [
         "44",
         "2042-07",
         "0.00165"
        ],
        [
         "45",
         "2042-08",
         "0.00165"
        ],
        [
         "46",
         "2042-09",
         "0.00165"
        ],
        [
         "47",
         "2042-10",
         "0.00165"
        ],
        [
         "48",
         "2042-11",
         "0.00165"
        ],
        [
         "49",
         "2042-12",
         "0.00165"
        ]
       ],
       "shape": {
        "columns": 2,
        "rows": 264
       }
      },
      "text/html": [
       "<div>\n",
       "<style scoped>\n",
       "    .dataframe tbody tr th:only-of-type {\n",
       "        vertical-align: middle;\n",
       "    }\n",
       "\n",
       "    .dataframe tbody tr th {\n",
       "        vertical-align: top;\n",
       "    }\n",
       "\n",
       "    .dataframe thead th {\n",
       "        text-align: right;\n",
       "    }\n",
       "</style>\n",
       "<table border=\"1\" class=\"dataframe\">\n",
       "  <thead>\n",
       "    <tr style=\"text-align: right;\">\n",
       "      <th></th>\n",
       "      <th>Fecha</th>\n",
       "      <th>Intereses</th>\n",
       "    </tr>\n",
       "  </thead>\n",
       "  <tbody>\n",
       "    <tr>\n",
       "      <th>0</th>\n",
       "      <td>2038-11</td>\n",
       "      <td>0.00165</td>\n",
       "    </tr>\n",
       "    <tr>\n",
       "      <th>1</th>\n",
       "      <td>2038-12</td>\n",
       "      <td>0.00165</td>\n",
       "    </tr>\n",
       "    <tr>\n",
       "      <th>2</th>\n",
       "      <td>2039-01</td>\n",
       "      <td>0.00165</td>\n",
       "    </tr>\n",
       "    <tr>\n",
       "      <th>3</th>\n",
       "      <td>2039-02</td>\n",
       "      <td>0.00165</td>\n",
       "    </tr>\n",
       "    <tr>\n",
       "      <th>4</th>\n",
       "      <td>2039-03</td>\n",
       "      <td>0.00165</td>\n",
       "    </tr>\n",
       "    <tr>\n",
       "      <th>...</th>\n",
       "      <td>...</td>\n",
       "      <td>...</td>\n",
       "    </tr>\n",
       "    <tr>\n",
       "      <th>259</th>\n",
       "      <td>2060-06</td>\n",
       "      <td>0.00124</td>\n",
       "    </tr>\n",
       "    <tr>\n",
       "      <th>260</th>\n",
       "      <td>2060-07</td>\n",
       "      <td>0.00124</td>\n",
       "    </tr>\n",
       "    <tr>\n",
       "      <th>261</th>\n",
       "      <td>2060-08</td>\n",
       "      <td>0.00124</td>\n",
       "    </tr>\n",
       "    <tr>\n",
       "      <th>262</th>\n",
       "      <td>2060-09</td>\n",
       "      <td>0.00124</td>\n",
       "    </tr>\n",
       "    <tr>\n",
       "      <th>263</th>\n",
       "      <td>2060-10</td>\n",
       "      <td>0.00124</td>\n",
       "    </tr>\n",
       "  </tbody>\n",
       "</table>\n",
       "<p>264 rows × 2 columns</p>\n",
       "</div>"
      ],
      "text/plain": [
       "       Fecha  Intereses\n",
       "0    2038-11    0.00165\n",
       "1    2038-12    0.00165\n",
       "2    2039-01    0.00165\n",
       "3    2039-02    0.00165\n",
       "4    2039-03    0.00165\n",
       "..       ...        ...\n",
       "259  2060-06    0.00124\n",
       "260  2060-07    0.00124\n",
       "261  2060-08    0.00124\n",
       "262  2060-09    0.00124\n",
       "263  2060-10    0.00124\n",
       "\n",
       "[264 rows x 2 columns]"
      ]
     },
     "execution_count": 17,
     "metadata": {},
     "output_type": "execute_result"
    }
   ],
   "source": [
    "df"
   ]
  },
  {
   "cell_type": "code",
   "execution_count": null,
   "metadata": {},
   "outputs": [],
   "source": [
    "rentas = []"
   ]
  },
  {
   "cell_type": "code",
   "execution_count": null,
   "metadata": {},
   "outputs": [],
   "source": [
    "valor =351.95\n",
    "for fecha in date_list:\n",
    "    mes = fecha[-2:] \n",
    "\n",
    "    if mes == '01':\n",
    "        valor *= 1.03 \n",
    "    rentas.append(valor)"
   ]
  },
  {
   "cell_type": "code",
   "execution_count": null,
   "metadata": {},
   "outputs": [
    {
     "data": {
      "text/plain": [
       "[351.95,\n",
       " 351.95,\n",
       " 362.50849999999997,\n",
       " 362.50849999999997,\n",
       " 362.50849999999997,\n",
       " 362.50849999999997,\n",
       " 362.50849999999997,\n",
       " 362.50849999999997,\n",
       " 362.50849999999997,\n",
       " 362.50849999999997,\n",
       " 362.50849999999997,\n",
       " 362.50849999999997,\n",
       " 362.50849999999997,\n",
       " 362.50849999999997,\n",
       " 373.38375499999995,\n",
       " 373.38375499999995,\n",
       " 373.38375499999995,\n",
       " 373.38375499999995,\n",
       " 373.38375499999995,\n",
       " 373.38375499999995,\n",
       " 373.38375499999995,\n",
       " 373.38375499999995,\n",
       " 373.38375499999995,\n",
       " 373.38375499999995,\n",
       " 373.38375499999995,\n",
       " 373.38375499999995,\n",
       " 384.58526764999993,\n",
       " 384.58526764999993,\n",
       " 384.58526764999993,\n",
       " 384.58526764999993,\n",
       " 384.58526764999993,\n",
       " 384.58526764999993,\n",
       " 384.58526764999993,\n",
       " 384.58526764999993,\n",
       " 384.58526764999993,\n",
       " 384.58526764999993,\n",
       " 384.58526764999993,\n",
       " 384.58526764999993,\n",
       " 396.12282567949995,\n",
       " 396.12282567949995,\n",
       " 396.12282567949995,\n",
       " 396.12282567949995,\n",
       " 396.12282567949995,\n",
       " 396.12282567949995,\n",
       " 396.12282567949995,\n",
       " 396.12282567949995,\n",
       " 396.12282567949995,\n",
       " 396.12282567949995,\n",
       " 396.12282567949995,\n",
       " 396.12282567949995,\n",
       " 408.00651044988496,\n",
       " 408.00651044988496,\n",
       " 408.00651044988496,\n",
       " 408.00651044988496,\n",
       " 408.00651044988496,\n",
       " 408.00651044988496,\n",
       " 408.00651044988496,\n",
       " 408.00651044988496,\n",
       " 408.00651044988496,\n",
       " 408.00651044988496,\n",
       " 408.00651044988496,\n",
       " 408.00651044988496,\n",
       " 420.2467057633815,\n",
       " 420.2467057633815,\n",
       " 420.2467057633815,\n",
       " 420.2467057633815,\n",
       " 420.2467057633815,\n",
       " 420.2467057633815,\n",
       " 420.2467057633815,\n",
       " 420.2467057633815,\n",
       " 420.2467057633815,\n",
       " 420.2467057633815,\n",
       " 420.2467057633815,\n",
       " 420.2467057633815,\n",
       " 432.85410693628296,\n",
       " 432.85410693628296,\n",
       " 432.85410693628296,\n",
       " 432.85410693628296,\n",
       " 432.85410693628296,\n",
       " 432.85410693628296,\n",
       " 432.85410693628296,\n",
       " 432.85410693628296,\n",
       " 432.85410693628296,\n",
       " 432.85410693628296,\n",
       " 432.85410693628296,\n",
       " 432.85410693628296,\n",
       " 445.83973014437146,\n",
       " 445.83973014437146,\n",
       " 445.83973014437146,\n",
       " 445.83973014437146,\n",
       " 445.83973014437146,\n",
       " 445.83973014437146,\n",
       " 445.83973014437146,\n",
       " 445.83973014437146,\n",
       " 445.83973014437146,\n",
       " 445.83973014437146,\n",
       " 445.83973014437146,\n",
       " 445.83973014437146,\n",
       " 459.2149220487026,\n",
       " 459.2149220487026,\n",
       " 459.2149220487026,\n",
       " 459.2149220487026,\n",
       " 459.2149220487026,\n",
       " 459.2149220487026,\n",
       " 459.2149220487026,\n",
       " 459.2149220487026,\n",
       " 459.2149220487026,\n",
       " 459.2149220487026,\n",
       " 459.2149220487026,\n",
       " 459.2149220487026,\n",
       " 472.99136971016367,\n",
       " 472.99136971016367,\n",
       " 472.99136971016367,\n",
       " 472.99136971016367,\n",
       " 472.99136971016367,\n",
       " 472.99136971016367,\n",
       " 472.99136971016367,\n",
       " 472.99136971016367,\n",
       " 472.99136971016367,\n",
       " 472.99136971016367,\n",
       " 472.99136971016367,\n",
       " 472.99136971016367,\n",
       " 487.1811108014686,\n",
       " 487.1811108014686,\n",
       " 487.1811108014686,\n",
       " 487.1811108014686,\n",
       " 487.1811108014686,\n",
       " 487.1811108014686,\n",
       " 487.1811108014686,\n",
       " 487.1811108014686,\n",
       " 487.1811108014686,\n",
       " 487.1811108014686,\n",
       " 487.1811108014686,\n",
       " 487.1811108014686,\n",
       " 501.7965441255127,\n",
       " 501.7965441255127,\n",
       " 501.7965441255127,\n",
       " 501.7965441255127,\n",
       " 501.7965441255127,\n",
       " 501.7965441255127,\n",
       " 501.7965441255127,\n",
       " 501.7965441255127,\n",
       " 501.7965441255127,\n",
       " 501.7965441255127,\n",
       " 501.7965441255127,\n",
       " 501.7965441255127,\n",
       " 516.850440449278,\n",
       " 516.850440449278,\n",
       " 516.850440449278,\n",
       " 516.850440449278,\n",
       " 516.850440449278,\n",
       " 516.850440449278,\n",
       " 516.850440449278,\n",
       " 516.850440449278,\n",
       " 516.850440449278,\n",
       " 516.850440449278,\n",
       " 516.850440449278,\n",
       " 516.850440449278,\n",
       " 532.3559536627564,\n",
       " 532.3559536627564,\n",
       " 532.3559536627564,\n",
       " 532.3559536627564,\n",
       " 532.3559536627564,\n",
       " 532.3559536627564,\n",
       " 532.3559536627564,\n",
       " 532.3559536627564,\n",
       " 532.3559536627564,\n",
       " 532.3559536627564,\n",
       " 532.3559536627564,\n",
       " 532.3559536627564,\n",
       " 548.3266322726391,\n",
       " 548.3266322726391,\n",
       " 548.3266322726391,\n",
       " 548.3266322726391,\n",
       " 548.3266322726391,\n",
       " 548.3266322726391,\n",
       " 548.3266322726391,\n",
       " 548.3266322726391,\n",
       " 548.3266322726391,\n",
       " 548.3266322726391,\n",
       " 548.3266322726391,\n",
       " 548.3266322726391,\n",
       " 564.7764312408183,\n",
       " 564.7764312408183,\n",
       " 564.7764312408183,\n",
       " 564.7764312408183,\n",
       " 564.7764312408183,\n",
       " 564.7764312408183,\n",
       " 564.7764312408183,\n",
       " 564.7764312408183,\n",
       " 564.7764312408183,\n",
       " 564.7764312408183,\n",
       " 564.7764312408183,\n",
       " 564.7764312408183,\n",
       " 581.7197241780428,\n",
       " 581.7197241780428,\n",
       " 581.7197241780428,\n",
       " 581.7197241780428,\n",
       " 581.7197241780428,\n",
       " 581.7197241780428,\n",
       " 581.7197241780428,\n",
       " 581.7197241780428,\n",
       " 581.7197241780428,\n",
       " 581.7197241780428,\n",
       " 581.7197241780428,\n",
       " 581.7197241780428,\n",
       " 599.1713159033841,\n",
       " 599.1713159033841,\n",
       " 599.1713159033841,\n",
       " 599.1713159033841,\n",
       " 599.1713159033841,\n",
       " 599.1713159033841,\n",
       " 599.1713159033841,\n",
       " 599.1713159033841,\n",
       " 599.1713159033841,\n",
       " 599.1713159033841,\n",
       " 599.1713159033841,\n",
       " 599.1713159033841,\n",
       " 617.1464553804856,\n",
       " 617.1464553804856,\n",
       " 617.1464553804856,\n",
       " 617.1464553804856,\n",
       " 617.1464553804856,\n",
       " 617.1464553804856,\n",
       " 617.1464553804856,\n",
       " 617.1464553804856,\n",
       " 617.1464553804856,\n",
       " 617.1464553804856,\n",
       " 617.1464553804856,\n",
       " 617.1464553804856,\n",
       " 635.6608490419002,\n",
       " 635.6608490419002,\n",
       " 635.6608490419002,\n",
       " 635.6608490419002,\n",
       " 635.6608490419002,\n",
       " 635.6608490419002,\n",
       " 635.6608490419002,\n",
       " 635.6608490419002,\n",
       " 635.6608490419002,\n",
       " 635.6608490419002,\n",
       " 635.6608490419002,\n",
       " 635.6608490419002,\n",
       " 654.7306745131572,\n",
       " 654.7306745131572,\n",
       " 654.7306745131572,\n",
       " 654.7306745131572,\n",
       " 654.7306745131572,\n",
       " 654.7306745131572,\n",
       " 654.7306745131572,\n",
       " 654.7306745131572,\n",
       " 654.7306745131572,\n",
       " 654.7306745131572,\n",
       " 654.7306745131572,\n",
       " 654.7306745131572,\n",
       " 674.3725947485519,\n",
       " 674.3725947485519,\n",
       " 674.3725947485519,\n",
       " 674.3725947485519,\n",
       " 674.3725947485519,\n",
       " 674.3725947485519,\n",
       " 674.3725947485519,\n",
       " 674.3725947485519,\n",
       " 674.3725947485519,\n",
       " 674.3725947485519]"
      ]
     },
     "execution_count": 20,
     "metadata": {},
     "output_type": "execute_result"
    }
   ],
   "source": [
    "rentas"
   ]
  },
  {
   "cell_type": "code",
   "execution_count": null,
   "metadata": {},
   "outputs": [],
   "source": [
    "df = pd.DataFrame({'Fecha': date_list, 'Intereses': intereses, 'Terminos': rentas})"
   ]
  },
  {
   "cell_type": "code",
   "execution_count": null,
   "metadata": {},
   "outputs": [
    {
     "data": {
      "application/vnd.microsoft.datawrangler.viewer.v0+json": {
       "columns": [
        {
         "name": "index",
         "rawType": "int64",
         "type": "integer"
        },
        {
         "name": "Fecha",
         "rawType": "object",
         "type": "string"
        },
        {
         "name": "Intereses",
         "rawType": "float64",
         "type": "float"
        },
        {
         "name": "Terminos",
         "rawType": "float64",
         "type": "float"
        }
       ],
       "conversionMethod": "pd.DataFrame",
       "ref": "727f724a-64ed-4988-9c6a-fcb6275f2096",
       "rows": [
        [
         "0",
         "2038-11",
         "0.00165",
         "351.95"
        ],
        [
         "1",
         "2038-12",
         "0.00165",
         "351.95"
        ],
        [
         "2",
         "2039-01",
         "0.00165",
         "362.50849999999997"
        ],
        [
         "3",
         "2039-02",
         "0.00165",
         "362.50849999999997"
        ],
        [
         "4",
         "2039-03",
         "0.00165",
         "362.50849999999997"
        ],
        [
         "5",
         "2039-04",
         "0.00165",
         "362.50849999999997"
        ],
        [
         "6",
         "2039-05",
         "0.00165",
         "362.50849999999997"
        ],
        [
         "7",
         "2039-06",
         "0.00165",
         "362.50849999999997"
        ],
        [
         "8",
         "2039-07",
         "0.00165",
         "362.50849999999997"
        ],
        [
         "9",
         "2039-08",
         "0.00165",
         "362.50849999999997"
        ],
        [
         "10",
         "2039-09",
         "0.00165",
         "362.50849999999997"
        ],
        [
         "11",
         "2039-10",
         "0.00165",
         "362.50849999999997"
        ],
        [
         "12",
         "2039-11",
         "0.00165",
         "362.50849999999997"
        ],
        [
         "13",
         "2039-12",
         "0.00165",
         "362.50849999999997"
        ],
        [
         "14",
         "2040-01",
         "0.00165",
         "373.38375499999995"
        ],
        [
         "15",
         "2040-02",
         "0.00165",
         "373.38375499999995"
        ],
        [
         "16",
         "2040-03",
         "0.00165",
         "373.38375499999995"
        ],
        [
         "17",
         "2040-04",
         "0.00165",
         "373.38375499999995"
        ],
        [
         "18",
         "2040-05",
         "0.00165",
         "373.38375499999995"
        ],
        [
         "19",
         "2040-06",
         "0.00165",
         "373.38375499999995"
        ],
        [
         "20",
         "2040-07",
         "0.00165",
         "373.38375499999995"
        ],
        [
         "21",
         "2040-08",
         "0.00165",
         "373.38375499999995"
        ],
        [
         "22",
         "2040-09",
         "0.00165",
         "373.38375499999995"
        ],
        [
         "23",
         "2040-10",
         "0.00165",
         "373.38375499999995"
        ],
        [
         "24",
         "2040-11",
         "0.00165",
         "373.38375499999995"
        ],
        [
         "25",
         "2040-12",
         "0.00165",
         "373.38375499999995"
        ],
        [
         "26",
         "2041-01",
         "0.00165",
         "384.58526764999993"
        ],
        [
         "27",
         "2041-02",
         "0.00165",
         "384.58526764999993"
        ],
        [
         "28",
         "2041-03",
         "0.00165",
         "384.58526764999993"
        ],
        [
         "29",
         "2041-04",
         "0.00165",
         "384.58526764999993"
        ],
        [
         "30",
         "2041-05",
         "0.00165",
         "384.58526764999993"
        ],
        [
         "31",
         "2041-06",
         "0.00165",
         "384.58526764999993"
        ],
        [
         "32",
         "2041-07",
         "0.00165",
         "384.58526764999993"
        ],
        [
         "33",
         "2041-08",
         "0.00165",
         "384.58526764999993"
        ],
        [
         "34",
         "2041-09",
         "0.00165",
         "384.58526764999993"
        ],
        [
         "35",
         "2041-10",
         "0.00165",
         "384.58526764999993"
        ],
        [
         "36",
         "2041-11",
         "0.00165",
         "384.58526764999993"
        ],
        [
         "37",
         "2041-12",
         "0.00165",
         "384.58526764999993"
        ],
        [
         "38",
         "2042-01",
         "0.00165",
         "396.12282567949995"
        ],
        [
         "39",
         "2042-02",
         "0.00165",
         "396.12282567949995"
        ],
        [
         "40",
         "2042-03",
         "0.00165",
         "396.12282567949995"
        ],
        [
         "41",
         "2042-04",
         "0.00165",
         "396.12282567949995"
        ],
        [
         "42",
         "2042-05",
         "0.00165",
         "396.12282567949995"
        ],
        [
         "43",
         "2042-06",
         "0.00165",
         "396.12282567949995"
        ],
        [
         "44",
         "2042-07",
         "0.00165",
         "396.12282567949995"
        ],
        [
         "45",
         "2042-08",
         "0.00165",
         "396.12282567949995"
        ],
        [
         "46",
         "2042-09",
         "0.00165",
         "396.12282567949995"
        ],
        [
         "47",
         "2042-10",
         "0.00165",
         "396.12282567949995"
        ],
        [
         "48",
         "2042-11",
         "0.00165",
         "396.12282567949995"
        ],
        [
         "49",
         "2042-12",
         "0.00165",
         "396.12282567949995"
        ]
       ],
       "shape": {
        "columns": 3,
        "rows": 264
       }
      },
      "text/html": [
       "<div>\n",
       "<style scoped>\n",
       "    .dataframe tbody tr th:only-of-type {\n",
       "        vertical-align: middle;\n",
       "    }\n",
       "\n",
       "    .dataframe tbody tr th {\n",
       "        vertical-align: top;\n",
       "    }\n",
       "\n",
       "    .dataframe thead th {\n",
       "        text-align: right;\n",
       "    }\n",
       "</style>\n",
       "<table border=\"1\" class=\"dataframe\">\n",
       "  <thead>\n",
       "    <tr style=\"text-align: right;\">\n",
       "      <th></th>\n",
       "      <th>Fecha</th>\n",
       "      <th>Intereses</th>\n",
       "      <th>Terminos</th>\n",
       "    </tr>\n",
       "  </thead>\n",
       "  <tbody>\n",
       "    <tr>\n",
       "      <th>0</th>\n",
       "      <td>2038-11</td>\n",
       "      <td>0.00165</td>\n",
       "      <td>351.950000</td>\n",
       "    </tr>\n",
       "    <tr>\n",
       "      <th>1</th>\n",
       "      <td>2038-12</td>\n",
       "      <td>0.00165</td>\n",
       "      <td>351.950000</td>\n",
       "    </tr>\n",
       "    <tr>\n",
       "      <th>2</th>\n",
       "      <td>2039-01</td>\n",
       "      <td>0.00165</td>\n",
       "      <td>362.508500</td>\n",
       "    </tr>\n",
       "    <tr>\n",
       "      <th>3</th>\n",
       "      <td>2039-02</td>\n",
       "      <td>0.00165</td>\n",
       "      <td>362.508500</td>\n",
       "    </tr>\n",
       "    <tr>\n",
       "      <th>4</th>\n",
       "      <td>2039-03</td>\n",
       "      <td>0.00165</td>\n",
       "      <td>362.508500</td>\n",
       "    </tr>\n",
       "    <tr>\n",
       "      <th>...</th>\n",
       "      <td>...</td>\n",
       "      <td>...</td>\n",
       "      <td>...</td>\n",
       "    </tr>\n",
       "    <tr>\n",
       "      <th>259</th>\n",
       "      <td>2060-06</td>\n",
       "      <td>0.00124</td>\n",
       "      <td>674.372595</td>\n",
       "    </tr>\n",
       "    <tr>\n",
       "      <th>260</th>\n",
       "      <td>2060-07</td>\n",
       "      <td>0.00124</td>\n",
       "      <td>674.372595</td>\n",
       "    </tr>\n",
       "    <tr>\n",
       "      <th>261</th>\n",
       "      <td>2060-08</td>\n",
       "      <td>0.00124</td>\n",
       "      <td>674.372595</td>\n",
       "    </tr>\n",
       "    <tr>\n",
       "      <th>262</th>\n",
       "      <td>2060-09</td>\n",
       "      <td>0.00124</td>\n",
       "      <td>674.372595</td>\n",
       "    </tr>\n",
       "    <tr>\n",
       "      <th>263</th>\n",
       "      <td>2060-10</td>\n",
       "      <td>0.00124</td>\n",
       "      <td>674.372595</td>\n",
       "    </tr>\n",
       "  </tbody>\n",
       "</table>\n",
       "<p>264 rows × 3 columns</p>\n",
       "</div>"
      ],
      "text/plain": [
       "       Fecha  Intereses    Terminos\n",
       "0    2038-11    0.00165  351.950000\n",
       "1    2038-12    0.00165  351.950000\n",
       "2    2039-01    0.00165  362.508500\n",
       "3    2039-02    0.00165  362.508500\n",
       "4    2039-03    0.00165  362.508500\n",
       "..       ...        ...         ...\n",
       "259  2060-06    0.00124  674.372595\n",
       "260  2060-07    0.00124  674.372595\n",
       "261  2060-08    0.00124  674.372595\n",
       "262  2060-09    0.00124  674.372595\n",
       "263  2060-10    0.00124  674.372595\n",
       "\n",
       "[264 rows x 3 columns]"
      ]
     },
     "execution_count": 22,
     "metadata": {},
     "output_type": "execute_result"
    }
   ],
   "source": [
    "df"
   ]
  },
  {
   "cell_type": "code",
   "execution_count": null,
   "metadata": {},
   "outputs": [],
   "source": [
    "capital = 0\n",
    "capital_actual= 0\n",
    "for i in range(263, -1, -1):\n",
    "    renta = float(df.iloc[i,2]) * (1+float(df.iloc[i,1]))**-1\n",
    "    for interes in range(i, -1, -1):\n",
    "        renta = renta * (1+float(df.iloc[interes,1]))**-1\n",
    "    capital += renta\n",
    "\n",
    "\n",
    "    "
   ]
  },
  {
   "cell_type": "code",
   "execution_count": null,
   "metadata": {},
   "outputs": [
    {
     "data": {
      "text/plain": [
       "107424.2299376918"
      ]
     },
     "execution_count": 69,
     "metadata": {},
     "output_type": "execute_result"
    }
   ],
   "source": [
    "capital"
   ]
  },
  {
   "cell_type": "code",
   "execution_count": null,
   "metadata": {},
   "outputs": [],
   "source": []
  },
  {
   "cell_type": "code",
   "execution_count": null,
   "metadata": {},
   "outputs": [
    {
     "data": {
      "text/plain": [
       "264"
      ]
     },
     "execution_count": 25,
     "metadata": {},
     "output_type": "execute_result"
    }
   ],
   "source": [
    "len(df)"
   ]
  }
 ],
 "metadata": {
  "kernelspec": {
   "display_name": ".venv",
   "language": "python",
   "name": "python3"
  },
  "language_info": {
   "codemirror_mode": {
    "name": "ipython",
    "version": 3
   },
   "file_extension": ".py",
   "mimetype": "text/x-python",
   "name": "python",
   "nbconvert_exporter": "python",
   "pygments_lexer": "ipython3",
   "version": "3.13.1"
  }
 },
 "nbformat": 4,
 "nbformat_minor": 2
}
