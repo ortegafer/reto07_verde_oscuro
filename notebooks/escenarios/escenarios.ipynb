{
 "cells": [
  {
   "cell_type": "markdown",
   "metadata": {},
   "source": [
    "### ESCENARIO PRINCIPAL"
   ]
  },
  {
   "cell_type": "code",
   "execution_count": 7,
   "metadata": {},
   "outputs": [
    {
     "name": "stdout",
     "output_type": "stream",
     "text": [
      "     ID  Capital Jubilación  Capital Actual  Monto Mensual\n",
      "0     1       107929.622400    79044.634854     754.781421\n",
      "1     2       170034.093333    81754.958037     575.786943\n",
      "2     3       124495.870475    95174.453457    1007.618961\n",
      "3     4        90971.927228    66405.763329     629.756736\n",
      "4     5       146242.762248   103969.478056     937.617942\n",
      "..  ...                 ...             ...            ...\n",
      "95   96       176848.801468   129305.554148    1230.460491\n",
      "96   97       171826.411025    91366.197089     649.686157\n",
      "97   98       182500.267745    81066.404032     574.844294\n",
      "98   99       242550.898824   133741.287476     960.321023\n",
      "99  100       217555.431681   132225.957290     995.985954\n",
      "\n",
      "[100 rows x 4 columns]\n"
     ]
    }
   ],
   "source": [
    "import pandas as pd\n",
    "import pickle\n",
    "import math\n",
    "import datetime as dt\n",
    "\n",
    "\n",
    "def calculo_nomina(salario_actual, años_hasta_jubilación, ipc):\n",
    "    redondeado = math.floor(años_hasta_jubilación)\n",
    "    salario = salario_actual\n",
    "    for i in range(0, redondeado):\n",
    "        salario = salario + salario * ipc.iloc[i, 1]\n",
    "    return float(salario)\n",
    "\n",
    "def calcular_monto_mensual(capital, intereses):\n",
    "    sum=0\n",
    "    for i in range(len(intereses)):\n",
    "        num= 1\n",
    "        for j in range(0, len(intereses[:i+1])):\n",
    "            num*=(1+intereses[j])**(-1)\n",
    "        sum+= num\n",
    "    \n",
    "    monto = capital/sum\n",
    "    return monto\n",
    "\n",
    "def calcular_primas_jubilacion_df(df, ipc, interes1, interes2, duracion_interes1, interes_rendimiento1, interes_rendimiento2, duracion_interes_rendimiento1):\n",
    "    resultados = []\n",
    "    with open(\"../../notebooks/Data Mining/modelo.pkl\", \"rb\") as f:\n",
    "        modelo = pickle.load(f)\n",
    "    X_2 = df.drop(['ID', 'FECHA NAC', 'SEXO', 'FECHA ENTRADA', 'PARA CONTAR MESES'], axis=1)\n",
    "    X_2.columns = ['Ingreso Anual (€)','Edad']\n",
    "    X_2 = X_2[['Edad','Ingreso Anual (€)']] \n",
    "    df[\"AÑOS HASTA JUBILACION\"] = modelo.predict(X_2)\n",
    "    for _, row in df.iterrows():\n",
    "        salario_final = calculo_nomina(row['NOMINA BRUTA 01/01/2025'], row['AÑOS HASTA JUBILACION'], ipc)\n",
    "        porcentaje_renta = min((row['EDAD'] // 4) * 0.0225, 0.19)\n",
    "        m1 = (salario_final * porcentaje_renta) / 12\n",
    "        \n",
    "        fecha_jubilacion = dt.datetime(2025, 1, 1) + dt.timedelta(days=row['AÑOS HASTA JUBILACION'] * 365)\n",
    "        fecha_jubilacion = fecha_jubilacion.strftime('%Y-%m-%d')\n",
    "        date_range = pd.date_range(start=fecha_jubilacion, periods=22 * 12, freq='MS')\n",
    "        date_list = date_range.strftime('%Y-%m').tolist()\n",
    "        \n",
    "        int1 = ((1 + (interes1 * 0.01)) ** (1 / 12)) - 1\n",
    "        int2 = ((1 + (interes2 * 0.01)) ** (1 / 12)) - 1\n",
    "        año1, mes1 = duracion_interes1\n",
    "        \n",
    "        intereses = [int1] * (año1 * 12 + mes1) + [int2] * ((22 * 12) - (año1 * 12 + mes1))\n",
    "        \n",
    "        rentas = []\n",
    "        valor = m1\n",
    "        for fecha in date_list:\n",
    "            if fecha[-2:] == '01':\n",
    "                valor *= 1.03\n",
    "            rentas.append(valor)\n",
    "        \n",
    "        df_rentas = pd.DataFrame({'Fecha': date_list, 'Intereses': intereses, 'Pagos': rentas})\n",
    "        \n",
    "        capital_jubilacion = 0\n",
    "        for i in range(len(df_rentas) - 1, -1, -1):\n",
    "            renta = float(df_rentas.iloc[i, 2]) * (1 + float(df_rentas.iloc[i, 1])) ** -1\n",
    "            for interes in range(i, -1, -1):\n",
    "                renta = renta * (1 + float(df_rentas.iloc[interes, 1])) ** -1\n",
    "            capital_jubilacion += renta\n",
    "        \n",
    "        fechas = pd.date_range(start='2025-01-01', end=fecha_jubilacion, freq='MS')\n",
    "        fechas_formateadas = fechas.strftime('%Y-%m')\n",
    "        \n",
    "        int_ren1 = ((1 + (interes_rendimiento1 * 0.01)) ** (1 / 12)) - 1\n",
    "        int_ren2 = ((1 + (interes_rendimiento2 * 0.01)) ** (1 / 12)) - 1\n",
    "        año2, mes2 = duracion_interes_rendimiento1\n",
    "        \n",
    "        intereses1 = [int_ren1] * (año2 * 12 + mes2) + [int_ren2] * (len(fechas_formateadas) - (año2 * 12 + mes2))\n",
    "        df1 = pd.DataFrame({'Fecha': fechas_formateadas, 'Intereses': intereses1})\n",
    "        \n",
    "        capital_actual = capital_jubilacion\n",
    "        for i in range(len(df1) - 1, -1, -1):\n",
    "            capital_actual = capital_actual * (1 + float(df1.iloc[i, 1])) ** -1\n",
    "        \n",
    "        monto_mensual = calcular_monto_mensual(capital_jubilacion, df1['Intereses'].tolist())\n",
    "        \n",
    "        resultados.append([row['ID'], capital_jubilacion, capital_actual, monto_mensual])\n",
    "    \n",
    "    return pd.DataFrame(resultados, columns=['ID', 'Capital Jubilación', 'Capital Actual', 'Monto Mensual'])\n",
    "\n",
    "# Cargar los datos y calcular resultados\n",
    "df_input = pd.read_csv('../../Datos/Limpios/datos1_limpios.csv', index_col=0)\n",
    "ipc_data = pd.read_excel('../../Datos/Originales/Dataset_1.xlsx', sheet_name='IPC')\n",
    "resultados_df = calcular_primas_jubilacion_df(df_input, ipc_data, 2, 1.5, [6,9], 2.5, 2, [7,0])\n",
    "print(resultados_df)\n"
   ]
  },
  {
   "cell_type": "code",
   "execution_count": 8,
   "metadata": {},
   "outputs": [
    {
     "data": {
      "text/plain": [
       "np.float64(10312093.356052017)"
      ]
     },
     "execution_count": 8,
     "metadata": {},
     "output_type": "execute_result"
    }
   ],
   "source": [
    "resultados_df['Capital Actual'].sum()"
   ]
  },
  {
   "cell_type": "code",
   "execution_count": 9,
   "metadata": {},
   "outputs": [
    {
     "data": {
      "text/plain": [
       "np.float64(83525.40701110722)"
      ]
     },
     "execution_count": 9,
     "metadata": {},
     "output_type": "execute_result"
    }
   ],
   "source": [
    "resultados_df['Monto Mensual'].sum()"
   ]
  },
  {
   "cell_type": "code",
   "execution_count": 10,
   "metadata": {},
   "outputs": [
    {
     "data": {
      "text/plain": [
       "np.float64(17555353.35504604)"
      ]
     },
     "execution_count": 10,
     "metadata": {},
     "output_type": "execute_result"
    }
   ],
   "source": [
    "resultados_df['Capital Jubilación'].sum()"
   ]
  },
  {
   "cell_type": "markdown",
   "metadata": {},
   "source": [
    "### OTROS ESCENARIOS"
   ]
  },
  {
   "cell_type": "code",
   "execution_count": 11,
   "metadata": {},
   "outputs": [],
   "source": [
    "import pandas as pd\n",
    "import pickle\n",
    "import math\n",
    "import datetime as dt\n",
    "\n",
    "def calculo_nomina(salario_actual, años_hasta_jubilación, ipc):\n",
    "    redondeado = math.floor(años_hasta_jubilación)\n",
    "    salario = salario_actual\n",
    "    for i in range(0, redondeado):\n",
    "        salario = salario + salario * ipc.iloc[i, 1]\n",
    "    return float(salario)\n",
    "\n",
    "def calcular_monto_mensual(capital, intereses):\n",
    "    sum=0\n",
    "    for i in range(len(intereses)):\n",
    "        num= 1\n",
    "        for j in range(0, len(intereses[:i+1])):\n",
    "            num*=(1+intereses[j])**(-1)\n",
    "        sum+= num\n",
    "    \n",
    "    monto = capital/sum\n",
    "    return monto\n",
    "\n",
    "def extender_lista(lista, tamaño):\n",
    "    if len(lista) >= tamaño:\n",
    "        return lista[:tamaño]\n",
    "    else:\n",
    "        return (lista * (tamaño // len(lista) + 1))[:tamaño]\n",
    "\n",
    "def calcular_primas_jubilacion_df(df, ipc, lista_intereses):\n",
    "    resultados = []\n",
    "    with open(\"../../notebooks/Data Mining/modelo.pkl\", \"rb\") as f:\n",
    "        modelo = pickle.load(f)\n",
    "    X_2 = df.drop(['ID', 'FECHA NAC', 'SEXO', 'FECHA ENTRADA', 'PARA CONTAR MESES'], axis=1)\n",
    "    X_2.columns = ['Ingreso Anual (€)','Edad']\n",
    "    X_2 = X_2[['Edad','Ingreso Anual (€)']]\n",
    "    df[\"AÑOS HASTA JUBILACION\"] = modelo.predict(X_2)\n",
    "    for _, row in df.iterrows():\n",
    "        salario_final = calculo_nomina(row['NOMINA BRUTA 01/01/2025'], row['AÑOS HASTA JUBILACION'], ipc)\n",
    "        porcentaje_renta = min((row['EDAD'] // 4) * 0.0225, 0.19)\n",
    "        m1 = (salario_final * porcentaje_renta) / 12\n",
    "        \n",
    "        fecha_jubilacion = dt.datetime(2025, 1, 1) + dt.timedelta(days=row['AÑOS HASTA JUBILACION'] * 365)\n",
    "        fecha_jubilacion = fecha_jubilacion.strftime('%Y-%m-%d')\n",
    "        date_range = pd.date_range(start=fecha_jubilacion, periods=22 * 12, freq='MS')\n",
    "        date_list = date_range.strftime('%Y-%m').tolist()\n",
    "        \n",
    "        intereses = extender_lista(lista_intereses, len(date_list))\n",
    "        \n",
    "        rentas = []\n",
    "        valor = m1\n",
    "        for fecha in date_list:\n",
    "            if fecha[-2:] == '01':\n",
    "                valor *= 1.03\n",
    "            rentas.append(valor)\n",
    "        \n",
    "        df_rentas = pd.DataFrame({'Fecha': date_list, 'Intereses': intereses, 'Pagos': rentas})\n",
    "        \n",
    "        capital_jubilacion = 0\n",
    "        for i in range(len(df_rentas) - 1, -1, -1):\n",
    "            renta = float(df_rentas.iloc[i, 2]) * (1 + float(df_rentas.iloc[i, 1])) ** -1\n",
    "            for interes in range(i, -1, -1):\n",
    "                renta = renta * (1 + float(df_rentas.iloc[interes, 1])) ** -1\n",
    "            capital_jubilacion += renta\n",
    "        \n",
    "        fechas = pd.date_range(start='2025-01-01', end=fecha_jubilacion, freq='MS')\n",
    "        fechas_formateadas = fechas.strftime('%Y-%m')\n",
    "        \n",
    "        intereses1 = extender_lista(lista_intereses, len(fechas_formateadas))\n",
    "        df1 = pd.DataFrame({'Fecha': fechas_formateadas, 'Intereses': intereses1})\n",
    "        \n",
    "        capital_actual = capital_jubilacion\n",
    "        for i in range(len(df1) - 1, -1, -1):\n",
    "            capital_actual = capital_actual * (1 + float(df1.iloc[i, 1])) ** -1\n",
    "        \n",
    "        monto_mensual = calcular_monto_mensual(capital_jubilacion, df1['Intereses'].tolist())\n",
    "        \n",
    "        resultados.append([row['ID'], capital_jubilacion, capital_actual, monto_mensual])\n",
    "        resultados_df = pd.DataFrame(resultados, columns=['ID', 'Capital Jubilación', 'Capital Actual', 'Monto Mensual'])\n",
    "    \n",
    "    return resultados_df"
   ]
  },
  {
   "cell_type": "markdown",
   "metadata": {},
   "source": [
    "### SP500"
   ]
  },
  {
   "cell_type": "code",
   "execution_count": 12,
   "metadata": {},
   "outputs": [
    {
     "name": "stdout",
     "output_type": "stream",
     "text": [
      "     ID  Capital Jubilación  Capital Actual  Monto Mensual\n",
      "0     1        48186.160343    11271.687573     559.262923\n",
      "1     2        75895.912642     4731.424973     592.557296\n",
      "2     3        55571.855778    15987.780240     695.657574\n",
      "3     4        40607.920704     9214.582508     468.798802\n",
      "4     5        65274.938021    12174.246245     727.099211\n",
      "..  ...                 ...             ...            ...\n",
      "95   96        78947.271704    18487.650995     913.801890\n",
      "96   97        76699.631264     6365.166951     620.096775\n",
      "97   98        81460.277209     3035.687248     624.570896\n",
      "98   99       108254.498618    14456.320585     891.954722\n",
      "99  100        97099.907430    18153.115842     889.160771\n",
      "\n",
      "[100 rows x 4 columns]\n"
     ]
    }
   ],
   "source": [
    "df_input = pd.read_csv('../../Datos/Limpios/datos1_limpios.csv', index_col=0)\n",
    "ipc_data = pd.read_excel('../../Datos/Originales/Dataset_1.xlsx', sheet_name='IPC')\n",
    "intereses_lista = pd.read_csv('../../Datos/Limpios/datos1_limpios.csv', index_col=0)\n",
    "intereses_lista = pd.read_csv('../../Datos/Intereses/Datos históricos del S&P 500.csv', index_col=0)\n",
    "lista=list(intereses_lista['% var.'])\n",
    "intereses_lista = [float(str(i).replace('%', '').replace(',', '.')) / 100 for i in lista]\n",
    "\n",
    "resultados_df = calcular_primas_jubilacion_df(df_input, ipc_data, intereses_lista)\n",
    "print(resultados_df)\n"
   ]
  },
  {
   "cell_type": "markdown",
   "metadata": {},
   "source": [
    "### IBEX35"
   ]
  },
  {
   "cell_type": "code",
   "execution_count": 13,
   "metadata": {},
   "outputs": [
    {
     "name": "stdout",
     "output_type": "stream",
     "text": [
      "     ID  Capital Jubilación  Capital Actual  Monto Mensual\n",
      "0     1        99939.661060    80816.163022     836.108610\n",
      "1     2       157446.791129    24969.447072     591.968354\n",
      "2     3       115273.976072    73333.893788    1121.578108\n",
      "3     4        84235.670911    69599.875236     695.097453\n",
      "4     5       135402.894828   121722.578285    1009.560980\n",
      "..  ...                 ...             ...            ...\n",
      "95   96       163748.290635   135852.039913    1360.497124\n",
      "96   97       159103.071177    36990.744142     628.238700\n",
      "97   98       168990.118237    25697.930002     619.864710\n",
      "98   99       224580.307699    80160.672116     908.631883\n",
      "99  100       201440.171542   119743.854801     974.648608\n",
      "\n",
      "[100 rows x 4 columns]\n"
     ]
    }
   ],
   "source": [
    "df_input = pd.read_csv('../../Datos/Limpios/datos1_limpios.csv', index_col=0)\n",
    "ipc_data = pd.read_excel('../../Datos/Originales/Dataset_1.xlsx', sheet_name='IPC')\n",
    "intereses_lista = pd.read_csv('../../Datos/Limpios/datos1_limpios.csv', index_col=0)\n",
    "intereses_lista = pd.read_csv('../../Datos/Intereses/Datos históricos del IBEX 35.csv', index_col=0)\n",
    "lista=list(intereses_lista['% var.'])\n",
    "intereses_lista = [float(str(i).replace('%', '').replace(',', '.')) / 100 for i in lista]\n",
    "\n",
    "resultados_df = calcular_primas_jubilacion_df(df_input, ipc_data, intereses_lista)\n",
    "print(resultados_df)"
   ]
  },
  {
   "cell_type": "markdown",
   "metadata": {},
   "source": [
    "### BONOS ESTADOS UNIDOS"
   ]
  },
  {
   "cell_type": "code",
   "execution_count": 14,
   "metadata": {},
   "outputs": [
    {
     "name": "stdout",
     "output_type": "stream",
     "text": [
      "     ID  Capital Jubilación  Capital Actual  Monto Mensual\n",
      "0     1        96334.461709    77519.077703    1013.479374\n",
      "1     2       151775.848762   279200.806246     365.620209\n",
      "2     3       111133.965599    54944.232853    1347.369964\n",
      "3     4        81201.786025    63537.619917     840.343776\n",
      "4     5       130553.212867   100074.042703    1203.116048\n",
      "..  ...                 ...             ...            ...\n",
      "95   96       157841.095124   125259.032367    1646.806431\n",
      "96   97       153372.714931   269583.505200     491.179478\n",
      "97   98       162903.406566   339377.797263     320.772972\n",
      "98   99       216519.372666   303719.298756     775.683911\n",
      "99  100       194229.173604   191154.535443     965.569741\n",
      "\n",
      "[100 rows x 4 columns]\n"
     ]
    }
   ],
   "source": [
    "df_input = pd.read_csv('../../Datos/Limpios/datos1_limpios.csv', index_col=0)\n",
    "ipc_data = pd.read_excel('../../Datos/Originales/Dataset_1.xlsx', sheet_name='IPC')\n",
    "intereses_lista = pd.read_csv('../../Datos/Limpios/datos1_limpios.csv', index_col=0)\n",
    "intereses_lista = pd.read_csv('../../Datos/Intereses/Estados Unidos Datos Históricos Rendimiento de Bonos.csv', index_col=0)\n",
    "lista=list(intereses_lista['% var.'])\n",
    "intereses_lista = [float(str(i).replace('%', '').replace(',', '.')) / 100 for i in lista]\n",
    "\n",
    "resultados_df = calcular_primas_jubilacion_df(df_input, ipc_data, intereses_lista)\n",
    "print(resultados_df)"
   ]
  },
  {
   "cell_type": "markdown",
   "metadata": {},
   "source": [
    "### Euro Stoxx 50"
   ]
  },
  {
   "cell_type": "code",
   "execution_count": 15,
   "metadata": {},
   "outputs": [
    {
     "name": "stdout",
     "output_type": "stream",
     "text": [
      "     ID  Capital Jubilación  Capital Actual  Monto Mensual\n",
      "0     1        81570.034994    44370.450677     751.411434\n",
      "1     2       128509.771113    30648.511705     600.729152\n",
      "2     3        94083.769736    48685.965874     976.854471\n",
      "3     4        68754.451672    37948.899361     626.916975\n",
      "4     5       110524.340307    59338.446134     937.169202\n",
      "..  ...                 ...             ...            ...\n",
      "95   96       133652.681907    75252.128260    1224.836471\n",
      "96   97       129862.376590    35050.482972     655.563706\n",
      "97   98       137931.559349    53167.867244     607.638677\n",
      "98   99       183306.702111    55583.832897     957.553898\n",
      "99  100       164422.962044    61945.735265     953.872790\n",
      "\n",
      "[100 rows x 4 columns]\n"
     ]
    }
   ],
   "source": [
    "df_input = pd.read_csv('../../Datos/Limpios/datos1_limpios.csv', index_col=0)\n",
    "ipc_data = pd.read_excel('../../Datos/Originales/Dataset_1.xlsx', sheet_name='IPC')\n",
    "intereses_lista = pd.read_csv('../../Datos/Limpios/datos1_limpios.csv', index_col=0)\n",
    "intereses_lista = pd.read_csv('../../Datos/Intereses/Datos históricos del Euro Stoxx 50.csv', index_col=0)\n",
    "lista=list(intereses_lista['% var.'])\n",
    "intereses_lista = [float(str(i).replace('%', '').replace(',', '.')) / 100 for i in lista]\n",
    "\n",
    "resultados_df = calcular_primas_jubilacion_df(df_input, ipc_data, intereses_lista)\n",
    "print(resultados_df)"
   ]
  }
 ],
 "metadata": {
  "kernelspec": {
   "display_name": ".venv",
   "language": "python",
   "name": "python3"
  },
  "language_info": {
   "codemirror_mode": {
    "name": "ipython",
    "version": 3
   },
   "file_extension": ".py",
   "mimetype": "text/x-python",
   "name": "python",
   "nbconvert_exporter": "python",
   "pygments_lexer": "ipython3",
   "version": "3.13.1"
  }
 },
 "nbformat": 4,
 "nbformat_minor": 2
}
