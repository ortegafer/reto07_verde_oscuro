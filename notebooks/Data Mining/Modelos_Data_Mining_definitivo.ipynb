{
 "cells": [
  {
   "cell_type": "code",
   "execution_count": 130,
   "metadata": {},
   "outputs": [],
   "source": [
    "from sklearn.ensemble import RandomForestRegressor, GradientBoostingRegressor\n",
    "from sklearn.model_selection import train_test_split, cross_val_score\n",
    "from sklearn.metrics import mean_absolute_error, mean_squared_error, r2_score\n",
    "import numpy as np\n",
    "import pandas as pd\n",
    "import os\n",
    "import numpy as np\n",
    "import seaborn as sns\n",
    "import matplotlib.pyplot as plt\n",
    "from sklearn.ensemble import RandomForestRegressor\n",
    "from sklearn.model_selection import train_test_split, GridSearchCV\n",
    "from sklearn.metrics import mean_absolute_error, r2_score\n",
    "from sklearn.ensemble import RandomForestRegressor, GradientBoostingRegressor\n",
    "from sklearn.linear_model import Lasso, Ridge, ElasticNet\n",
    "from xgboost import XGBRegressor\n",
    "from lightgbm import LGBMRegressor\n",
    "from sklearn.neural_network import MLPRegressor\n",
    "from sklearn.model_selection import train_test_split, cross_val_score\n",
    "from sklearn.metrics import mean_absolute_error, mean_squared_error, r2_score\n",
    "import numpy as np\n"
   ]
  },
  {
   "cell_type": "code",
   "execution_count": 131,
   "metadata": {},
   "outputs": [],
   "source": [
    "# Cargar datos\n",
    "path_datos = os.path.join('..','..','Datos','Limpios')\n",
    "df2 = pd.read_csv(os.path.join(path_datos,'datos2_limpios.csv'), index_col=0)\n",
    "\n",
    "df2_limpio = df2.drop(['Porcentaje Ahorro (%)', 'Ahorro Actual (€)', 'Gasto Mensual (€)',\n",
    "                        'Vida Esperada (años)', 'Edad de Jubilación'], axis=1)"
   ]
  },
  {
   "cell_type": "code",
   "execution_count": 132,
   "metadata": {},
   "outputs": [],
   "source": [
    "# Definir variables de entrada y salida\n",
    "X = df2_limpio.drop(columns=['Años Hasta Jubilación'])\n",
    "y = df2_limpio['Años Hasta Jubilación']\n"
   ]
  },
  {
   "cell_type": "code",
   "execution_count": 133,
   "metadata": {},
   "outputs": [],
   "source": [
    "X_train, X_test, y_train, y_test = train_test_split(X, y, test_size=0.2, random_state=42)"
   ]
  },
  {
   "cell_type": "code",
   "execution_count": 134,
   "metadata": {},
   "outputs": [],
   "source": [
    "# Modelos a probar\n",
    "models = {\n",
    "    'Random Forest': RandomForestRegressor(n_estimators=100, max_depth=10, random_state=42),\n",
    "    'Gradient Boosting': GradientBoostingRegressor(n_estimators=100, learning_rate=0.1, random_state=42),\n",
    "    'XGBoost': XGBRegressor(n_estimators=100, learning_rate=0.1, random_state=42),\n",
    "    'LightGBM': LGBMRegressor(n_estimators=100, learning_rate=0.1, random_state=42),\n",
    "    'Lasso': Lasso(alpha=0.1),\n",
    "    'Ridge': Ridge(alpha=1.0),\n",
    "    'ElasticNet': ElasticNet(alpha=0.1, l1_ratio=0.5),\n",
    "    'Red Neuronal': MLPRegressor(hidden_layer_sizes=(100,50), activation='relu', solver='adam', max_iter=500)}"
   ]
  },
  {
   "cell_type": "code",
   "execution_count": 135,
   "metadata": {},
   "outputs": [
    {
     "name": "stdout",
     "output_type": "stream",
     "text": [
      "----- Random Forest -----\n",
      "MAE Entrenamiento: 1.12, MAE Prueba: 1.48\n",
      "RMSE Entrenamiento: 1.35, RMSE Prueba: 1.79\n",
      "R² Entrenamiento: 0.99, R² Prueba: 0.98\n",
      "------------------------------\n",
      "----- Gradient Boosting -----\n",
      "MAE Entrenamiento: 1.39, MAE Prueba: 1.41\n",
      "RMSE Entrenamiento: 1.66, RMSE Prueba: 1.69\n",
      "R² Entrenamiento: 0.98, R² Prueba: 0.98\n",
      "------------------------------\n",
      "----- XGBoost -----\n",
      "MAE Entrenamiento: 1.23, MAE Prueba: 1.45\n",
      "RMSE Entrenamiento: 1.48, RMSE Prueba: 1.75\n",
      "R² Entrenamiento: 0.99, R² Prueba: 0.98\n",
      "------------------------------\n",
      "[LightGBM] [Warning] Found whitespace in feature_names, replace with underlines\n",
      "[LightGBM] [Info] Auto-choosing col-wise multi-threading, the overhead of testing was 0,000079 seconds.\n",
      "You can set `force_col_wise=true` to remove the overhead.\n",
      "[LightGBM] [Info] Total Bins 300\n",
      "[LightGBM] [Info] Number of data points in the train set: 4000, number of used features: 2\n",
      "[LightGBM] [Info] Start training from score 22,275000\n",
      "----- LightGBM -----\n",
      "MAE Entrenamiento: 1.30, MAE Prueba: 1.44\n",
      "RMSE Entrenamiento: 1.57, RMSE Prueba: 1.74\n",
      "R² Entrenamiento: 0.98, R² Prueba: 0.98\n",
      "------------------------------\n",
      "----- Lasso -----\n",
      "MAE Entrenamiento: 1.44, MAE Prueba: 1.41\n",
      "RMSE Entrenamiento: 1.71, RMSE Prueba: 1.68\n",
      "R² Entrenamiento: 0.98, R² Prueba: 0.98\n",
      "------------------------------\n",
      "----- Ridge -----\n",
      "MAE Entrenamiento: 1.44, MAE Prueba: 1.41\n",
      "RMSE Entrenamiento: 1.71, RMSE Prueba: 1.68\n",
      "R² Entrenamiento: 0.98, R² Prueba: 0.98\n",
      "------------------------------\n",
      "----- ElasticNet -----\n",
      "MAE Entrenamiento: 1.44, MAE Prueba: 1.41\n",
      "RMSE Entrenamiento: 1.71, RMSE Prueba: 1.68\n",
      "R² Entrenamiento: 0.98, R² Prueba: 0.98\n",
      "------------------------------\n",
      "----- Red Neuronal -----\n",
      "MAE Entrenamiento: 13.15, MAE Prueba: 12.71\n",
      "RMSE Entrenamiento: 16.25, RMSE Prueba: 15.67\n",
      "R² Entrenamiento: -0.61, R² Prueba: -0.61\n",
      "------------------------------\n"
     ]
    }
   ],
   "source": [
    "# Evaluación de los modelos\n",
    "for name, model in models.items():\n",
    "    model.fit(X_train, y_train)\n",
    "    y_pred_train = model.predict(X_train)\n",
    "    y_pred_test = model.predict(X_test)\n",
    "    \n",
    "    # Cálculo de métricas\n",
    "    mae_train = mean_absolute_error(y_train, y_pred_train)\n",
    "    mae_test = mean_absolute_error(y_test, y_pred_test)\n",
    "    rmse_train = np.sqrt(mean_squared_error(y_train, y_pred_train))\n",
    "    rmse_test = np.sqrt(mean_squared_error(y_test, y_pred_test))\n",
    "    r2_train = r2_score(y_train, y_pred_train)\n",
    "    r2_test = r2_score(y_test, y_pred_test)\n",
    "    \n",
    "    print(f'----- {name} -----')\n",
    "    print(f'MAE Entrenamiento: {mae_train:.2f}, MAE Prueba: {mae_test:.2f}')\n",
    "    print(f'RMSE Entrenamiento: {rmse_train:.2f}, RMSE Prueba: {rmse_test:.2f}')\n",
    "    print(f'R² Entrenamiento: {r2_train:.2f}, R² Prueba: {r2_test:.2f}')\n",
    "    print('-' * 30)\n"
   ]
  },
  {
   "cell_type": "code",
   "execution_count": 136,
   "metadata": {},
   "outputs": [
    {
     "name": "stdout",
     "output_type": "stream",
     "text": [
      "R² promedio en validación cruzada para Random Forest: 0.98\n",
      "R² promedio en validación cruzada para Gradient Boosting: 0.98\n",
      "R² promedio en validación cruzada para XGBoost: 0.98\n",
      "[LightGBM] [Warning] Found whitespace in feature_names, replace with underlines\n",
      "[LightGBM] [Info] Auto-choosing col-wise multi-threading, the overhead of testing was 0,000097 seconds.\n",
      "You can set `force_col_wise=true` to remove the overhead.\n",
      "[LightGBM] [Info] Total Bins 300\n",
      "[LightGBM] [Info] Number of data points in the train set: 4000, number of used features: 2\n",
      "[LightGBM] [Info] Start training from score 22,167500\n",
      "[LightGBM] [Warning] Found whitespace in feature_names, replace with underlines\n",
      "[LightGBM] [Info] Auto-choosing col-wise multi-threading, the overhead of testing was 0,000087 seconds.\n",
      "You can set `force_col_wise=true` to remove the overhead.\n",
      "[LightGBM] [Info] Total Bins 300\n",
      "[LightGBM] [Info] Number of data points in the train set: 4000, number of used features: 2\n",
      "[LightGBM] [Info] Start training from score 22,170750\n",
      "[LightGBM] [Warning] Found whitespace in feature_names, replace with underlines\n",
      "[LightGBM] [Info] Auto-choosing col-wise multi-threading, the overhead of testing was 0,000077 seconds.\n",
      "You can set `force_col_wise=true` to remove the overhead.\n",
      "[LightGBM] [Info] Total Bins 300\n",
      "[LightGBM] [Info] Number of data points in the train set: 4000, number of used features: 2\n",
      "[LightGBM] [Info] Start training from score 22,041750\n",
      "[LightGBM] [Warning] Found whitespace in feature_names, replace with underlines\n",
      "[LightGBM] [Info] Auto-choosing col-wise multi-threading, the overhead of testing was 0,000093 seconds.\n",
      "You can set `force_col_wise=true` to remove the overhead.\n",
      "[LightGBM] [Info] Total Bins 300\n",
      "[LightGBM] [Info] Number of data points in the train set: 4000, number of used features: 2\n",
      "[LightGBM] [Info] Start training from score 22,136000\n",
      "[LightGBM] [Warning] Found whitespace in feature_names, replace with underlines\n",
      "[LightGBM] [Info] Auto-choosing col-wise multi-threading, the overhead of testing was 0,000093 seconds.\n",
      "You can set `force_col_wise=true` to remove the overhead.\n",
      "[LightGBM] [Info] Total Bins 300\n",
      "[LightGBM] [Info] Number of data points in the train set: 4000, number of used features: 2\n",
      "[LightGBM] [Info] Start training from score 21,914000\n",
      "R² promedio en validación cruzada para LightGBM: 0.98\n",
      "R² promedio en validación cruzada para Lasso: 0.98\n",
      "R² promedio en validación cruzada para Ridge: 0.98\n",
      "R² promedio en validación cruzada para ElasticNet: 0.98\n",
      "R² promedio en validación cruzada para Red Neuronal: -0.86\n"
     ]
    }
   ],
   "source": [
    "# Validación cruzada\n",
    "for name, model in models.items():\n",
    "    scores = cross_val_score(model, X, y, cv=5, scoring='r2')\n",
    "    print(f'R² promedio en validación cruzada para {name}: {np.mean(scores):.2f}')"
   ]
  },
  {
   "cell_type": "code",
   "execution_count": 137,
   "metadata": {},
   "outputs": [
    {
     "data": {
      "text/html": [
       "<style>#sk-container-id-12 {\n",
       "  /* Definition of color scheme common for light and dark mode */\n",
       "  --sklearn-color-text: #000;\n",
       "  --sklearn-color-text-muted: #666;\n",
       "  --sklearn-color-line: gray;\n",
       "  /* Definition of color scheme for unfitted estimators */\n",
       "  --sklearn-color-unfitted-level-0: #fff5e6;\n",
       "  --sklearn-color-unfitted-level-1: #f6e4d2;\n",
       "  --sklearn-color-unfitted-level-2: #ffe0b3;\n",
       "  --sklearn-color-unfitted-level-3: chocolate;\n",
       "  /* Definition of color scheme for fitted estimators */\n",
       "  --sklearn-color-fitted-level-0: #f0f8ff;\n",
       "  --sklearn-color-fitted-level-1: #d4ebff;\n",
       "  --sklearn-color-fitted-level-2: #b3dbfd;\n",
       "  --sklearn-color-fitted-level-3: cornflowerblue;\n",
       "\n",
       "  /* Specific color for light theme */\n",
       "  --sklearn-color-text-on-default-background: var(--sg-text-color, var(--theme-code-foreground, var(--jp-content-font-color1, black)));\n",
       "  --sklearn-color-background: var(--sg-background-color, var(--theme-background, var(--jp-layout-color0, white)));\n",
       "  --sklearn-color-border-box: var(--sg-text-color, var(--theme-code-foreground, var(--jp-content-font-color1, black)));\n",
       "  --sklearn-color-icon: #696969;\n",
       "\n",
       "  @media (prefers-color-scheme: dark) {\n",
       "    /* Redefinition of color scheme for dark theme */\n",
       "    --sklearn-color-text-on-default-background: var(--sg-text-color, var(--theme-code-foreground, var(--jp-content-font-color1, white)));\n",
       "    --sklearn-color-background: var(--sg-background-color, var(--theme-background, var(--jp-layout-color0, #111)));\n",
       "    --sklearn-color-border-box: var(--sg-text-color, var(--theme-code-foreground, var(--jp-content-font-color1, white)));\n",
       "    --sklearn-color-icon: #878787;\n",
       "  }\n",
       "}\n",
       "\n",
       "#sk-container-id-12 {\n",
       "  color: var(--sklearn-color-text);\n",
       "}\n",
       "\n",
       "#sk-container-id-12 pre {\n",
       "  padding: 0;\n",
       "}\n",
       "\n",
       "#sk-container-id-12 input.sk-hidden--visually {\n",
       "  border: 0;\n",
       "  clip: rect(1px 1px 1px 1px);\n",
       "  clip: rect(1px, 1px, 1px, 1px);\n",
       "  height: 1px;\n",
       "  margin: -1px;\n",
       "  overflow: hidden;\n",
       "  padding: 0;\n",
       "  position: absolute;\n",
       "  width: 1px;\n",
       "}\n",
       "\n",
       "#sk-container-id-12 div.sk-dashed-wrapped {\n",
       "  border: 1px dashed var(--sklearn-color-line);\n",
       "  margin: 0 0.4em 0.5em 0.4em;\n",
       "  box-sizing: border-box;\n",
       "  padding-bottom: 0.4em;\n",
       "  background-color: var(--sklearn-color-background);\n",
       "}\n",
       "\n",
       "#sk-container-id-12 div.sk-container {\n",
       "  /* jupyter's `normalize.less` sets `[hidden] { display: none; }`\n",
       "     but bootstrap.min.css set `[hidden] { display: none !important; }`\n",
       "     so we also need the `!important` here to be able to override the\n",
       "     default hidden behavior on the sphinx rendered scikit-learn.org.\n",
       "     See: https://github.com/scikit-learn/scikit-learn/issues/21755 */\n",
       "  display: inline-block !important;\n",
       "  position: relative;\n",
       "}\n",
       "\n",
       "#sk-container-id-12 div.sk-text-repr-fallback {\n",
       "  display: none;\n",
       "}\n",
       "\n",
       "div.sk-parallel-item,\n",
       "div.sk-serial,\n",
       "div.sk-item {\n",
       "  /* draw centered vertical line to link estimators */\n",
       "  background-image: linear-gradient(var(--sklearn-color-text-on-default-background), var(--sklearn-color-text-on-default-background));\n",
       "  background-size: 2px 100%;\n",
       "  background-repeat: no-repeat;\n",
       "  background-position: center center;\n",
       "}\n",
       "\n",
       "/* Parallel-specific style estimator block */\n",
       "\n",
       "#sk-container-id-12 div.sk-parallel-item::after {\n",
       "  content: \"\";\n",
       "  width: 100%;\n",
       "  border-bottom: 2px solid var(--sklearn-color-text-on-default-background);\n",
       "  flex-grow: 1;\n",
       "}\n",
       "\n",
       "#sk-container-id-12 div.sk-parallel {\n",
       "  display: flex;\n",
       "  align-items: stretch;\n",
       "  justify-content: center;\n",
       "  background-color: var(--sklearn-color-background);\n",
       "  position: relative;\n",
       "}\n",
       "\n",
       "#sk-container-id-12 div.sk-parallel-item {\n",
       "  display: flex;\n",
       "  flex-direction: column;\n",
       "}\n",
       "\n",
       "#sk-container-id-12 div.sk-parallel-item:first-child::after {\n",
       "  align-self: flex-end;\n",
       "  width: 50%;\n",
       "}\n",
       "\n",
       "#sk-container-id-12 div.sk-parallel-item:last-child::after {\n",
       "  align-self: flex-start;\n",
       "  width: 50%;\n",
       "}\n",
       "\n",
       "#sk-container-id-12 div.sk-parallel-item:only-child::after {\n",
       "  width: 0;\n",
       "}\n",
       "\n",
       "/* Serial-specific style estimator block */\n",
       "\n",
       "#sk-container-id-12 div.sk-serial {\n",
       "  display: flex;\n",
       "  flex-direction: column;\n",
       "  align-items: center;\n",
       "  background-color: var(--sklearn-color-background);\n",
       "  padding-right: 1em;\n",
       "  padding-left: 1em;\n",
       "}\n",
       "\n",
       "\n",
       "/* Toggleable style: style used for estimator/Pipeline/ColumnTransformer box that is\n",
       "clickable and can be expanded/collapsed.\n",
       "- Pipeline and ColumnTransformer use this feature and define the default style\n",
       "- Estimators will overwrite some part of the style using the `sk-estimator` class\n",
       "*/\n",
       "\n",
       "/* Pipeline and ColumnTransformer style (default) */\n",
       "\n",
       "#sk-container-id-12 div.sk-toggleable {\n",
       "  /* Default theme specific background. It is overwritten whether we have a\n",
       "  specific estimator or a Pipeline/ColumnTransformer */\n",
       "  background-color: var(--sklearn-color-background);\n",
       "}\n",
       "\n",
       "/* Toggleable label */\n",
       "#sk-container-id-12 label.sk-toggleable__label {\n",
       "  cursor: pointer;\n",
       "  display: flex;\n",
       "  width: 100%;\n",
       "  margin-bottom: 0;\n",
       "  padding: 0.5em;\n",
       "  box-sizing: border-box;\n",
       "  text-align: center;\n",
       "  align-items: start;\n",
       "  justify-content: space-between;\n",
       "  gap: 0.5em;\n",
       "}\n",
       "\n",
       "#sk-container-id-12 label.sk-toggleable__label .caption {\n",
       "  font-size: 0.6rem;\n",
       "  font-weight: lighter;\n",
       "  color: var(--sklearn-color-text-muted);\n",
       "}\n",
       "\n",
       "#sk-container-id-12 label.sk-toggleable__label-arrow:before {\n",
       "  /* Arrow on the left of the label */\n",
       "  content: \"▸\";\n",
       "  float: left;\n",
       "  margin-right: 0.25em;\n",
       "  color: var(--sklearn-color-icon);\n",
       "}\n",
       "\n",
       "#sk-container-id-12 label.sk-toggleable__label-arrow:hover:before {\n",
       "  color: var(--sklearn-color-text);\n",
       "}\n",
       "\n",
       "/* Toggleable content - dropdown */\n",
       "\n",
       "#sk-container-id-12 div.sk-toggleable__content {\n",
       "  max-height: 0;\n",
       "  max-width: 0;\n",
       "  overflow: hidden;\n",
       "  text-align: left;\n",
       "  /* unfitted */\n",
       "  background-color: var(--sklearn-color-unfitted-level-0);\n",
       "}\n",
       "\n",
       "#sk-container-id-12 div.sk-toggleable__content.fitted {\n",
       "  /* fitted */\n",
       "  background-color: var(--sklearn-color-fitted-level-0);\n",
       "}\n",
       "\n",
       "#sk-container-id-12 div.sk-toggleable__content pre {\n",
       "  margin: 0.2em;\n",
       "  border-radius: 0.25em;\n",
       "  color: var(--sklearn-color-text);\n",
       "  /* unfitted */\n",
       "  background-color: var(--sklearn-color-unfitted-level-0);\n",
       "}\n",
       "\n",
       "#sk-container-id-12 div.sk-toggleable__content.fitted pre {\n",
       "  /* unfitted */\n",
       "  background-color: var(--sklearn-color-fitted-level-0);\n",
       "}\n",
       "\n",
       "#sk-container-id-12 input.sk-toggleable__control:checked~div.sk-toggleable__content {\n",
       "  /* Expand drop-down */\n",
       "  max-height: 200px;\n",
       "  max-width: 100%;\n",
       "  overflow: auto;\n",
       "}\n",
       "\n",
       "#sk-container-id-12 input.sk-toggleable__control:checked~label.sk-toggleable__label-arrow:before {\n",
       "  content: \"▾\";\n",
       "}\n",
       "\n",
       "/* Pipeline/ColumnTransformer-specific style */\n",
       "\n",
       "#sk-container-id-12 div.sk-label input.sk-toggleable__control:checked~label.sk-toggleable__label {\n",
       "  color: var(--sklearn-color-text);\n",
       "  background-color: var(--sklearn-color-unfitted-level-2);\n",
       "}\n",
       "\n",
       "#sk-container-id-12 div.sk-label.fitted input.sk-toggleable__control:checked~label.sk-toggleable__label {\n",
       "  background-color: var(--sklearn-color-fitted-level-2);\n",
       "}\n",
       "\n",
       "/* Estimator-specific style */\n",
       "\n",
       "/* Colorize estimator box */\n",
       "#sk-container-id-12 div.sk-estimator input.sk-toggleable__control:checked~label.sk-toggleable__label {\n",
       "  /* unfitted */\n",
       "  background-color: var(--sklearn-color-unfitted-level-2);\n",
       "}\n",
       "\n",
       "#sk-container-id-12 div.sk-estimator.fitted input.sk-toggleable__control:checked~label.sk-toggleable__label {\n",
       "  /* fitted */\n",
       "  background-color: var(--sklearn-color-fitted-level-2);\n",
       "}\n",
       "\n",
       "#sk-container-id-12 div.sk-label label.sk-toggleable__label,\n",
       "#sk-container-id-12 div.sk-label label {\n",
       "  /* The background is the default theme color */\n",
       "  color: var(--sklearn-color-text-on-default-background);\n",
       "}\n",
       "\n",
       "/* On hover, darken the color of the background */\n",
       "#sk-container-id-12 div.sk-label:hover label.sk-toggleable__label {\n",
       "  color: var(--sklearn-color-text);\n",
       "  background-color: var(--sklearn-color-unfitted-level-2);\n",
       "}\n",
       "\n",
       "/* Label box, darken color on hover, fitted */\n",
       "#sk-container-id-12 div.sk-label.fitted:hover label.sk-toggleable__label.fitted {\n",
       "  color: var(--sklearn-color-text);\n",
       "  background-color: var(--sklearn-color-fitted-level-2);\n",
       "}\n",
       "\n",
       "/* Estimator label */\n",
       "\n",
       "#sk-container-id-12 div.sk-label label {\n",
       "  font-family: monospace;\n",
       "  font-weight: bold;\n",
       "  display: inline-block;\n",
       "  line-height: 1.2em;\n",
       "}\n",
       "\n",
       "#sk-container-id-12 div.sk-label-container {\n",
       "  text-align: center;\n",
       "}\n",
       "\n",
       "/* Estimator-specific */\n",
       "#sk-container-id-12 div.sk-estimator {\n",
       "  font-family: monospace;\n",
       "  border: 1px dotted var(--sklearn-color-border-box);\n",
       "  border-radius: 0.25em;\n",
       "  box-sizing: border-box;\n",
       "  margin-bottom: 0.5em;\n",
       "  /* unfitted */\n",
       "  background-color: var(--sklearn-color-unfitted-level-0);\n",
       "}\n",
       "\n",
       "#sk-container-id-12 div.sk-estimator.fitted {\n",
       "  /* fitted */\n",
       "  background-color: var(--sklearn-color-fitted-level-0);\n",
       "}\n",
       "\n",
       "/* on hover */\n",
       "#sk-container-id-12 div.sk-estimator:hover {\n",
       "  /* unfitted */\n",
       "  background-color: var(--sklearn-color-unfitted-level-2);\n",
       "}\n",
       "\n",
       "#sk-container-id-12 div.sk-estimator.fitted:hover {\n",
       "  /* fitted */\n",
       "  background-color: var(--sklearn-color-fitted-level-2);\n",
       "}\n",
       "\n",
       "/* Specification for estimator info (e.g. \"i\" and \"?\") */\n",
       "\n",
       "/* Common style for \"i\" and \"?\" */\n",
       "\n",
       ".sk-estimator-doc-link,\n",
       "a:link.sk-estimator-doc-link,\n",
       "a:visited.sk-estimator-doc-link {\n",
       "  float: right;\n",
       "  font-size: smaller;\n",
       "  line-height: 1em;\n",
       "  font-family: monospace;\n",
       "  background-color: var(--sklearn-color-background);\n",
       "  border-radius: 1em;\n",
       "  height: 1em;\n",
       "  width: 1em;\n",
       "  text-decoration: none !important;\n",
       "  margin-left: 0.5em;\n",
       "  text-align: center;\n",
       "  /* unfitted */\n",
       "  border: var(--sklearn-color-unfitted-level-1) 1pt solid;\n",
       "  color: var(--sklearn-color-unfitted-level-1);\n",
       "}\n",
       "\n",
       ".sk-estimator-doc-link.fitted,\n",
       "a:link.sk-estimator-doc-link.fitted,\n",
       "a:visited.sk-estimator-doc-link.fitted {\n",
       "  /* fitted */\n",
       "  border: var(--sklearn-color-fitted-level-1) 1pt solid;\n",
       "  color: var(--sklearn-color-fitted-level-1);\n",
       "}\n",
       "\n",
       "/* On hover */\n",
       "div.sk-estimator:hover .sk-estimator-doc-link:hover,\n",
       ".sk-estimator-doc-link:hover,\n",
       "div.sk-label-container:hover .sk-estimator-doc-link:hover,\n",
       ".sk-estimator-doc-link:hover {\n",
       "  /* unfitted */\n",
       "  background-color: var(--sklearn-color-unfitted-level-3);\n",
       "  color: var(--sklearn-color-background);\n",
       "  text-decoration: none;\n",
       "}\n",
       "\n",
       "div.sk-estimator.fitted:hover .sk-estimator-doc-link.fitted:hover,\n",
       ".sk-estimator-doc-link.fitted:hover,\n",
       "div.sk-label-container:hover .sk-estimator-doc-link.fitted:hover,\n",
       ".sk-estimator-doc-link.fitted:hover {\n",
       "  /* fitted */\n",
       "  background-color: var(--sklearn-color-fitted-level-3);\n",
       "  color: var(--sklearn-color-background);\n",
       "  text-decoration: none;\n",
       "}\n",
       "\n",
       "/* Span, style for the box shown on hovering the info icon */\n",
       ".sk-estimator-doc-link span {\n",
       "  display: none;\n",
       "  z-index: 9999;\n",
       "  position: relative;\n",
       "  font-weight: normal;\n",
       "  right: .2ex;\n",
       "  padding: .5ex;\n",
       "  margin: .5ex;\n",
       "  width: min-content;\n",
       "  min-width: 20ex;\n",
       "  max-width: 50ex;\n",
       "  color: var(--sklearn-color-text);\n",
       "  box-shadow: 2pt 2pt 4pt #999;\n",
       "  /* unfitted */\n",
       "  background: var(--sklearn-color-unfitted-level-0);\n",
       "  border: .5pt solid var(--sklearn-color-unfitted-level-3);\n",
       "}\n",
       "\n",
       ".sk-estimator-doc-link.fitted span {\n",
       "  /* fitted */\n",
       "  background: var(--sklearn-color-fitted-level-0);\n",
       "  border: var(--sklearn-color-fitted-level-3);\n",
       "}\n",
       "\n",
       ".sk-estimator-doc-link:hover span {\n",
       "  display: block;\n",
       "}\n",
       "\n",
       "/* \"?\"-specific style due to the `<a>` HTML tag */\n",
       "\n",
       "#sk-container-id-12 a.estimator_doc_link {\n",
       "  float: right;\n",
       "  font-size: 1rem;\n",
       "  line-height: 1em;\n",
       "  font-family: monospace;\n",
       "  background-color: var(--sklearn-color-background);\n",
       "  border-radius: 1rem;\n",
       "  height: 1rem;\n",
       "  width: 1rem;\n",
       "  text-decoration: none;\n",
       "  /* unfitted */\n",
       "  color: var(--sklearn-color-unfitted-level-1);\n",
       "  border: var(--sklearn-color-unfitted-level-1) 1pt solid;\n",
       "}\n",
       "\n",
       "#sk-container-id-12 a.estimator_doc_link.fitted {\n",
       "  /* fitted */\n",
       "  border: var(--sklearn-color-fitted-level-1) 1pt solid;\n",
       "  color: var(--sklearn-color-fitted-level-1);\n",
       "}\n",
       "\n",
       "/* On hover */\n",
       "#sk-container-id-12 a.estimator_doc_link:hover {\n",
       "  /* unfitted */\n",
       "  background-color: var(--sklearn-color-unfitted-level-3);\n",
       "  color: var(--sklearn-color-background);\n",
       "  text-decoration: none;\n",
       "}\n",
       "\n",
       "#sk-container-id-12 a.estimator_doc_link.fitted:hover {\n",
       "  /* fitted */\n",
       "  background-color: var(--sklearn-color-fitted-level-3);\n",
       "}\n",
       "</style><div id=\"sk-container-id-12\" class=\"sk-top-container\"><div class=\"sk-text-repr-fallback\"><pre>GradientBoostingRegressor(learning_rate=0.05, max_depth=2, min_samples_split=10,\n",
       "                          n_estimators=180, random_state=42)</pre><b>In a Jupyter environment, please rerun this cell to show the HTML representation or trust the notebook. <br />On GitHub, the HTML representation is unable to render, please try loading this page with nbviewer.org.</b></div><div class=\"sk-container\" hidden><div class=\"sk-item\"><div class=\"sk-estimator fitted sk-toggleable\"><input class=\"sk-toggleable__control sk-hidden--visually\" id=\"sk-estimator-id-12\" type=\"checkbox\" checked><label for=\"sk-estimator-id-12\" class=\"sk-toggleable__label fitted sk-toggleable__label-arrow\"><div><div>GradientBoostingRegressor</div></div><div><a class=\"sk-estimator-doc-link fitted\" rel=\"noreferrer\" target=\"_blank\" href=\"https://scikit-learn.org/1.6/modules/generated/sklearn.ensemble.GradientBoostingRegressor.html\">?<span>Documentation for GradientBoostingRegressor</span></a><span class=\"sk-estimator-doc-link fitted\">i<span>Fitted</span></span></div></label><div class=\"sk-toggleable__content fitted\"><pre>GradientBoostingRegressor(learning_rate=0.05, max_depth=2, min_samples_split=10,\n",
       "                          n_estimators=180, random_state=42)</pre></div> </div></div></div></div>"
      ],
      "text/plain": [
       "GradientBoostingRegressor(learning_rate=0.05, max_depth=2, min_samples_split=10,\n",
       "                          n_estimators=180, random_state=42)"
      ]
     },
     "execution_count": 137,
     "metadata": {},
     "output_type": "execute_result"
    }
   ],
   "source": [
    "from sklearn.ensemble import GradientBoostingRegressor\n",
    "from sklearn.model_selection import GridSearchCV\n",
    "\n",
    "param_grid = {\n",
    "    'n_estimators': [120 ,150,180 ],\n",
    "    'max_depth': [2,4,7],\n",
    "    'min_samples_split': [7, 10,15],\n",
    "    'learning_rate': [0.01, 0.05, 0.1, 0.2]\n",
    "}\n",
    "\n",
    "rf = GradientBoostingRegressor(random_state=42)\n",
    "grid_search = GridSearchCV(rf, param_grid, cv=5, scoring='neg_mean_absolute_error', n_jobs=-1)\n",
    "grid_search.fit(X_train, y_train)\n",
    "\n",
    "best_model = grid_search.best_estimator_\n",
    "\n",
    "best_model"
   ]
  },
  {
   "cell_type": "code",
   "execution_count": 138,
   "metadata": {},
   "outputs": [],
   "source": [
    "# Modelos a probar\n",
    "models = {\n",
    "    'Random Forest': RandomForestRegressor(n_estimators=100, max_depth=10, random_state=42),\n",
    "    'Gradient Boosting': GradientBoostingRegressor(n_estimators=120, min_samples_split=10, max_depth=2 , learning_rate=0.05, random_state=42),\n",
    "    'XGBoost': XGBRegressor(n_estimators=100, learning_rate=0.1, random_state=42),\n",
    "    'LightGBM': LGBMRegressor(n_estimators=100, learning_rate=0.1, random_state=42),\n",
    "    'Lasso': Lasso(alpha=0.1),\n",
    "    'Ridge': Ridge(alpha=1.0),\n",
    "    'ElasticNet': ElasticNet(alpha=0.1, l1_ratio=0.5),\n",
    "    'Red Neuronal': MLPRegressor(hidden_layer_sizes=(100,50), activation='relu', solver='adam', max_iter=500)}"
   ]
  },
  {
   "cell_type": "code",
   "execution_count": 139,
   "metadata": {},
   "outputs": [
    {
     "name": "stdout",
     "output_type": "stream",
     "text": [
      "----- Random Forest -----\n",
      "MAE Entrenamiento: 1.12, MAE Prueba: 1.48\n",
      "RMSE Entrenamiento: 1.35, RMSE Prueba: 1.79\n",
      "R² Entrenamiento: 0.99, R² Prueba: 0.98\n",
      "------------------------------\n",
      "----- Gradient Boosting -----\n",
      "MAE Entrenamiento: 1.43, MAE Prueba: 1.41\n",
      "RMSE Entrenamiento: 1.70, RMSE Prueba: 1.69\n",
      "R² Entrenamiento: 0.98, R² Prueba: 0.98\n",
      "------------------------------\n",
      "----- XGBoost -----\n",
      "MAE Entrenamiento: 1.23, MAE Prueba: 1.45\n",
      "RMSE Entrenamiento: 1.48, RMSE Prueba: 1.75\n",
      "R² Entrenamiento: 0.99, R² Prueba: 0.98\n",
      "------------------------------\n",
      "[LightGBM] [Warning] Found whitespace in feature_names, replace with underlines\n",
      "[LightGBM] [Info] Auto-choosing col-wise multi-threading, the overhead of testing was 0,000137 seconds.\n",
      "You can set `force_col_wise=true` to remove the overhead.\n",
      "[LightGBM] [Info] Total Bins 300\n",
      "[LightGBM] [Info] Number of data points in the train set: 4000, number of used features: 2\n",
      "[LightGBM] [Info] Start training from score 22,275000\n",
      "----- LightGBM -----\n",
      "MAE Entrenamiento: 1.30, MAE Prueba: 1.44\n",
      "RMSE Entrenamiento: 1.57, RMSE Prueba: 1.74\n",
      "R² Entrenamiento: 0.98, R² Prueba: 0.98\n",
      "------------------------------\n",
      "----- Lasso -----\n",
      "MAE Entrenamiento: 1.44, MAE Prueba: 1.41\n",
      "RMSE Entrenamiento: 1.71, RMSE Prueba: 1.68\n",
      "R² Entrenamiento: 0.98, R² Prueba: 0.98\n",
      "------------------------------\n",
      "----- Ridge -----\n",
      "MAE Entrenamiento: 1.44, MAE Prueba: 1.41\n",
      "RMSE Entrenamiento: 1.71, RMSE Prueba: 1.68\n",
      "R² Entrenamiento: 0.98, R² Prueba: 0.98\n",
      "------------------------------\n",
      "----- ElasticNet -----\n",
      "MAE Entrenamiento: 1.44, MAE Prueba: 1.41\n",
      "RMSE Entrenamiento: 1.71, RMSE Prueba: 1.68\n",
      "R² Entrenamiento: 0.98, R² Prueba: 0.98\n",
      "------------------------------\n",
      "----- Red Neuronal -----\n",
      "MAE Entrenamiento: 14.24, MAE Prueba: 14.18\n",
      "RMSE Entrenamiento: 19.02, RMSE Prueba: 18.74\n",
      "R² Entrenamiento: -1.21, R² Prueba: -1.30\n",
      "------------------------------\n"
     ]
    }
   ],
   "source": [
    "# Evaluación de los modelos\n",
    "for name, model in models.items():\n",
    "    model.fit(X_train, y_train)\n",
    "    y_pred_train = model.predict(X_train)\n",
    "    y_pred_test = model.predict(X_test)\n",
    "    \n",
    "    # Cálculo de métricas\n",
    "    mae_train = mean_absolute_error(y_train, y_pred_train)\n",
    "    mae_test = mean_absolute_error(y_test, y_pred_test)\n",
    "    rmse_train = np.sqrt(mean_squared_error(y_train, y_pred_train))\n",
    "    rmse_test = np.sqrt(mean_squared_error(y_test, y_pred_test))\n",
    "    r2_train = r2_score(y_train, y_pred_train)\n",
    "    r2_test = r2_score(y_test, y_pred_test)\n",
    "    \n",
    "    print(f'----- {name} -----')\n",
    "    print(f'MAE Entrenamiento: {mae_train:.2f}, MAE Prueba: {mae_test:.2f}')\n",
    "    print(f'RMSE Entrenamiento: {rmse_train:.2f}, RMSE Prueba: {rmse_test:.2f}')\n",
    "    print(f'R² Entrenamiento: {r2_train:.2f}, R² Prueba: {r2_test:.2f}')\n",
    "    print('-' * 30)"
   ]
  },
  {
   "cell_type": "code",
   "execution_count": 140,
   "metadata": {},
   "outputs": [],
   "source": [
    "# Cargar nuevo dataset\n",
    "df = pd.read_csv(os.path.join(path_datos, 'datos1_limpios.csv'), index_col=0)"
   ]
  },
  {
   "cell_type": "code",
   "execution_count": 141,
   "metadata": {},
   "outputs": [],
   "source": [
    "X_2 = df.drop(['ID', 'FECHA NAC', 'SEXO', 'FECHA ENTRADA', 'PARA CONTAR MESES'], axis=1)"
   ]
  },
  {
   "cell_type": "code",
   "execution_count": 142,
   "metadata": {},
   "outputs": [
    {
     "data": {
      "application/vnd.microsoft.datawrangler.viewer.v0+json": {
       "columns": [
        {
         "name": "index",
         "rawType": "int64",
         "type": "integer"
        },
        {
         "name": "Edad",
         "rawType": "int64",
         "type": "integer"
        },
        {
         "name": "Ingreso Anual (€)",
         "rawType": "float64",
         "type": "float"
        }
       ],
       "conversionMethod": "pd.DataFrame",
       "ref": "4196d62a-6c04-4e3d-b3d7-f26df8cc9941",
       "rows": [
        [
         "0",
         "51",
         "15319.07"
        ],
        [
         "1",
         "30",
         "19168.8"
        ],
        [
         "2",
         "52",
         "18719.86"
        ],
        [
         "3",
         "50",
         "12942.6"
        ],
        [
         "4",
         "49",
         "20158.08"
        ],
        [
         "5",
         "39",
         "12357.72"
        ],
        [
         "6",
         "32",
         "21462.23"
        ],
        [
         "7",
         "47",
         "17671.9"
        ],
        [
         "8",
         "54",
         "14948.96"
        ],
        [
         "9",
         "43",
         "23354.4"
        ],
        [
         "10",
         "25",
         "26246.18"
        ],
        [
         "11",
         "54",
         "25642.92"
        ],
        [
         "12",
         "43",
         "27239.49"
        ],
        [
         "13",
         "45",
         "17779.39"
        ],
        [
         "14",
         "43",
         "17440.09"
        ],
        [
         "15",
         "38",
         "27142.99"
        ],
        [
         "16",
         "33",
         "16861.4"
        ],
        [
         "17",
         "25",
         "17578.37"
        ],
        [
         "18",
         "28",
         "13417.04"
        ],
        [
         "19",
         "36",
         "27908.8"
        ],
        [
         "20",
         "43",
         "27789.88"
        ],
        [
         "21",
         "49",
         "17506.92"
        ],
        [
         "22",
         "45",
         "26949.42"
        ],
        [
         "23",
         "34",
         "19040.49"
        ],
        [
         "24",
         "49",
         "20749.63"
        ],
        [
         "25",
         "28",
         "17134.96"
        ],
        [
         "26",
         "36",
         "12838.79"
        ],
        [
         "27",
         "47",
         "22066.65"
        ],
        [
         "28",
         "34",
         "16343.52"
        ],
        [
         "29",
         "32",
         "12251.63"
        ],
        [
         "30",
         "47",
         "21570.5"
        ],
        [
         "31",
         "30",
         "26711.41"
        ],
        [
         "32",
         "42",
         "12876.43"
        ],
        [
         "33",
         "29",
         "17834.24"
        ],
        [
         "34",
         "38",
         "26675.1"
        ],
        [
         "35",
         "35",
         "21267.61"
        ],
        [
         "36",
         "40",
         "18634.68"
        ],
        [
         "37",
         "26",
         "15827.73"
        ],
        [
         "38",
         "36",
         "17722.6"
        ],
        [
         "39",
         "36",
         "27833.1"
        ],
        [
         "40",
         "30",
         "21251.36"
        ],
        [
         "41",
         "37",
         "12505.82"
        ],
        [
         "42",
         "32",
         "14674.69"
        ],
        [
         "43",
         "37",
         "23801.44"
        ],
        [
         "44",
         "43",
         "21371.21"
        ],
        [
         "45",
         "44",
         "17537.62"
        ],
        [
         "46",
         "52",
         "27494.69"
        ],
        [
         "47",
         "54",
         "26914.17"
        ],
        [
         "48",
         "31",
         "30918.44"
        ],
        [
         "49",
         "28",
         "30162.9"
        ]
       ],
       "shape": {
        "columns": 2,
        "rows": 100
       }
      },
      "text/html": [
       "<div>\n",
       "<style scoped>\n",
       "    .dataframe tbody tr th:only-of-type {\n",
       "        vertical-align: middle;\n",
       "    }\n",
       "\n",
       "    .dataframe tbody tr th {\n",
       "        vertical-align: top;\n",
       "    }\n",
       "\n",
       "    .dataframe thead th {\n",
       "        text-align: right;\n",
       "    }\n",
       "</style>\n",
       "<table border=\"1\" class=\"dataframe\">\n",
       "  <thead>\n",
       "    <tr style=\"text-align: right;\">\n",
       "      <th></th>\n",
       "      <th>Edad</th>\n",
       "      <th>Ingreso Anual (€)</th>\n",
       "    </tr>\n",
       "  </thead>\n",
       "  <tbody>\n",
       "    <tr>\n",
       "      <th>0</th>\n",
       "      <td>51</td>\n",
       "      <td>15319.07</td>\n",
       "    </tr>\n",
       "    <tr>\n",
       "      <th>1</th>\n",
       "      <td>30</td>\n",
       "      <td>19168.80</td>\n",
       "    </tr>\n",
       "    <tr>\n",
       "      <th>2</th>\n",
       "      <td>52</td>\n",
       "      <td>18719.86</td>\n",
       "    </tr>\n",
       "    <tr>\n",
       "      <th>3</th>\n",
       "      <td>50</td>\n",
       "      <td>12942.60</td>\n",
       "    </tr>\n",
       "    <tr>\n",
       "      <th>4</th>\n",
       "      <td>49</td>\n",
       "      <td>20158.08</td>\n",
       "    </tr>\n",
       "    <tr>\n",
       "      <th>...</th>\n",
       "      <td>...</td>\n",
       "      <td>...</td>\n",
       "    </tr>\n",
       "    <tr>\n",
       "      <th>95</th>\n",
       "      <td>50</td>\n",
       "      <td>25222.69</td>\n",
       "    </tr>\n",
       "    <tr>\n",
       "      <th>96</th>\n",
       "      <td>34</td>\n",
       "      <td>18759.95</td>\n",
       "    </tr>\n",
       "    <tr>\n",
       "      <th>97</th>\n",
       "      <td>26</td>\n",
       "      <td>22175.25</td>\n",
       "    </tr>\n",
       "    <tr>\n",
       "      <th>98</th>\n",
       "      <td>36</td>\n",
       "      <td>25972.71</td>\n",
       "    </tr>\n",
       "    <tr>\n",
       "      <th>99</th>\n",
       "      <td>41</td>\n",
       "      <td>25657.46</td>\n",
       "    </tr>\n",
       "  </tbody>\n",
       "</table>\n",
       "<p>100 rows × 2 columns</p>\n",
       "</div>"
      ],
      "text/plain": [
       "    Edad  Ingreso Anual (€)\n",
       "0     51           15319.07\n",
       "1     30           19168.80\n",
       "2     52           18719.86\n",
       "3     50           12942.60\n",
       "4     49           20158.08\n",
       "..   ...                ...\n",
       "95    50           25222.69\n",
       "96    34           18759.95\n",
       "97    26           22175.25\n",
       "98    36           25972.71\n",
       "99    41           25657.46\n",
       "\n",
       "[100 rows x 2 columns]"
      ]
     },
     "execution_count": 142,
     "metadata": {},
     "output_type": "execute_result"
    }
   ],
   "source": [
    "X_2.columns = ['Ingreso Anual (€)','Edad']\n",
    "X_2 = X_2[['Edad','Ingreso Anual (€)']] \n",
    "X_2"
   ]
  },
  {
   "cell_type": "code",
   "execution_count": 143,
   "metadata": {},
   "outputs": [],
   "source": [
    "model_rf = models['Random Forest']"
   ]
  },
  {
   "cell_type": "code",
   "execution_count": 144,
   "metadata": {},
   "outputs": [
    {
     "data": {
      "text/plain": [
       "array([35.59299305,  3.0028848 , 21.40324514, 32.50704032, 43.89722629,\n",
       "       19.77363989, 14.92920877, 32.32382711, 33.57708009, 14.50343557,\n",
       "       32.57349895, 38.9065146 ,  4.44773808, 15.68255578, 29.40488577,\n",
       "       38.37355962, 13.41443881, 17.78308607, 39.5411492 , 39.1223674 ,\n",
       "       42.98890495, 39.5411492 , 13.74418199,  4.86648249, 27.23501282,\n",
       "        7.13440847, 10.56741347, 33.72690317, 25.99314419, 26.57162849,\n",
       "       18.26200402, 41.02129072, 33.2757526 , 26.4591846 , 27.50840027,\n",
       "       34.00351577, 12.62965213, 40.07940977, 24.55655237,  7.87163488,\n",
       "       26.19113996, 10.87547802,  4.88408436, 23.97244423, 27.10848155,\n",
       "        8.16899158, 20.38084123, 28.79636997, 22.61835394,  5.95853771,\n",
       "       17.43151956,  1.5046278 , 32.15570932, 12.86287162,  7.55744106,\n",
       "       43.07836895, 16.78286433,  4.1207264 ,  6.92839284, 35.89198571,\n",
       "        3.14190072, 26.04084644, 23.78616084, 34.00351577, 24.55655237,\n",
       "       40.69640672, 28.78811303,  0.43862708, 26.68948589, 12.31777095,\n",
       "        6.32479749, 21.40324514, 29.38969132,  0.81048609,  9.37558918,\n",
       "       18.93358723, 16.6058366 , 15.68374767, 35.89198571, 26.19148873,\n",
       "       13.11330961,  2.84437093, 29.6330928 ,  4.37047407, 42.21237196,\n",
       "       28.6453391 , 40.39329263, 38.4808393 ,  3.42713259, 29.81892548,\n",
       "       35.69790528, 17.40178178,  0.81048609, 14.04539904,  7.6981319 ,\n",
       "       24.98706151, 22.36164874, 35.33458448, 29.27648541, 33.11815462,\n",
       "       24.06844419, 27.1960116 , 32.78305758,  3.13341442,  9.92028809,\n",
       "       11.85734775, 28.32106582, 32.81509639, 38.43656319, 40.64281397,\n",
       "        6.83096752, 13.75106374, 10.2743908 , 32.32382711, 15.76947594,\n",
       "       32.32382711, 14.51443557, 31.77581575,  1.0056595 , 40.39329263,\n",
       "       19.35830955,  3.59627559, 34.06709583,  7.04908501, 31.72988556,\n",
       "       36.66103578,  5.1893141 , 11.42151119, 25.87891323, 11.85734775,\n",
       "       28.57130059, 23.70424446, 29.68401478, 43.94912908,  5.01493958,\n",
       "       17.40178178, 15.56932424, 25.76420702,  7.4163656 ,  6.41979408,\n",
       "        1.04992841,  1.34889612,  4.37047407,  6.85213653, 15.30516075,\n",
       "       15.49627484, 27.46648874, 23.70783644, 26.1629173 , 31.77581575,\n",
       "       35.60207513, 28.80585951, 20.95657567, 10.3349522 , 27.08064028,\n",
       "       11.27456763,  3.09127447, 23.83099333,  7.6981319 ,  6.80715397,\n",
       "       26.44379248,  3.94316245, 20.47826945, 15.94626338, 23.70424446,\n",
       "       29.81515864, 38.56686141, 10.56741347, 26.3039476 , 22.15149132,\n",
       "       41.43003358, 42.89872673, 31.61876522, 24.40935342, 23.70424446,\n",
       "        4.31103767, 20.35631962, 41.11843784, 34.66208836, 29.86011063,\n",
       "       27.39953012, 35.33458448, 43.54934561, 20.47826945, 41.18050077,\n",
       "        1.29132011,  8.46545003, 15.68374767, 24.2446583 , 22.05766308,\n",
       "       42.69710508, 25.28358869,  5.91056791, 20.23418091,  1.19584011,\n",
       "       32.15266361, 22.43886395, 26.41331168, 15.42500211, 10.3549522 ,\n",
       "       42.21237196, 18.28537226, 21.15681934, 27.71313451,  7.6981319 ,\n",
       "        1.04992841, 40.63215799,  5.64503657, 12.22353291, 16.33710823,\n",
       "       36.42105809,  9.37558918, 18.18740413, 29.71685231, 31.72988556,\n",
       "       37.53562961, 26.18364959, 14.13743441,  3.31733807, 13.9063757 ,\n",
       "       15.74008677, 27.61470623, 38.56992696, 21.85322243, 38.65049326,\n",
       "        4.86648249, 32.32382711, 17.26609889, 10.97602351, 31.23551291,\n",
       "       17.74115127, 22.75467032,  3.90006346, 38.49793373, 39.60794458,\n",
       "       33.31890264, 36.30423168,  1.70961562, 24.77972191, 28.79636997,\n",
       "       21.89867976,  6.26281996, 13.84813461, 29.16086774,  1.04992841,\n",
       "       17.44675499,  6.41979408,  4.37047407, 38.77639503, 13.55075365,\n",
       "       36.38587557, 31.72988556, 42.21237196, 29.64608485, 11.38506014,\n",
       "       32.6130378 , 24.14386896, 30.7518534 , 32.81840542, 25.63201024,\n",
       "       22.80521668,  0.34399961,  5.1893141 ,  0.67319705,  3.33286523,\n",
       "       18.95044987, 29.27648541, 21.43387275, 33.72045906, 32.15570932,\n",
       "       23.7879904 , 23.55963719, 19.77363989, 35.95273199, 10.01873281,\n",
       "       14.56608428, 17.65516781, 29.86706295,  7.16002729, 11.29756797,\n",
       "       17.16231767, 32.70822653, 26.23943242, 23.2395166 ,  4.86478529,\n",
       "        3.15341442,  8.8013782 ,  6.82714284, 33.31890264, 16.35104968,\n",
       "       27.10580205, 27.96215875,  8.36581769,  7.14833333, 41.18050077,\n",
       "       26.38664502, 30.7800085 , 10.42227226, 10.2743908 , 26.40585797,\n",
       "        0.29966627, 28.30677622, 14.56608428, 41.15351703, 15.96359505,\n",
       "       31.37730327, 10.2743908 ,  3.59627559, 18.37326877, 24.09059742,\n",
       "       38.93512021, 18.58340755, 32.82255265, 14.77216654, 35.30518544,\n",
       "       14.5329024 , 11.8087343 , 39.62927447,  6.23058956, 15.64214592,\n",
       "        2.6944635 , 16.33710823, 29.00089113, 16.28478845, 26.03054595,\n",
       "       42.95976948,  7.73379669,  0.30588514, 24.55655237, 25.90242201,\n",
       "       20.47826945,  3.86253219, 39.62927447, 25.40544128,  8.46988764,\n",
       "       15.68374767, 18.21292141, 34.7947827 ,  8.16899158, 35.92242285,\n",
       "       43.12279656, 24.55655237,  1.5046278 , 11.53626157, 18.92725389,\n",
       "       14.75409608, 27.24425938, 39.5411492 , 31.04363422, 29.89556518,\n",
       "       23.42476277, 13.28615802, 33.31890264, 16.50508753, 13.04647249,\n",
       "        4.86648249, 12.31777095, 24.55655237, 28.07600179, 27.87105369,\n",
       "        7.04908501, 14.65597223, 32.17842126, 16.33710823, 39.13645831,\n",
       "       15.6681512 , 33.54385351, 24.31307496, 33.56000088, 14.50069294,\n",
       "       14.88112746, 43.28868345, 14.56852074, 11.88744193, 28.79636997,\n",
       "       21.85322243, 14.19535167, 10.30675073, 17.19378319, 16.62002271,\n",
       "       14.72181679, 22.1402489 , 25.43624128,  3.1989779 , 28.58741565,\n",
       "       36.38587557, 34.10824142, 15.85916744, 17.68916358,  3.34972063,\n",
       "       19.77363989, 41.18050077, 36.11052772, 15.85042804, 19.77363989,\n",
       "        1.5046278 ,  2.30372245,  3.31276505, 33.33698918,  6.72582319,\n",
       "       28.24927041, 18.87098783,  1.5046278 , 10.39860519, 34.57521488,\n",
       "       17.37408926, 14.17479553, 24.62222294, 29.00478338, 34.61999651,\n",
       "        3.92315074, 23.72118331, 14.77624019, 35.33160761, 20.25309567,\n",
       "       32.93365346, 34.94260051,  6.72582319, 35.64697743, 19.77363989,\n",
       "       15.65370398, 30.60865244, 30.76047426, 18.87098783,  3.50675142,\n",
       "       29.75425945,  8.36814213, 16.19269206, 18.87098783, 40.02929614,\n",
       "        6.82714284, 32.17569407,  3.59627559,  6.45347992,  3.92814001,\n",
       "       42.27506037, 38.90702324,  7.94208737, 32.32382711, 28.49498259,\n",
       "       38.43656319, 15.96487499, 19.83579325,  3.59627559, 20.47826945,\n",
       "        3.0287809 , 21.40324514, 37.16713834,  3.27755675,  4.07383439,\n",
       "       11.27456763, 24.55655237,  5.73157876, 26.19148873, 42.77272762,\n",
       "        4.12350737, 39.01241285, 14.35778468, 22.39200001, 14.4867689 ,\n",
       "       18.87098783, 37.63591324, 44.35264394, 18.28537226, 28.97822304,\n",
       "       42.92305317,  9.36569892, 16.02111614, 21.41207577, 42.21237196,\n",
       "       31.79550703,  4.18126826, 31.19043051, 33.28952522,  9.37558918,\n",
       "        0.63788514, 19.77363989, 38.43656319, 36.68092995,  9.73153145,\n",
       "       31.19043051, 13.55075365,  7.32151614, 38.73475904, 18.50261023,\n",
       "       28.68777205, 38.74376011, 42.13491348, 20.86840021, 32.48926393,\n",
       "        0.64291408,  5.67073692, 40.71931001, 42.56366104, 40.89982159,\n",
       "       42.26937915, 34.00351577, 11.29522466, 43.54934561, 11.13227022,\n",
       "       18.57002921, 24.356065  , 10.91895595, 38.29564295, 22.61835394,\n",
       "        4.01673902,  6.70743802, 13.34055365,  1.1882803 , 35.00951714,\n",
       "       32.32382711, 36.30454763, 36.03091044, 19.6088843 , 15.16026828,\n",
       "       17.02286433, 19.30760701,  0.82209013, 40.48925418, 18.99670607,\n",
       "       38.43656319, 36.21734709, 30.71180756, 16.52430481, 13.75388636,\n",
       "       39.95555465, 34.63637726, 11.7886826 , 30.31079083, 34.44318971,\n",
       "       34.65774749,  3.80285653,  5.61253657, 22.44917769,  0.2562293 ,\n",
       "       11.02089174, 22.61835394, 29.8476217 ,  6.61482863, 11.55031877,\n",
       "       43.54934561, 37.48555995, 13.11330961, 10.2743908 , 28.78811303,\n",
       "       22.61835394,  7.04425083,  3.17810838,  3.31276505, 19.39275399,\n",
       "       10.43723451, 35.89198571, 41.89334287, 12.31777095, 18.94120883,\n",
       "       18.21979211, 15.66381259, 19.60613164, 20.85457786, 20.47826945,\n",
       "       28.81419273, 43.19091531, 32.25132958, 37.61391324, 23.82834217,\n",
       "       23.73737181,  0.96028593, 14.86547458, 41.67901809, 40.91409604,\n",
       "       29.27648541, 30.8484716 , 25.00539484, 38.43656319,  7.83902284,\n",
       "       25.23476252,  6.41979408,  2.06514515, 10.1650673 , 15.21239937,\n",
       "        1.241147  , 28.73573525, 40.39944394, 25.67418915,  1.24839373,\n",
       "       33.11815462, 43.29498565, 30.48493731, 10.99947802,  1.04992841,\n",
       "       28.62781859, 20.74103842, 24.55655237, 42.21237196, 39.41066492,\n",
       "       37.53562961,  3.59627559, 14.58609038,  9.00925067, 29.16086774,\n",
       "       40.39329263,  0.43862708, 28.25044439, 14.45961107, 37.98232646,\n",
       "       10.83065721, 16.33710823, 33.75329615,  3.92932081, 40.66640672,\n",
       "       18.4323169 , 13.17190479,  4.08465414, 41.12699392, 23.07615506,\n",
       "       29.28033765,  3.34534803,  8.79243519, 25.20931044,  2.69318326,\n",
       "       35.57879943, 11.347308  , 39.62927447, 30.19843432, 12.20504075,\n",
       "        2.79296022, 14.50479553, 23.42761517,  4.96898912, 43.87406506,\n",
       "       13.55075365, 11.44567334,  4.04794428, 40.39944394, 10.8843325 ,\n",
       "        9.65203191,  6.40888653, 29.27648541, 18.57002921, 16.1747307 ,\n",
       "       29.73183285, 34.00351577, 38.72549326,  2.57161096, 13.89495552,\n",
       "       36.26872978,  2.40837993, 10.26923787, 32.32382711, 40.96059731,\n",
       "        3.07947587, 29.27648541,  6.1035813 , 36.38587557,  6.07381941,\n",
       "       35.91091193, 29.67426553, 16.33710823, 16.55971634,  8.16899158,\n",
       "       26.03054595, 23.76402374, 24.1239976 , 23.591949  , 15.68374767,\n",
       "       23.70424446, 28.79636997,  7.53663346, 37.63106305,  9.37558918,\n",
       "       26.91423216, 17.40178178,  0.63355047, 21.43387275, 28.79636997,\n",
       "       12.34508273, 19.77363989, 36.24651376, 12.31777095, 32.94592512,\n",
       "       22.83208761, 20.47826945, 31.95204627, 28.79636997,  7.14833333,\n",
       "       41.94746045, 35.89275299,  2.39135913, 28.79636997,  1.04992841,\n",
       "        1.13459955, 18.93169723,  1.5046278 , 16.33710823,  5.79105628,\n",
       "       24.67470266, 20.77147735, 12.31777095, 30.77459977, 13.55075365,\n",
       "       18.23814869, 34.00351577, 27.0568577 , 11.27456763, 32.32382711,\n",
       "       32.32382711, 27.82827576, 10.2743908 , 35.89198571, 19.77363989,\n",
       "       11.38119921,  3.28309941, 18.45735322, 42.00311496,  1.42671957,\n",
       "       40.05578131, 32.74755788,  4.77686471, 37.53562961, 32.24399883,\n",
       "        8.21875705,  3.90006346, 21.43968079,  7.08408501,  0.28434668,\n",
       "       22.66283609, 32.46178391, 25.50734647, 16.37898661, 14.17479553,\n",
       "       18.93933391, 37.52143791, 10.31793852, 11.06741839,  4.86648249,\n",
       "       24.55655237, 12.92151262,  3.50675142, 12.31777095, 21.25266549,\n",
       "        7.6842086 , 27.03297005, 14.71610996, 18.7834078 , 23.47580484,\n",
       "       22.61835394, 29.52154888, 17.40178178, 15.15901828, 34.11453686,\n",
       "        9.24195066,  3.42753082,  3.59627559, 25.84097329, 22.61835394,\n",
       "       26.19478093, 20.54234657, 10.26923787, 18.9895333 , 17.40178178,\n",
       "        6.41979408, 25.68454387,  4.37047407,  3.31276505,  3.22046607,\n",
       "       13.55075365, 39.82817174, 25.67418915, 18.95044987, 13.33902012,\n",
       "        8.8013782 , 35.17846269,  4.86648249, 30.3836212 , 19.01118566,\n",
       "       11.47869921,  0.72281943, 38.55992696, 18.94708723,  3.17873481,\n",
       "        7.58453666, 37.69381601, 11.84994193, 37.63552258, 32.0482031 ,\n",
       "       20.34543922, 28.66448525, 40.48925418,  0.39883522,  7.6981319 ,\n",
       "       38.90702324, 33.2457526 ,  7.25592637, 40.92388234, 27.64806084,\n",
       "       33.02117015, 11.1389124 , 14.17479553,  7.58453666, 18.00295855,\n",
       "       35.31279906, 21.98561489, 28.65948035, 26.23943242, 17.40178178,\n",
       "       13.28615802, 10.44429371, 28.79636997, 35.62416325, 41.18050077,\n",
       "       19.77363989, 25.42338241, 10.21231959, 24.55655237, 38.78578383,\n",
       "       40.39329263, 14.32757101, 28.76124488, 40.35912352, 10.54723451,\n",
       "       15.96359505, 28.79636997, 28.07190664, 18.41070068, 20.63906107,\n",
       "       26.45585797, 35.89198571, 24.55655237, 23.23116514, 40.79611854,\n",
       "       30.18741188, 16.55607412, 32.95939155, 14.4268761 , 13.37793414,\n",
       "       30.02262136,  1.67711646, 14.50912215, 32.81068482, 22.18360138,\n",
       "       41.45412183, 21.22683216, 10.13315648, 38.43656319, 26.82825739,\n",
       "       27.39953012, 38.43656319,  2.06514515, 31.10029246, 29.62426553,\n",
       "       40.69132291,  8.00947125, 28.79636997, 18.28537226, 28.79636997,\n",
       "       18.34981354, 14.78041436, 27.62680696, 17.86477308, 31.72988556,\n",
       "       28.31897238, 34.57082984,  5.61292835, 43.0875031 , 29.90521573,\n",
       "        0.49947507,  1.59863102, 26.20803543, 12.1764304 , 38.43656319,\n",
       "       17.42285819, 16.33710823, 19.77363989, 16.12119962, 39.5411492 ,\n",
       "       11.6487343 , 32.62421671, 11.8929872 , 33.31890264, 18.87098783,\n",
       "       28.08117465,  3.84878429, 33.31890264,  2.45105761, 14.3207983 ,\n",
       "       15.96487499, 30.18723348,  8.16899158, 24.52073129, 16.22269206,\n",
       "       20.39652402, 42.21237196, 24.17275714, 14.6974543 , 29.68401478,\n",
       "       18.6466237 , 18.87819958,  6.53805052,  1.16919048,  5.34253657,\n",
       "        4.86648249,  1.50798506,  4.86648249, 42.21498065, 19.77363989,\n",
       "       22.43158509, 36.1274768 , 31.72988556, 20.47826945,  3.50987913,\n",
       "        6.53872892, 31.12917957,  1.04992841, 10.86547802, 42.21237196,\n",
       "       38.9328973 , 18.04760141, 42.36048091, 32.32382711,  5.17502839,\n",
       "       19.43667556, 38.51889756, 23.34112259,  2.38637993, 18.35681179,\n",
       "       23.92232367, 26.44379248, 16.33710823, 24.55655237, 16.68030001,\n",
       "       40.79611854, 30.7800085 , 16.15040655,  6.62453282,  5.1993141 ,\n",
       "       34.15826732, 20.23418091, 18.59160324, 12.31777095, 16.76803418,\n",
       "       26.23943242, 14.59702005, 19.63752999, 41.62926212, 14.32757101,\n",
       "       30.39695453, 25.19505543,  1.66606467, 31.72988556, 32.32382711,\n",
       "       18.45082993, 18.89956814,  3.2669689 , 10.25030681, 13.34856023,\n",
       "       33.1692811 , 24.64049487, 38.85217696, 41.18050077, 33.25933357,\n",
       "        1.17539826, 42.03900701, 17.41825592, 13.75978276, 38.15411757,\n",
       "       15.59375079, 27.39953012, 12.31777095, 28.63980846, 23.06790756,\n",
       "       18.41070068, 18.80299355, 21.40324514, 33.05083145, 19.72498708,\n",
       "       34.07921822, 43.54934561, 45.32739952, 10.2743908 , 34.75399711,\n",
       "        9.33769892,  2.85747133, 10.2743908 , 12.74037739, 33.16303478,\n",
       "       18.45735322, 14.41864049, 10.2743908 , 34.07921822, 33.05114613,\n",
       "       32.16999503, 18.18101991, 24.55655237,  4.9010645 , 38.43656319,\n",
       "       18.86973804, 29.3560772 ,  3.66642264, 18.53702318, 42.21237196])"
      ]
     },
     "execution_count": 144,
     "metadata": {},
     "output_type": "execute_result"
    }
   ],
   "source": [
    "y_pred = model_rf.predict(X_test)\n",
    "y_pred\n"
   ]
  },
  {
   "cell_type": "code",
   "execution_count": 145,
   "metadata": {},
   "outputs": [
    {
     "data": {
      "text/plain": [
       "(1000,)"
      ]
     },
     "execution_count": 145,
     "metadata": {},
     "output_type": "execute_result"
    }
   ],
   "source": [
    "y_test.shape"
   ]
  },
  {
   "cell_type": "code",
   "execution_count": 146,
   "metadata": {},
   "outputs": [
    {
     "data": {
      "text/plain": [
       "(1000,)"
      ]
     },
     "execution_count": 146,
     "metadata": {},
     "output_type": "execute_result"
    }
   ],
   "source": [
    "y_pred.shape"
   ]
  },
  {
   "cell_type": "code",
   "execution_count": 147,
   "metadata": {},
   "outputs": [
    {
     "data": {
      "application/vnd.microsoft.datawrangler.viewer.v0+json": {
       "columns": [
        {
         "name": "index",
         "rawType": "int64",
         "type": "integer"
        },
        {
         "name": "Años Hasta Jubilación",
         "rawType": "int64",
         "type": "integer"
        },
        {
         "name": "PRED",
         "rawType": "float64",
         "type": "float"
        },
        {
         "name": "Error",
         "rawType": "float64",
         "type": "float"
        }
       ],
       "conversionMethod": "pd.DataFrame",
       "ref": "0367d7b8-3dcf-4777-9d88-c929fd198ab5",
       "rows": [
        [
         "1501",
         "36",
         "35.59299304820107",
         "0.40700695179892676"
        ],
        [
         "2586",
         "1",
         "3.0028848006431006",
         "-2.0028848006431006"
        ],
        [
         "2653",
         "20",
         "21.403245138832066",
         "-1.403245138832066"
        ],
        [
         "1055",
         "32",
         "32.50704031761955",
         "-0.5070403176195484"
        ],
        [
         "705",
         "46",
         "43.89722628998913",
         "2.1027737100108723"
        ],
        [
         "106",
         "19",
         "19.77363989048078",
         "-0.77363989048078"
        ],
        [
         "589",
         "15",
         "14.929208772384461",
         "0.07079122761553869"
        ],
        [
         "2468",
         "34",
         "32.3238271134106",
         "1.6761728865893986"
        ],
        [
         "2413",
         "31",
         "33.577080091485044",
         "-2.577080091485044"
        ],
        [
         "1600",
         "15",
         "14.503435570368156",
         "0.4965644296318441"
        ],
        [
         "2464",
         "35",
         "32.57349894752387",
         "2.4265010524761266"
        ],
        [
         "228",
         "41",
         "38.906514602170894",
         "2.093485397829106"
        ],
        [
         "915",
         "6",
         "4.4477380822673425",
         "1.5522619177326575"
        ],
        [
         "794",
         "18",
         "15.68255578238927",
         "2.3174442176107295"
        ],
        [
         "3021",
         "29",
         "29.404885773717204",
         "-0.40488577371720424"
        ],
        [
         "3543",
         "38",
         "38.37355961784445",
         "-0.3735596178444496"
        ],
        [
         "1073",
         "13",
         "13.414438814182915",
         "-0.4144388141829154"
        ],
        [
         "3351",
         "19",
         "17.783086066357033",
         "1.2169139336429673"
        ],
        [
         "1744",
         "38",
         "39.541149203241865",
         "-1.541149203241865"
        ],
        [
         "1084",
         "38",
         "39.122367396624135",
         "-1.122367396624135"
        ],
        [
         "926",
         "44",
         "42.98890495113698",
         "1.0110950488630195"
        ],
        [
         "3049",
         "38",
         "39.541149203241865",
         "-1.541149203241865"
        ],
        [
         "1117",
         "10",
         "13.744181991029082",
         "-3.744181991029082"
        ],
        [
         "642",
         "4",
         "4.86648248973019",
         "-0.8664824897301902"
        ],
        [
         "4767",
         "27",
         "27.23501281639533",
         "-0.23501281639532934"
        ],
        [
         "501",
         "9",
         "7.13440847048331",
         "1.8655915295166903"
        ],
        [
         "4066",
         "10",
         "10.567413466011107",
         "-0.5674134660111072"
        ],
        [
         "333",
         "31",
         "33.72690317255764",
         "-2.726903172557641"
        ],
        [
         "4684",
         "26",
         "25.99314418667318",
         "0.00685581332681906"
        ],
        [
         "486",
         "24",
         "26.571628487344327",
         "-2.571628487344327"
        ],
        [
         "1962",
         "17",
         "18.26200401789698",
         "-1.262004017896981"
        ],
        [
         "393",
         "41",
         "41.02129072398191",
         "-0.021290723981913118"
        ],
        [
         "4842",
         "35",
         "33.27575259996149",
         "1.7242474000385073"
        ],
        [
         "4866",
         "27",
         "26.459184602942113",
         "0.5408153970578873"
        ],
        [
         "1755",
         "29",
         "27.50840026655325",
         "1.4915997334467512"
        ],
        [
         "2515",
         "36",
         "34.003515774098275",
         "1.9964842259017246"
        ],
        [
         "3585",
         "10",
         "12.629652129377362",
         "-2.6296521293773623"
        ],
        [
         "4315",
         "39",
         "40.07940977160095",
         "-1.0794097716009503"
        ],
        [
         "4966",
         "24",
         "24.556552370009296",
         "-0.556552370009296"
        ],
        [
         "2099",
         "5",
         "7.87163488009091",
         "-2.8716348800909097"
        ],
        [
         "3599",
         "25",
         "26.191139955254087",
         "-1.1911399552540871"
        ],
        [
         "4121",
         "13",
         "10.875478021496301",
         "2.124521978503699"
        ],
        [
         "29",
         "7",
         "4.884084355987654",
         "2.115915644012346"
        ],
        [
         "65",
         "27",
         "23.972444227975064",
         "3.027555772024936"
        ],
        [
         "838",
         "28",
         "27.108481552694283",
         "0.8915184473057174"
        ],
        [
         "3906",
         "7",
         "8.16899158162841",
         "-1.1689915816284095"
        ],
        [
         "3773",
         "19",
         "20.380841233373825",
         "-1.3808412333738254"
        ],
        [
         "4635",
         "28",
         "28.79636996735144",
         "-0.7963699673514384"
        ],
        [
         "3161",
         "23",
         "22.618353936919995",
         "0.38164606308000515"
        ],
        [
         "2659",
         "7",
         "5.958537707886638",
         "1.041462292113362"
        ]
       ],
       "shape": {
        "columns": 3,
        "rows": 1000
       }
      },
      "text/html": [
       "<div>\n",
       "<style scoped>\n",
       "    .dataframe tbody tr th:only-of-type {\n",
       "        vertical-align: middle;\n",
       "    }\n",
       "\n",
       "    .dataframe tbody tr th {\n",
       "        vertical-align: top;\n",
       "    }\n",
       "\n",
       "    .dataframe thead th {\n",
       "        text-align: right;\n",
       "    }\n",
       "</style>\n",
       "<table border=\"1\" class=\"dataframe\">\n",
       "  <thead>\n",
       "    <tr style=\"text-align: right;\">\n",
       "      <th></th>\n",
       "      <th>Años Hasta Jubilación</th>\n",
       "      <th>PRED</th>\n",
       "      <th>Error</th>\n",
       "    </tr>\n",
       "  </thead>\n",
       "  <tbody>\n",
       "    <tr>\n",
       "      <th>1501</th>\n",
       "      <td>36</td>\n",
       "      <td>35.592993</td>\n",
       "      <td>0.407007</td>\n",
       "    </tr>\n",
       "    <tr>\n",
       "      <th>2586</th>\n",
       "      <td>1</td>\n",
       "      <td>3.002885</td>\n",
       "      <td>-2.002885</td>\n",
       "    </tr>\n",
       "    <tr>\n",
       "      <th>2653</th>\n",
       "      <td>20</td>\n",
       "      <td>21.403245</td>\n",
       "      <td>-1.403245</td>\n",
       "    </tr>\n",
       "    <tr>\n",
       "      <th>1055</th>\n",
       "      <td>32</td>\n",
       "      <td>32.507040</td>\n",
       "      <td>-0.507040</td>\n",
       "    </tr>\n",
       "    <tr>\n",
       "      <th>705</th>\n",
       "      <td>46</td>\n",
       "      <td>43.897226</td>\n",
       "      <td>2.102774</td>\n",
       "    </tr>\n",
       "    <tr>\n",
       "      <th>...</th>\n",
       "      <td>...</td>\n",
       "      <td>...</td>\n",
       "      <td>...</td>\n",
       "    </tr>\n",
       "    <tr>\n",
       "      <th>4711</th>\n",
       "      <td>18</td>\n",
       "      <td>18.869738</td>\n",
       "      <td>-0.869738</td>\n",
       "    </tr>\n",
       "    <tr>\n",
       "      <th>2313</th>\n",
       "      <td>30</td>\n",
       "      <td>29.356077</td>\n",
       "      <td>0.643923</td>\n",
       "    </tr>\n",
       "    <tr>\n",
       "      <th>3214</th>\n",
       "      <td>3</td>\n",
       "      <td>3.666423</td>\n",
       "      <td>-0.666423</td>\n",
       "    </tr>\n",
       "    <tr>\n",
       "      <th>2732</th>\n",
       "      <td>16</td>\n",
       "      <td>18.537023</td>\n",
       "      <td>-2.537023</td>\n",
       "    </tr>\n",
       "    <tr>\n",
       "      <th>1926</th>\n",
       "      <td>43</td>\n",
       "      <td>42.212372</td>\n",
       "      <td>0.787628</td>\n",
       "    </tr>\n",
       "  </tbody>\n",
       "</table>\n",
       "<p>1000 rows × 3 columns</p>\n",
       "</div>"
      ],
      "text/plain": [
       "      Años Hasta Jubilación       PRED     Error\n",
       "1501                     36  35.592993  0.407007\n",
       "2586                      1   3.002885 -2.002885\n",
       "2653                     20  21.403245 -1.403245\n",
       "1055                     32  32.507040 -0.507040\n",
       "705                      46  43.897226  2.102774\n",
       "...                     ...        ...       ...\n",
       "4711                     18  18.869738 -0.869738\n",
       "2313                     30  29.356077  0.643923\n",
       "3214                      3   3.666423 -0.666423\n",
       "2732                     16  18.537023 -2.537023\n",
       "1926                     43  42.212372  0.787628\n",
       "\n",
       "[1000 rows x 3 columns]"
      ]
     },
     "execution_count": 147,
     "metadata": {},
     "output_type": "execute_result"
    }
   ],
   "source": [
    "y_test = pd.DataFrame(y_test)\n",
    "y_test['PRED'] = y_pred\n",
    "y_test['Error'] = y_test['Años Hasta Jubilación']-y_test['PRED']\n",
    "y_test\n"
   ]
  },
  {
   "cell_type": "code",
   "execution_count": 148,
   "metadata": {},
   "outputs": [
    {
     "data": {
      "text/plain": [
       "array([14.05549181, 34.43324211, 11.18389524, 14.17479553, 15.65358404,\n",
       "       25.67418915, 33.05646462, 16.31122764, 10.2743908 , 20.98165275,\n",
       "       39.70176744, 10.0923059 , 21.94162438, 18.94120883, 22.54519728,\n",
       "       26.75904528, 31.45501519, 39.62927447, 36.38587557, 28.30677622,\n",
       "       21.13844144, 14.79148467, 18.14601991, 29.85511145, 15.6681512 ,\n",
       "       37.08736629, 28.79636997, 17.72915127, 29.90521573, 32.32382711,\n",
       "       16.55971634, 34.8079504 , 22.61835394, 36.72141673, 26.52209997,\n",
       "       29.62254749, 24.39918369, 37.80362847, 28.13140688, 28.35974764,\n",
       "       34.16222194, 27.39953012, 32.32382711, 27.42088261, 23.2395166 ,\n",
       "       18.56786664, 11.89327499, 10.7110199 , 34.58565317, 36.02662083,\n",
       "       34.45273171, 29.2710772 , 31.09363422, 30.88851892, 37.61391324,\n",
       "       36.25862244, 18.21292141, 38.30128967, 27.6347275 , 14.55551776,\n",
       "       14.49279553, 19.45289779, 38.35708984, 37.05384432, 24.52062018,\n",
       "       30.02075907, 14.66045938, 39.0474803 , 37.08971699,  9.40029794,\n",
       "       26.65884023, 11.37680986, 10.86290288, 21.02165275, 23.46192519,\n",
       "       34.44824211, 12.31777095, 17.78308607, 34.17986149,  7.28843001,\n",
       "       15.78679643, 18.95044987, 34.03681285, 20.47826945, 37.48256345,\n",
       "       17.14132519, 18.95616415, 31.79550703, 22.61835394, 20.70655503,\n",
       "       26.23943242, 23.1680995 , 16.52833312, 25.51624128, 16.41185464,\n",
       "       13.68003078, 30.02763164, 39.29742535, 28.85146786, 23.61584177])"
      ]
     },
     "execution_count": 148,
     "metadata": {},
     "output_type": "execute_result"
    }
   ],
   "source": [
    "predicciones = model_rf.predict(X_2)\n",
    "predicciones"
   ]
  },
  {
   "cell_type": "code",
   "execution_count": 149,
   "metadata": {},
   "outputs": [
    {
     "data": {
      "application/vnd.microsoft.datawrangler.viewer.v0+json": {
       "columns": [
        {
         "name": "index",
         "rawType": "int64",
         "type": "integer"
        },
        {
         "name": "ID",
         "rawType": "int64",
         "type": "integer"
        },
        {
         "name": "FECHA NAC",
         "rawType": "object",
         "type": "string"
        },
        {
         "name": "SEXO",
         "rawType": "object",
         "type": "string"
        },
        {
         "name": "NOMINA BRUTA 01/01/2025",
         "rawType": "float64",
         "type": "float"
        },
        {
         "name": "FECHA ENTRADA",
         "rawType": "object",
         "type": "string"
        },
        {
         "name": "PARA CONTAR MESES",
         "rawType": "object",
         "type": "string"
        },
        {
         "name": "EDAD",
         "rawType": "int64",
         "type": "integer"
        },
        {
         "name": "AÑOS HASTA JUBILACION",
         "rawType": "float64",
         "type": "float"
        },
        {
         "name": "EDAD DE JUBILACION",
         "rawType": "float64",
         "type": "float"
        }
       ],
       "conversionMethod": "pd.DataFrame",
       "ref": "ccef75d0-4991-4de7-b198-832df5f18524",
       "rows": [
        [
         "0",
         "1",
         "1974-03-22",
         "H",
         "15319.07",
         "2002-05-01",
         "2002-05-01",
         "51",
         "14.055491807725609",
         "65.05549180772562"
        ],
        [
         "1",
         "2",
         "1995-06-21",
         "M",
         "19168.8",
         "2018-04-13",
         "2018-05-01",
         "30",
         "34.43324210656568",
         "64.43324210656567"
        ],
        [
         "2",
         "3",
         "1973-06-07",
         "H",
         "18719.86",
         "2002-04-01",
         "2002-04-01",
         "52",
         "11.183895242386008",
         "63.18389524238601"
        ],
        [
         "3",
         "4",
         "1975-07-03",
         "M",
         "12942.6",
         "2002-04-01",
         "2002-04-01",
         "50",
         "14.17479552547471",
         "64.1747955254747"
        ],
        [
         "4",
         "5",
         "1976-07-19",
         "M",
         "20158.08",
         "2003-04-01",
         "2003-04-01",
         "49",
         "15.653584044086292",
         "64.65358404408629"
        ]
       ],
       "shape": {
        "columns": 9,
        "rows": 5
       }
      },
      "text/html": [
       "<div>\n",
       "<style scoped>\n",
       "    .dataframe tbody tr th:only-of-type {\n",
       "        vertical-align: middle;\n",
       "    }\n",
       "\n",
       "    .dataframe tbody tr th {\n",
       "        vertical-align: top;\n",
       "    }\n",
       "\n",
       "    .dataframe thead th {\n",
       "        text-align: right;\n",
       "    }\n",
       "</style>\n",
       "<table border=\"1\" class=\"dataframe\">\n",
       "  <thead>\n",
       "    <tr style=\"text-align: right;\">\n",
       "      <th></th>\n",
       "      <th>ID</th>\n",
       "      <th>FECHA NAC</th>\n",
       "      <th>SEXO</th>\n",
       "      <th>NOMINA BRUTA 01/01/2025</th>\n",
       "      <th>FECHA ENTRADA</th>\n",
       "      <th>PARA CONTAR MESES</th>\n",
       "      <th>EDAD</th>\n",
       "      <th>AÑOS HASTA JUBILACION</th>\n",
       "      <th>EDAD DE JUBILACION</th>\n",
       "    </tr>\n",
       "  </thead>\n",
       "  <tbody>\n",
       "    <tr>\n",
       "      <th>0</th>\n",
       "      <td>1</td>\n",
       "      <td>1974-03-22</td>\n",
       "      <td>H</td>\n",
       "      <td>15319.07</td>\n",
       "      <td>2002-05-01</td>\n",
       "      <td>2002-05-01</td>\n",
       "      <td>51</td>\n",
       "      <td>14.055492</td>\n",
       "      <td>65.055492</td>\n",
       "    </tr>\n",
       "    <tr>\n",
       "      <th>1</th>\n",
       "      <td>2</td>\n",
       "      <td>1995-06-21</td>\n",
       "      <td>M</td>\n",
       "      <td>19168.80</td>\n",
       "      <td>2018-04-13</td>\n",
       "      <td>2018-05-01</td>\n",
       "      <td>30</td>\n",
       "      <td>34.433242</td>\n",
       "      <td>64.433242</td>\n",
       "    </tr>\n",
       "    <tr>\n",
       "      <th>2</th>\n",
       "      <td>3</td>\n",
       "      <td>1973-06-07</td>\n",
       "      <td>H</td>\n",
       "      <td>18719.86</td>\n",
       "      <td>2002-04-01</td>\n",
       "      <td>2002-04-01</td>\n",
       "      <td>52</td>\n",
       "      <td>11.183895</td>\n",
       "      <td>63.183895</td>\n",
       "    </tr>\n",
       "    <tr>\n",
       "      <th>3</th>\n",
       "      <td>4</td>\n",
       "      <td>1975-07-03</td>\n",
       "      <td>M</td>\n",
       "      <td>12942.60</td>\n",
       "      <td>2002-04-01</td>\n",
       "      <td>2002-04-01</td>\n",
       "      <td>50</td>\n",
       "      <td>14.174796</td>\n",
       "      <td>64.174796</td>\n",
       "    </tr>\n",
       "    <tr>\n",
       "      <th>4</th>\n",
       "      <td>5</td>\n",
       "      <td>1976-07-19</td>\n",
       "      <td>M</td>\n",
       "      <td>20158.08</td>\n",
       "      <td>2003-04-01</td>\n",
       "      <td>2003-04-01</td>\n",
       "      <td>49</td>\n",
       "      <td>15.653584</td>\n",
       "      <td>64.653584</td>\n",
       "    </tr>\n",
       "  </tbody>\n",
       "</table>\n",
       "</div>"
      ],
      "text/plain": [
       "   ID   FECHA NAC SEXO  NOMINA BRUTA 01/01/2025 FECHA ENTRADA  \\\n",
       "0   1  1974-03-22    H                 15319.07    2002-05-01   \n",
       "1   2  1995-06-21    M                 19168.80    2018-04-13   \n",
       "2   3  1973-06-07    H                 18719.86    2002-04-01   \n",
       "3   4  1975-07-03    M                 12942.60    2002-04-01   \n",
       "4   5  1976-07-19    M                 20158.08    2003-04-01   \n",
       "\n",
       "  PARA CONTAR MESES  EDAD  AÑOS HASTA JUBILACION  EDAD DE JUBILACION  \n",
       "0        2002-05-01    51              14.055492           65.055492  \n",
       "1        2018-05-01    30              34.433242           64.433242  \n",
       "2        2002-04-01    52              11.183895           63.183895  \n",
       "3        2002-04-01    50              14.174796           64.174796  \n",
       "4        2003-04-01    49              15.653584           64.653584  "
      ]
     },
     "execution_count": 149,
     "metadata": {},
     "output_type": "execute_result"
    }
   ],
   "source": [
    "df['AÑOS HASTA JUBILACION'] = predicciones\n",
    "df['EDAD DE JUBILACION'] = df['EDAD'] + df['AÑOS HASTA JUBILACION']\n",
    "\n",
    "df.head()"
   ]
  },
  {
   "cell_type": "code",
   "execution_count": 150,
   "metadata": {},
   "outputs": [
    {
     "data": {
      "text/plain": [
       "<Axes: >"
      ]
     },
     "execution_count": 150,
     "metadata": {},
     "output_type": "execute_result"
    },
    {
     "data": {
      "image/png": "[encoded data removed]",
      "text/plain": [
       "<Figure size 640x480 with 1 Axes>"
      ]
     },
     "metadata": {},
     "output_type": "display_data"
    }
   ],
   "source": [
    "df['EDAD DE JUBILACION'].hist()"
   ]
  }
 ],
 "metadata": {
  "kernelspec": {
   "display_name": ".venv",
   "language": "python",
   "name": "python3"
  },
  "language_info": {
   "codemirror_mode": {
    "name": "ipython",
    "version": 3
   },
   "file_extension": ".py",
   "mimetype": "text/x-python",
   "name": "python",
   "nbconvert_exporter": "python",
   "pygments_lexer": "ipython3",
   "version": "3.13.1"
  }
 },
 "nbformat": 4,
 "nbformat_minor": 2
}
