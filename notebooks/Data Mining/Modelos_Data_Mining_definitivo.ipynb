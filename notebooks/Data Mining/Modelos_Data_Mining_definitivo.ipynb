{
 "cells": [
  {
   "cell_type": "code",
   "execution_count": 1,
   "metadata": {},
   "outputs": [],
   "source": [
    "from sklearn.ensemble import RandomForestRegressor, GradientBoostingRegressor\n",
    "from sklearn.model_selection import train_test_split, cross_val_score\n",
    "from sklearn.metrics import mean_absolute_error, mean_squared_error, r2_score\n",
    "import numpy as np\n",
    "import pandas as pd\n",
    "import os\n",
    "import numpy as np\n",
    "import seaborn as sns\n",
    "import matplotlib.pyplot as plt\n",
    "from sklearn.ensemble import RandomForestRegressor\n",
    "from sklearn.model_selection import train_test_split, GridSearchCV\n",
    "from sklearn.metrics import mean_absolute_error, r2_score\n",
    "from sklearn.ensemble import RandomForestRegressor, GradientBoostingRegressor\n",
    "from sklearn.linear_model import Lasso, Ridge, ElasticNet\n",
    "from xgboost import XGBRegressor\n",
    "from lightgbm import LGBMRegressor\n",
    "from sklearn.neural_network import MLPRegressor\n",
    "from sklearn.model_selection import train_test_split, cross_val_score\n",
    "from sklearn.metrics import mean_absolute_error, mean_squared_error, r2_score\n",
    "import numpy as np\n"
   ]
  },
  {
   "cell_type": "code",
   "execution_count": 2,
   "metadata": {},
   "outputs": [],
   "source": [
    "# Cargar datos\n",
    "path_datos = os.path.join('..','..','Datos','Limpios')\n",
    "df2 = pd.read_csv(os.path.join(path_datos,'datos2_limpios.csv'), index_col=0)\n",
    "\n",
    "df2_limpio = df2.drop(['Porcentaje Ahorro (%)', 'Ahorro Actual (€)', 'Gasto Mensual (€)',\n",
    "                        'Vida Esperada (años)', 'Edad de Jubilación'], axis=1)"
   ]
  },
  {
   "cell_type": "code",
   "execution_count": 3,
   "metadata": {},
   "outputs": [],
   "source": [
    "# Definir variables de entrada y salida\n",
    "X = df2_limpio.drop(columns=['Años Hasta Jubilación'])\n",
    "y = df2_limpio['Años Hasta Jubilación']\n"
   ]
  },
  {
   "cell_type": "code",
   "execution_count": 4,
   "metadata": {},
   "outputs": [],
   "source": [
    "X_train, X_test, y_train, y_test = train_test_split(X, y, test_size=0.2, random_state=42)"
   ]
  },
  {
   "cell_type": "code",
   "execution_count": 5,
   "metadata": {},
   "outputs": [],
   "source": [
    "# Modelos a probar\n",
    "models = {\n",
    "    'Random Forest': RandomForestRegressor(n_estimators=100, max_depth=10, random_state=42),\n",
    "    'Gradient Boosting': GradientBoostingRegressor(n_estimators=100, learning_rate=0.1, random_state=42),\n",
    "    'XGBoost': XGBRegressor(n_estimators=100, learning_rate=0.1, random_state=42),\n",
    "    'LightGBM': LGBMRegressor(n_estimators=100, learning_rate=0.1, random_state=42),\n",
    "    'Lasso': Lasso(alpha=0.1),\n",
    "    'Ridge': Ridge(alpha=1.0),\n",
    "    'ElasticNet': ElasticNet(alpha=0.1, l1_ratio=0.5),\n",
    "    'Red Neuronal': MLPRegressor(hidden_layer_sizes=(100,50), activation='relu', solver='adam', max_iter=500)}"
   ]
  },
  {
   "cell_type": "code",
   "execution_count": 6,
   "metadata": {},
   "outputs": [
    {
     "name": "stdout",
     "output_type": "stream",
     "text": [
      "----- Random Forest -----\n",
      "MAE Entrenamiento: 1.12, MAE Prueba: 1.48\n",
      "RMSE Entrenamiento: 1.35, RMSE Prueba: 1.79\n",
      "R² Entrenamiento: 0.99, R² Prueba: 0.98\n",
      "------------------------------\n",
      "----- Gradient Boosting -----\n",
      "MAE Entrenamiento: 1.39, MAE Prueba: 1.41\n",
      "RMSE Entrenamiento: 1.66, RMSE Prueba: 1.69\n",
      "R² Entrenamiento: 0.98, R² Prueba: 0.98\n",
      "------------------------------\n",
      "----- XGBoost -----\n",
      "MAE Entrenamiento: 1.23, MAE Prueba: 1.45\n",
      "RMSE Entrenamiento: 1.48, RMSE Prueba: 1.75\n",
      "R² Entrenamiento: 0.99, R² Prueba: 0.98\n",
      "------------------------------\n",
      "[LightGBM] [Warning] Found whitespace in feature_names, replace with underlines\n",
      "[LightGBM] [Info] Auto-choosing row-wise multi-threading, the overhead of testing was 0.000126 seconds.\n",
      "You can set `force_row_wise=true` to remove the overhead.\n",
      "And if memory is not enough, you can set `force_col_wise=true`.\n",
      "[LightGBM] [Info] Total Bins 300\n",
      "[LightGBM] [Info] Number of data points in the train set: 4000, number of used features: 2\n",
      "[LightGBM] [Info] Start training from score 22.275000\n",
      "----- LightGBM -----\n",
      "MAE Entrenamiento: 1.30, MAE Prueba: 1.44\n",
      "RMSE Entrenamiento: 1.57, RMSE Prueba: 1.74\n",
      "R² Entrenamiento: 0.98, R² Prueba: 0.98\n",
      "------------------------------\n",
      "----- Lasso -----\n",
      "MAE Entrenamiento: 1.44, MAE Prueba: 1.41\n",
      "RMSE Entrenamiento: 1.71, RMSE Prueba: 1.68\n",
      "R² Entrenamiento: 0.98, R² Prueba: 0.98\n",
      "------------------------------\n",
      "----- Ridge -----\n",
      "MAE Entrenamiento: 1.44, MAE Prueba: 1.41\n",
      "RMSE Entrenamiento: 1.71, RMSE Prueba: 1.68\n",
      "R² Entrenamiento: 0.98, R² Prueba: 0.98\n",
      "------------------------------\n",
      "----- ElasticNet -----\n",
      "MAE Entrenamiento: 1.44, MAE Prueba: 1.41\n",
      "RMSE Entrenamiento: 1.71, RMSE Prueba: 1.68\n",
      "R² Entrenamiento: 0.98, R² Prueba: 0.98\n",
      "------------------------------\n",
      "----- Red Neuronal -----\n",
      "MAE Entrenamiento: 13.11, MAE Prueba: 12.69\n",
      "RMSE Entrenamiento: 16.31, RMSE Prueba: 15.76\n",
      "R² Entrenamiento: -0.62, R² Prueba: -0.62\n",
      "------------------------------\n"
     ]
    }
   ],
   "source": [
    "# Evaluación de los modelos\n",
    "for name, model in models.items():\n",
    "    model.fit(X_train, y_train)\n",
    "    y_pred_train = model.predict(X_train)\n",
    "    y_pred_test = model.predict(X_test)\n",
    "    \n",
    "    # Cálculo de métricas\n",
    "    mae_train = mean_absolute_error(y_train, y_pred_train)\n",
    "    mae_test = mean_absolute_error(y_test, y_pred_test)\n",
    "    rmse_train = np.sqrt(mean_squared_error(y_train, y_pred_train))\n",
    "    rmse_test = np.sqrt(mean_squared_error(y_test, y_pred_test))\n",
    "    r2_train = r2_score(y_train, y_pred_train)\n",
    "    r2_test = r2_score(y_test, y_pred_test)\n",
    "    \n",
    "    print(f'----- {name} -----')\n",
    "    print(f'MAE Entrenamiento: {mae_train:.2f}, MAE Prueba: {mae_test:.2f}')\n",
    "    print(f'RMSE Entrenamiento: {rmse_train:.2f}, RMSE Prueba: {rmse_test:.2f}')\n",
    "    print(f'R² Entrenamiento: {r2_train:.2f}, R² Prueba: {r2_test:.2f}')\n",
    "    print('-' * 30)\n"
   ]
  },
  {
   "cell_type": "code",
   "execution_count": 7,
   "metadata": {},
   "outputs": [
    {
     "name": "stdout",
     "output_type": "stream",
     "text": [
      "R² promedio en validación cruzada para Random Forest: 0.98\n",
      "R² promedio en validación cruzada para Gradient Boosting: 0.98\n",
      "R² promedio en validación cruzada para XGBoost: 0.98\n",
      "[LightGBM] [Warning] Found whitespace in feature_names, replace with underlines\n",
      "[LightGBM] [Info] Auto-choosing col-wise multi-threading, the overhead of testing was 0.000092 seconds.\n",
      "You can set `force_col_wise=true` to remove the overhead.\n",
      "[LightGBM] [Info] Total Bins 300\n",
      "[LightGBM] [Info] Number of data points in the train set: 4000, number of used features: 2\n",
      "[LightGBM] [Info] Start training from score 22.167500\n",
      "[LightGBM] [Warning] Found whitespace in feature_names, replace with underlines\n",
      "[LightGBM] [Info] Auto-choosing col-wise multi-threading, the overhead of testing was 0.000078 seconds.\n",
      "You can set `force_col_wise=true` to remove the overhead.\n",
      "[LightGBM] [Info] Total Bins 300\n",
      "[LightGBM] [Info] Number of data points in the train set: 4000, number of used features: 2\n",
      "[LightGBM] [Info] Start training from score 22.170750\n",
      "[LightGBM] [Warning] Found whitespace in feature_names, replace with underlines\n",
      "[LightGBM] [Info] Auto-choosing col-wise multi-threading, the overhead of testing was 0.000079 seconds.\n",
      "You can set `force_col_wise=true` to remove the overhead.\n",
      "[LightGBM] [Info] Total Bins 300\n",
      "[LightGBM] [Info] Number of data points in the train set: 4000, number of used features: 2\n",
      "[LightGBM] [Info] Start training from score 22.041750\n",
      "[LightGBM] [Warning] Found whitespace in feature_names, replace with underlines\n",
      "[LightGBM] [Info] Auto-choosing col-wise multi-threading, the overhead of testing was 0.000079 seconds.\n",
      "You can set `force_col_wise=true` to remove the overhead.\n",
      "[LightGBM] [Info] Total Bins 300\n",
      "[LightGBM] [Info] Number of data points in the train set: 4000, number of used features: 2\n",
      "[LightGBM] [Info] Start training from score 22.136000\n",
      "[LightGBM] [Warning] Found whitespace in feature_names, replace with underlines\n",
      "[LightGBM] [Info] Auto-choosing col-wise multi-threading, the overhead of testing was 0.000075 seconds.\n",
      "You can set `force_col_wise=true` to remove the overhead.\n",
      "[LightGBM] [Info] Total Bins 300\n",
      "[LightGBM] [Info] Number of data points in the train set: 4000, number of used features: 2\n",
      "[LightGBM] [Info] Start training from score 21.914000\n",
      "R² promedio en validación cruzada para LightGBM: 0.98\n",
      "R² promedio en validación cruzada para Lasso: 0.98\n",
      "R² promedio en validación cruzada para Ridge: 0.98\n",
      "R² promedio en validación cruzada para ElasticNet: 0.98\n",
      "R² promedio en validación cruzada para Red Neuronal: -0.73\n"
     ]
    }
   ],
   "source": [
    "# Validación cruzada\n",
    "for name, model in models.items():\n",
    "    scores = cross_val_score(model, X, y, cv=5, scoring='r2')\n",
    "    print(f'R² promedio en validación cruzada para {name}: {np.mean(scores):.2f}')"
   ]
  },
  {
   "cell_type": "code",
   "execution_count": 8,
   "metadata": {},
   "outputs": [
    {
     "data": {
      "text/html": [
       "<style>#sk-container-id-1 {\n",
       "  /* Definition of color scheme common for light and dark mode */\n",
       "  --sklearn-color-text: #000;\n",
       "  --sklearn-color-text-muted: #666;\n",
       "  --sklearn-color-line: gray;\n",
       "  /* Definition of color scheme for unfitted estimators */\n",
       "  --sklearn-color-unfitted-level-0: #fff5e6;\n",
       "  --sklearn-color-unfitted-level-1: #f6e4d2;\n",
       "  --sklearn-color-unfitted-level-2: #ffe0b3;\n",
       "  --sklearn-color-unfitted-level-3: chocolate;\n",
       "  /* Definition of color scheme for fitted estimators */\n",
       "  --sklearn-color-fitted-level-0: #f0f8ff;\n",
       "  --sklearn-color-fitted-level-1: #d4ebff;\n",
       "  --sklearn-color-fitted-level-2: #b3dbfd;\n",
       "  --sklearn-color-fitted-level-3: cornflowerblue;\n",
       "\n",
       "  /* Specific color for light theme */\n",
       "  --sklearn-color-text-on-default-background: var(--sg-text-color, var(--theme-code-foreground, var(--jp-content-font-color1, black)));\n",
       "  --sklearn-color-background: var(--sg-background-color, var(--theme-background, var(--jp-layout-color0, white)));\n",
       "  --sklearn-color-border-box: var(--sg-text-color, var(--theme-code-foreground, var(--jp-content-font-color1, black)));\n",
       "  --sklearn-color-icon: #696969;\n",
       "\n",
       "  @media (prefers-color-scheme: dark) {\n",
       "    /* Redefinition of color scheme for dark theme */\n",
       "    --sklearn-color-text-on-default-background: var(--sg-text-color, var(--theme-code-foreground, var(--jp-content-font-color1, white)));\n",
       "    --sklearn-color-background: var(--sg-background-color, var(--theme-background, var(--jp-layout-color0, #111)));\n",
       "    --sklearn-color-border-box: var(--sg-text-color, var(--theme-code-foreground, var(--jp-content-font-color1, white)));\n",
       "    --sklearn-color-icon: #878787;\n",
       "  }\n",
       "}\n",
       "\n",
       "#sk-container-id-1 {\n",
       "  color: var(--sklearn-color-text);\n",
       "}\n",
       "\n",
       "#sk-container-id-1 pre {\n",
       "  padding: 0;\n",
       "}\n",
       "\n",
       "#sk-container-id-1 input.sk-hidden--visually {\n",
       "  border: 0;\n",
       "  clip: rect(1px 1px 1px 1px);\n",
       "  clip: rect(1px, 1px, 1px, 1px);\n",
       "  height: 1px;\n",
       "  margin: -1px;\n",
       "  overflow: hidden;\n",
       "  padding: 0;\n",
       "  position: absolute;\n",
       "  width: 1px;\n",
       "}\n",
       "\n",
       "#sk-container-id-1 div.sk-dashed-wrapped {\n",
       "  border: 1px dashed var(--sklearn-color-line);\n",
       "  margin: 0 0.4em 0.5em 0.4em;\n",
       "  box-sizing: border-box;\n",
       "  padding-bottom: 0.4em;\n",
       "  background-color: var(--sklearn-color-background);\n",
       "}\n",
       "\n",
       "#sk-container-id-1 div.sk-container {\n",
       "  /* jupyter's `normalize.less` sets `[hidden] { display: none; }`\n",
       "     but bootstrap.min.css set `[hidden] { display: none !important; }`\n",
       "     so we also need the `!important` here to be able to override the\n",
       "     default hidden behavior on the sphinx rendered scikit-learn.org.\n",
       "     See: https://github.com/scikit-learn/scikit-learn/issues/21755 */\n",
       "  display: inline-block !important;\n",
       "  position: relative;\n",
       "}\n",
       "\n",
       "#sk-container-id-1 div.sk-text-repr-fallback {\n",
       "  display: none;\n",
       "}\n",
       "\n",
       "div.sk-parallel-item,\n",
       "div.sk-serial,\n",
       "div.sk-item {\n",
       "  /* draw centered vertical line to link estimators */\n",
       "  background-image: linear-gradient(var(--sklearn-color-text-on-default-background), var(--sklearn-color-text-on-default-background));\n",
       "  background-size: 2px 100%;\n",
       "  background-repeat: no-repeat;\n",
       "  background-position: center center;\n",
       "}\n",
       "\n",
       "/* Parallel-specific style estimator block */\n",
       "\n",
       "#sk-container-id-1 div.sk-parallel-item::after {\n",
       "  content: \"\";\n",
       "  width: 100%;\n",
       "  border-bottom: 2px solid var(--sklearn-color-text-on-default-background);\n",
       "  flex-grow: 1;\n",
       "}\n",
       "\n",
       "#sk-container-id-1 div.sk-parallel {\n",
       "  display: flex;\n",
       "  align-items: stretch;\n",
       "  justify-content: center;\n",
       "  background-color: var(--sklearn-color-background);\n",
       "  position: relative;\n",
       "}\n",
       "\n",
       "#sk-container-id-1 div.sk-parallel-item {\n",
       "  display: flex;\n",
       "  flex-direction: column;\n",
       "}\n",
       "\n",
       "#sk-container-id-1 div.sk-parallel-item:first-child::after {\n",
       "  align-self: flex-end;\n",
       "  width: 50%;\n",
       "}\n",
       "\n",
       "#sk-container-id-1 div.sk-parallel-item:last-child::after {\n",
       "  align-self: flex-start;\n",
       "  width: 50%;\n",
       "}\n",
       "\n",
       "#sk-container-id-1 div.sk-parallel-item:only-child::after {\n",
       "  width: 0;\n",
       "}\n",
       "\n",
       "/* Serial-specific style estimator block */\n",
       "\n",
       "#sk-container-id-1 div.sk-serial {\n",
       "  display: flex;\n",
       "  flex-direction: column;\n",
       "  align-items: center;\n",
       "  background-color: var(--sklearn-color-background);\n",
       "  padding-right: 1em;\n",
       "  padding-left: 1em;\n",
       "}\n",
       "\n",
       "\n",
       "/* Toggleable style: style used for estimator/Pipeline/ColumnTransformer box that is\n",
       "clickable and can be expanded/collapsed.\n",
       "- Pipeline and ColumnTransformer use this feature and define the default style\n",
       "- Estimators will overwrite some part of the style using the `sk-estimator` class\n",
       "*/\n",
       "\n",
       "/* Pipeline and ColumnTransformer style (default) */\n",
       "\n",
       "#sk-container-id-1 div.sk-toggleable {\n",
       "  /* Default theme specific background. It is overwritten whether we have a\n",
       "  specific estimator or a Pipeline/ColumnTransformer */\n",
       "  background-color: var(--sklearn-color-background);\n",
       "}\n",
       "\n",
       "/* Toggleable label */\n",
       "#sk-container-id-1 label.sk-toggleable__label {\n",
       "  cursor: pointer;\n",
       "  display: flex;\n",
       "  width: 100%;\n",
       "  margin-bottom: 0;\n",
       "  padding: 0.5em;\n",
       "  box-sizing: border-box;\n",
       "  text-align: center;\n",
       "  align-items: start;\n",
       "  justify-content: space-between;\n",
       "  gap: 0.5em;\n",
       "}\n",
       "\n",
       "#sk-container-id-1 label.sk-toggleable__label .caption {\n",
       "  font-size: 0.6rem;\n",
       "  font-weight: lighter;\n",
       "  color: var(--sklearn-color-text-muted);\n",
       "}\n",
       "\n",
       "#sk-container-id-1 label.sk-toggleable__label-arrow:before {\n",
       "  /* Arrow on the left of the label */\n",
       "  content: \"▸\";\n",
       "  float: left;\n",
       "  margin-right: 0.25em;\n",
       "  color: var(--sklearn-color-icon);\n",
       "}\n",
       "\n",
       "#sk-container-id-1 label.sk-toggleable__label-arrow:hover:before {\n",
       "  color: var(--sklearn-color-text);\n",
       "}\n",
       "\n",
       "/* Toggleable content - dropdown */\n",
       "\n",
       "#sk-container-id-1 div.sk-toggleable__content {\n",
       "  max-height: 0;\n",
       "  max-width: 0;\n",
       "  overflow: hidden;\n",
       "  text-align: left;\n",
       "  /* unfitted */\n",
       "  background-color: var(--sklearn-color-unfitted-level-0);\n",
       "}\n",
       "\n",
       "#sk-container-id-1 div.sk-toggleable__content.fitted {\n",
       "  /* fitted */\n",
       "  background-color: var(--sklearn-color-fitted-level-0);\n",
       "}\n",
       "\n",
       "#sk-container-id-1 div.sk-toggleable__content pre {\n",
       "  margin: 0.2em;\n",
       "  border-radius: 0.25em;\n",
       "  color: var(--sklearn-color-text);\n",
       "  /* unfitted */\n",
       "  background-color: var(--sklearn-color-unfitted-level-0);\n",
       "}\n",
       "\n",
       "#sk-container-id-1 div.sk-toggleable__content.fitted pre {\n",
       "  /* unfitted */\n",
       "  background-color: var(--sklearn-color-fitted-level-0);\n",
       "}\n",
       "\n",
       "#sk-container-id-1 input.sk-toggleable__control:checked~div.sk-toggleable__content {\n",
       "  /* Expand drop-down */\n",
       "  max-height: 200px;\n",
       "  max-width: 100%;\n",
       "  overflow: auto;\n",
       "}\n",
       "\n",
       "#sk-container-id-1 input.sk-toggleable__control:checked~label.sk-toggleable__label-arrow:before {\n",
       "  content: \"▾\";\n",
       "}\n",
       "\n",
       "/* Pipeline/ColumnTransformer-specific style */\n",
       "\n",
       "#sk-container-id-1 div.sk-label input.sk-toggleable__control:checked~label.sk-toggleable__label {\n",
       "  color: var(--sklearn-color-text);\n",
       "  background-color: var(--sklearn-color-unfitted-level-2);\n",
       "}\n",
       "\n",
       "#sk-container-id-1 div.sk-label.fitted input.sk-toggleable__control:checked~label.sk-toggleable__label {\n",
       "  background-color: var(--sklearn-color-fitted-level-2);\n",
       "}\n",
       "\n",
       "/* Estimator-specific style */\n",
       "\n",
       "/* Colorize estimator box */\n",
       "#sk-container-id-1 div.sk-estimator input.sk-toggleable__control:checked~label.sk-toggleable__label {\n",
       "  /* unfitted */\n",
       "  background-color: var(--sklearn-color-unfitted-level-2);\n",
       "}\n",
       "\n",
       "#sk-container-id-1 div.sk-estimator.fitted input.sk-toggleable__control:checked~label.sk-toggleable__label {\n",
       "  /* fitted */\n",
       "  background-color: var(--sklearn-color-fitted-level-2);\n",
       "}\n",
       "\n",
       "#sk-container-id-1 div.sk-label label.sk-toggleable__label,\n",
       "#sk-container-id-1 div.sk-label label {\n",
       "  /* The background is the default theme color */\n",
       "  color: var(--sklearn-color-text-on-default-background);\n",
       "}\n",
       "\n",
       "/* On hover, darken the color of the background */\n",
       "#sk-container-id-1 div.sk-label:hover label.sk-toggleable__label {\n",
       "  color: var(--sklearn-color-text);\n",
       "  background-color: var(--sklearn-color-unfitted-level-2);\n",
       "}\n",
       "\n",
       "/* Label box, darken color on hover, fitted */\n",
       "#sk-container-id-1 div.sk-label.fitted:hover label.sk-toggleable__label.fitted {\n",
       "  color: var(--sklearn-color-text);\n",
       "  background-color: var(--sklearn-color-fitted-level-2);\n",
       "}\n",
       "\n",
       "/* Estimator label */\n",
       "\n",
       "#sk-container-id-1 div.sk-label label {\n",
       "  font-family: monospace;\n",
       "  font-weight: bold;\n",
       "  display: inline-block;\n",
       "  line-height: 1.2em;\n",
       "}\n",
       "\n",
       "#sk-container-id-1 div.sk-label-container {\n",
       "  text-align: center;\n",
       "}\n",
       "\n",
       "/* Estimator-specific */\n",
       "#sk-container-id-1 div.sk-estimator {\n",
       "  font-family: monospace;\n",
       "  border: 1px dotted var(--sklearn-color-border-box);\n",
       "  border-radius: 0.25em;\n",
       "  box-sizing: border-box;\n",
       "  margin-bottom: 0.5em;\n",
       "  /* unfitted */\n",
       "  background-color: var(--sklearn-color-unfitted-level-0);\n",
       "}\n",
       "\n",
       "#sk-container-id-1 div.sk-estimator.fitted {\n",
       "  /* fitted */\n",
       "  background-color: var(--sklearn-color-fitted-level-0);\n",
       "}\n",
       "\n",
       "/* on hover */\n",
       "#sk-container-id-1 div.sk-estimator:hover {\n",
       "  /* unfitted */\n",
       "  background-color: var(--sklearn-color-unfitted-level-2);\n",
       "}\n",
       "\n",
       "#sk-container-id-1 div.sk-estimator.fitted:hover {\n",
       "  /* fitted */\n",
       "  background-color: var(--sklearn-color-fitted-level-2);\n",
       "}\n",
       "\n",
       "/* Specification for estimator info (e.g. \"i\" and \"?\") */\n",
       "\n",
       "/* Common style for \"i\" and \"?\" */\n",
       "\n",
       ".sk-estimator-doc-link,\n",
       "a:link.sk-estimator-doc-link,\n",
       "a:visited.sk-estimator-doc-link {\n",
       "  float: right;\n",
       "  font-size: smaller;\n",
       "  line-height: 1em;\n",
       "  font-family: monospace;\n",
       "  background-color: var(--sklearn-color-background);\n",
       "  border-radius: 1em;\n",
       "  height: 1em;\n",
       "  width: 1em;\n",
       "  text-decoration: none !important;\n",
       "  margin-left: 0.5em;\n",
       "  text-align: center;\n",
       "  /* unfitted */\n",
       "  border: var(--sklearn-color-unfitted-level-1) 1pt solid;\n",
       "  color: var(--sklearn-color-unfitted-level-1);\n",
       "}\n",
       "\n",
       ".sk-estimator-doc-link.fitted,\n",
       "a:link.sk-estimator-doc-link.fitted,\n",
       "a:visited.sk-estimator-doc-link.fitted {\n",
       "  /* fitted */\n",
       "  border: var(--sklearn-color-fitted-level-1) 1pt solid;\n",
       "  color: var(--sklearn-color-fitted-level-1);\n",
       "}\n",
       "\n",
       "/* On hover */\n",
       "div.sk-estimator:hover .sk-estimator-doc-link:hover,\n",
       ".sk-estimator-doc-link:hover,\n",
       "div.sk-label-container:hover .sk-estimator-doc-link:hover,\n",
       ".sk-estimator-doc-link:hover {\n",
       "  /* unfitted */\n",
       "  background-color: var(--sklearn-color-unfitted-level-3);\n",
       "  color: var(--sklearn-color-background);\n",
       "  text-decoration: none;\n",
       "}\n",
       "\n",
       "div.sk-estimator.fitted:hover .sk-estimator-doc-link.fitted:hover,\n",
       ".sk-estimator-doc-link.fitted:hover,\n",
       "div.sk-label-container:hover .sk-estimator-doc-link.fitted:hover,\n",
       ".sk-estimator-doc-link.fitted:hover {\n",
       "  /* fitted */\n",
       "  background-color: var(--sklearn-color-fitted-level-3);\n",
       "  color: var(--sklearn-color-background);\n",
       "  text-decoration: none;\n",
       "}\n",
       "\n",
       "/* Span, style for the box shown on hovering the info icon */\n",
       ".sk-estimator-doc-link span {\n",
       "  display: none;\n",
       "  z-index: 9999;\n",
       "  position: relative;\n",
       "  font-weight: normal;\n",
       "  right: .2ex;\n",
       "  padding: .5ex;\n",
       "  margin: .5ex;\n",
       "  width: min-content;\n",
       "  min-width: 20ex;\n",
       "  max-width: 50ex;\n",
       "  color: var(--sklearn-color-text);\n",
       "  box-shadow: 2pt 2pt 4pt #999;\n",
       "  /* unfitted */\n",
       "  background: var(--sklearn-color-unfitted-level-0);\n",
       "  border: .5pt solid var(--sklearn-color-unfitted-level-3);\n",
       "}\n",
       "\n",
       ".sk-estimator-doc-link.fitted span {\n",
       "  /* fitted */\n",
       "  background: var(--sklearn-color-fitted-level-0);\n",
       "  border: var(--sklearn-color-fitted-level-3);\n",
       "}\n",
       "\n",
       ".sk-estimator-doc-link:hover span {\n",
       "  display: block;\n",
       "}\n",
       "\n",
       "/* \"?\"-specific style due to the `<a>` HTML tag */\n",
       "\n",
       "#sk-container-id-1 a.estimator_doc_link {\n",
       "  float: right;\n",
       "  font-size: 1rem;\n",
       "  line-height: 1em;\n",
       "  font-family: monospace;\n",
       "  background-color: var(--sklearn-color-background);\n",
       "  border-radius: 1rem;\n",
       "  height: 1rem;\n",
       "  width: 1rem;\n",
       "  text-decoration: none;\n",
       "  /* unfitted */\n",
       "  color: var(--sklearn-color-unfitted-level-1);\n",
       "  border: var(--sklearn-color-unfitted-level-1) 1pt solid;\n",
       "}\n",
       "\n",
       "#sk-container-id-1 a.estimator_doc_link.fitted {\n",
       "  /* fitted */\n",
       "  border: var(--sklearn-color-fitted-level-1) 1pt solid;\n",
       "  color: var(--sklearn-color-fitted-level-1);\n",
       "}\n",
       "\n",
       "/* On hover */\n",
       "#sk-container-id-1 a.estimator_doc_link:hover {\n",
       "  /* unfitted */\n",
       "  background-color: var(--sklearn-color-unfitted-level-3);\n",
       "  color: var(--sklearn-color-background);\n",
       "  text-decoration: none;\n",
       "}\n",
       "\n",
       "#sk-container-id-1 a.estimator_doc_link.fitted:hover {\n",
       "  /* fitted */\n",
       "  background-color: var(--sklearn-color-fitted-level-3);\n",
       "}\n",
       "</style><div id=\"sk-container-id-1\" class=\"sk-top-container\"><div class=\"sk-text-repr-fallback\"><pre>GradientBoostingRegressor(learning_rate=0.05, max_depth=2, min_samples_split=10,\n",
       "                          n_estimators=180, random_state=42)</pre><b>In a Jupyter environment, please rerun this cell to show the HTML representation or trust the notebook. <br />On GitHub, the HTML representation is unable to render, please try loading this page with nbviewer.org.</b></div><div class=\"sk-container\" hidden><div class=\"sk-item\"><div class=\"sk-estimator fitted sk-toggleable\"><input class=\"sk-toggleable__control sk-hidden--visually\" id=\"sk-estimator-id-1\" type=\"checkbox\" checked><label for=\"sk-estimator-id-1\" class=\"sk-toggleable__label fitted sk-toggleable__label-arrow\"><div><div>GradientBoostingRegressor</div></div><div><a class=\"sk-estimator-doc-link fitted\" rel=\"noreferrer\" target=\"_blank\" href=\"https://scikit-learn.org/1.6/modules/generated/sklearn.ensemble.GradientBoostingRegressor.html\">?<span>Documentation for GradientBoostingRegressor</span></a><span class=\"sk-estimator-doc-link fitted\">i<span>Fitted</span></span></div></label><div class=\"sk-toggleable__content fitted\"><pre>GradientBoostingRegressor(learning_rate=0.05, max_depth=2, min_samples_split=10,\n",
       "                          n_estimators=180, random_state=42)</pre></div> </div></div></div></div>"
      ],
      "text/plain": [
       "GradientBoostingRegressor(learning_rate=0.05, max_depth=2, min_samples_split=10,\n",
       "                          n_estimators=180, random_state=42)"
      ]
     },
     "execution_count": 8,
     "metadata": {},
     "output_type": "execute_result"
    }
   ],
   "source": [
    "from sklearn.ensemble import GradientBoostingRegressor\n",
    "from sklearn.model_selection import GridSearchCV\n",
    "\n",
    "param_grid = {\n",
    "    'n_estimators': [120 ,150,180 ],\n",
    "    'max_depth': [2,4,7],\n",
    "    'min_samples_split': [7, 10,15],\n",
    "    'learning_rate': [0.01, 0.05, 0.1, 0.2]\n",
    "}\n",
    "\n",
    "rf = GradientBoostingRegressor(random_state=42)\n",
    "grid_search = GridSearchCV(rf, param_grid, cv=5, scoring='neg_mean_absolute_error', n_jobs=-1)\n",
    "grid_search.fit(X_train, y_train)\n",
    "\n",
    "best_model = grid_search.best_estimator_\n",
    "\n",
    "best_model"
   ]
  },
  {
   "cell_type": "code",
   "execution_count": 9,
   "metadata": {},
   "outputs": [],
   "source": [
    "# Modelos a probar\n",
    "models = {\n",
    "    'Random Forest': RandomForestRegressor(n_estimators=100, max_depth=10,min_samples_split=10, random_state=42),\n",
    "    'Gradient Boosting': GradientBoostingRegressor(n_estimators=120, min_samples_split=10, max_depth=2 , learning_rate=0.05, random_state=42),\n",
    "    'XGBoost': XGBRegressor(n_estimators=100, learning_rate=0.1, random_state=42),\n",
    "    'LightGBM': LGBMRegressor(n_estimators=100, learning_rate=0.1, random_state=42),\n",
    "    'Lasso': Lasso(alpha=0.1),\n",
    "    'Ridge': Ridge(alpha=1.0),\n",
    "    'ElasticNet': ElasticNet(alpha=0.1, l1_ratio=0.5),\n",
    "    'Red Neuronal': MLPRegressor(hidden_layer_sizes=(100,50), activation='relu', solver='adam', max_iter=500)}"
   ]
  },
  {
   "cell_type": "code",
   "execution_count": 10,
   "metadata": {},
   "outputs": [
    {
     "name": "stdout",
     "output_type": "stream",
     "text": [
      "----- Random Forest -----\n",
      "MAE Entrenamiento: 1.20, MAE Prueba: 1.46\n",
      "RMSE Entrenamiento: 1.44, RMSE Prueba: 1.76\n",
      "R² Entrenamiento: 0.99, R² Prueba: 0.98\n",
      "------------------------------\n",
      "----- Gradient Boosting -----\n",
      "MAE Entrenamiento: 1.43, MAE Prueba: 1.41\n",
      "RMSE Entrenamiento: 1.70, RMSE Prueba: 1.69\n",
      "R² Entrenamiento: 0.98, R² Prueba: 0.98\n",
      "------------------------------\n",
      "----- XGBoost -----\n",
      "MAE Entrenamiento: 1.23, MAE Prueba: 1.45\n",
      "RMSE Entrenamiento: 1.48, RMSE Prueba: 1.75\n",
      "R² Entrenamiento: 0.99, R² Prueba: 0.98\n",
      "------------------------------\n",
      "[LightGBM] [Warning] Found whitespace in feature_names, replace with underlines\n",
      "[LightGBM] [Info] Auto-choosing col-wise multi-threading, the overhead of testing was 0.000096 seconds.\n",
      "You can set `force_col_wise=true` to remove the overhead.\n",
      "[LightGBM] [Info] Total Bins 300\n",
      "[LightGBM] [Info] Number of data points in the train set: 4000, number of used features: 2\n",
      "[LightGBM] [Info] Start training from score 22.275000\n",
      "----- LightGBM -----\n",
      "MAE Entrenamiento: 1.30, MAE Prueba: 1.44\n",
      "RMSE Entrenamiento: 1.57, RMSE Prueba: 1.74\n",
      "R² Entrenamiento: 0.98, R² Prueba: 0.98\n",
      "------------------------------\n",
      "----- Lasso -----\n",
      "MAE Entrenamiento: 1.44, MAE Prueba: 1.41\n",
      "RMSE Entrenamiento: 1.71, RMSE Prueba: 1.68\n",
      "R² Entrenamiento: 0.98, R² Prueba: 0.98\n",
      "------------------------------\n",
      "----- Ridge -----\n",
      "MAE Entrenamiento: 1.44, MAE Prueba: 1.41\n",
      "RMSE Entrenamiento: 1.71, RMSE Prueba: 1.68\n",
      "R² Entrenamiento: 0.98, R² Prueba: 0.98\n",
      "------------------------------\n",
      "----- ElasticNet -----\n",
      "MAE Entrenamiento: 1.44, MAE Prueba: 1.41\n",
      "RMSE Entrenamiento: 1.71, RMSE Prueba: 1.68\n",
      "R² Entrenamiento: 0.98, R² Prueba: 0.98\n",
      "------------------------------\n",
      "----- Red Neuronal -----\n",
      "MAE Entrenamiento: 13.88, MAE Prueba: 13.30\n",
      "RMSE Entrenamiento: 16.52, RMSE Prueba: 15.85\n",
      "R² Entrenamiento: -0.67, R² Prueba: -0.64\n",
      "------------------------------\n"
     ]
    }
   ],
   "source": [
    "# Evaluación de los modelos\n",
    "for name, model in models.items():\n",
    "    model.fit(X_train, y_train)\n",
    "    y_pred_train = model.predict(X_train)\n",
    "    y_pred_test = model.predict(X_test)\n",
    "    \n",
    "    # Cálculo de métricas\n",
    "    mae_train = mean_absolute_error(y_train, y_pred_train)\n",
    "    mae_test = mean_absolute_error(y_test, y_pred_test)\n",
    "    rmse_train = np.sqrt(mean_squared_error(y_train, y_pred_train))\n",
    "    rmse_test = np.sqrt(mean_squared_error(y_test, y_pred_test))\n",
    "    r2_train = r2_score(y_train, y_pred_train)\n",
    "    r2_test = r2_score(y_test, y_pred_test)\n",
    "    \n",
    "    print(f'----- {name} -----')\n",
    "    print(f'MAE Entrenamiento: {mae_train:.2f}, MAE Prueba: {mae_test:.2f}')\n",
    "    print(f'RMSE Entrenamiento: {rmse_train:.2f}, RMSE Prueba: {rmse_test:.2f}')\n",
    "    print(f'R² Entrenamiento: {r2_train:.2f}, R² Prueba: {r2_test:.2f}')\n",
    "    print('-' * 30)"
   ]
  },
  {
   "cell_type": "code",
   "execution_count": 11,
   "metadata": {},
   "outputs": [],
   "source": [
    "# Cargar nuevo dataset\n",
    "df = pd.read_csv(os.path.join(path_datos, 'datos1_limpios.csv'), index_col=0)"
   ]
  },
  {
   "cell_type": "code",
   "execution_count": 12,
   "metadata": {},
   "outputs": [],
   "source": [
    "X_2 = df.drop(['ID', 'FECHA NAC', 'SEXO', 'FECHA ENTRADA', 'PARA CONTAR MESES'], axis=1)"
   ]
  },
  {
   "cell_type": "code",
   "execution_count": 13,
   "metadata": {},
   "outputs": [
    {
     "data": {
      "application/vnd.microsoft.datawrangler.viewer.v0+json": {
       "columns": [
        {
         "name": "index",
         "rawType": "int64",
         "type": "integer"
        },
        {
         "name": "Edad",
         "rawType": "int64",
         "type": "integer"
        },
        {
         "name": "Ingreso Anual (€)",
         "rawType": "float64",
         "type": "float"
        }
       ],
       "conversionMethod": "pd.DataFrame",
       "ref": "32a13cd5-c895-43de-859b-eb77e9aa1d65",
       "rows": [
        [
         "0",
         "51",
         "15319.07"
        ],
        [
         "1",
         "30",
         "19168.8"
        ],
        [
         "2",
         "52",
         "18719.86"
        ],
        [
         "3",
         "50",
         "12942.6"
        ],
        [
         "4",
         "49",
         "20158.08"
        ],
        [
         "5",
         "39",
         "12357.72"
        ],
        [
         "6",
         "32",
         "21462.23"
        ],
        [
         "7",
         "47",
         "17671.9"
        ],
        [
         "8",
         "54",
         "14948.96"
        ],
        [
         "9",
         "43",
         "23354.4"
        ],
        [
         "10",
         "25",
         "26246.18"
        ],
        [
         "11",
         "54",
         "25642.92"
        ],
        [
         "12",
         "43",
         "27239.49"
        ],
        [
         "13",
         "45",
         "17779.39"
        ],
        [
         "14",
         "43",
         "17440.09"
        ],
        [
         "15",
         "38",
         "27142.99"
        ],
        [
         "16",
         "33",
         "16861.4"
        ],
        [
         "17",
         "25",
         "17578.37"
        ],
        [
         "18",
         "28",
         "13417.04"
        ],
        [
         "19",
         "36",
         "27908.8"
        ],
        [
         "20",
         "43",
         "27789.88"
        ],
        [
         "21",
         "49",
         "17506.92"
        ],
        [
         "22",
         "45",
         "26949.42"
        ],
        [
         "23",
         "34",
         "19040.49"
        ],
        [
         "24",
         "49",
         "20749.63"
        ],
        [
         "25",
         "28",
         "17134.96"
        ],
        [
         "26",
         "36",
         "12838.79"
        ],
        [
         "27",
         "47",
         "22066.65"
        ],
        [
         "28",
         "34",
         "16343.52"
        ],
        [
         "29",
         "32",
         "12251.63"
        ],
        [
         "30",
         "47",
         "21570.5"
        ],
        [
         "31",
         "30",
         "26711.41"
        ],
        [
         "32",
         "42",
         "12876.43"
        ],
        [
         "33",
         "29",
         "17834.24"
        ],
        [
         "34",
         "38",
         "26675.1"
        ],
        [
         "35",
         "35",
         "21267.61"
        ],
        [
         "36",
         "40",
         "18634.68"
        ],
        [
         "37",
         "26",
         "15827.73"
        ],
        [
         "38",
         "36",
         "17722.6"
        ],
        [
         "39",
         "36",
         "27833.1"
        ],
        [
         "40",
         "30",
         "21251.36"
        ],
        [
         "41",
         "37",
         "12505.82"
        ],
        [
         "42",
         "32",
         "14674.69"
        ],
        [
         "43",
         "37",
         "23801.44"
        ],
        [
         "44",
         "43",
         "21371.21"
        ],
        [
         "45",
         "44",
         "17537.62"
        ],
        [
         "46",
         "52",
         "27494.69"
        ],
        [
         "47",
         "54",
         "26914.17"
        ],
        [
         "48",
         "31",
         "30918.44"
        ],
        [
         "49",
         "28",
         "30162.9"
        ]
       ],
       "shape": {
        "columns": 2,
        "rows": 100
       }
      },
      "text/html": [
       "<div>\n",
       "<style scoped>\n",
       "    .dataframe tbody tr th:only-of-type {\n",
       "        vertical-align: middle;\n",
       "    }\n",
       "\n",
       "    .dataframe tbody tr th {\n",
       "        vertical-align: top;\n",
       "    }\n",
       "\n",
       "    .dataframe thead th {\n",
       "        text-align: right;\n",
       "    }\n",
       "</style>\n",
       "<table border=\"1\" class=\"dataframe\">\n",
       "  <thead>\n",
       "    <tr style=\"text-align: right;\">\n",
       "      <th></th>\n",
       "      <th>Edad</th>\n",
       "      <th>Ingreso Anual (€)</th>\n",
       "    </tr>\n",
       "  </thead>\n",
       "  <tbody>\n",
       "    <tr>\n",
       "      <th>0</th>\n",
       "      <td>51</td>\n",
       "      <td>15319.07</td>\n",
       "    </tr>\n",
       "    <tr>\n",
       "      <th>1</th>\n",
       "      <td>30</td>\n",
       "      <td>19168.80</td>\n",
       "    </tr>\n",
       "    <tr>\n",
       "      <th>2</th>\n",
       "      <td>52</td>\n",
       "      <td>18719.86</td>\n",
       "    </tr>\n",
       "    <tr>\n",
       "      <th>3</th>\n",
       "      <td>50</td>\n",
       "      <td>12942.60</td>\n",
       "    </tr>\n",
       "    <tr>\n",
       "      <th>4</th>\n",
       "      <td>49</td>\n",
       "      <td>20158.08</td>\n",
       "    </tr>\n",
       "    <tr>\n",
       "      <th>...</th>\n",
       "      <td>...</td>\n",
       "      <td>...</td>\n",
       "    </tr>\n",
       "    <tr>\n",
       "      <th>95</th>\n",
       "      <td>50</td>\n",
       "      <td>25222.69</td>\n",
       "    </tr>\n",
       "    <tr>\n",
       "      <th>96</th>\n",
       "      <td>34</td>\n",
       "      <td>18759.95</td>\n",
       "    </tr>\n",
       "    <tr>\n",
       "      <th>97</th>\n",
       "      <td>26</td>\n",
       "      <td>22175.25</td>\n",
       "    </tr>\n",
       "    <tr>\n",
       "      <th>98</th>\n",
       "      <td>36</td>\n",
       "      <td>25972.71</td>\n",
       "    </tr>\n",
       "    <tr>\n",
       "      <th>99</th>\n",
       "      <td>41</td>\n",
       "      <td>25657.46</td>\n",
       "    </tr>\n",
       "  </tbody>\n",
       "</table>\n",
       "<p>100 rows × 2 columns</p>\n",
       "</div>"
      ],
      "text/plain": [
       "    Edad  Ingreso Anual (€)\n",
       "0     51           15319.07\n",
       "1     30           19168.80\n",
       "2     52           18719.86\n",
       "3     50           12942.60\n",
       "4     49           20158.08\n",
       "..   ...                ...\n",
       "95    50           25222.69\n",
       "96    34           18759.95\n",
       "97    26           22175.25\n",
       "98    36           25972.71\n",
       "99    41           25657.46\n",
       "\n",
       "[100 rows x 2 columns]"
      ]
     },
     "execution_count": 13,
     "metadata": {},
     "output_type": "execute_result"
    }
   ],
   "source": [
    "X_2.columns = ['Ingreso Anual (€)','Edad']\n",
    "X_2 = X_2[['Edad','Ingreso Anual (€)']] \n",
    "X_2"
   ]
  },
  {
   "cell_type": "code",
   "execution_count": 14,
   "metadata": {},
   "outputs": [],
   "source": [
    "model_rf = models['Random Forest']"
   ]
  },
  {
   "cell_type": "code",
   "execution_count": 15,
   "metadata": {},
   "outputs": [
    {
     "data": {
      "text/plain": [
       "array([35.49670209,  3.12435627, 21.4061822 , 32.78651003, 43.60691024,\n",
       "       19.77363989, 14.92645212, 32.34034301, 33.25840597, 14.60465218,\n",
       "       32.75769764, 39.43843428,  4.293932  , 16.45419036, 29.33638454,\n",
       "       38.15573834, 13.23810893, 17.7958538 , 39.53967301, 38.99918555,\n",
       "       43.13028264, 39.53967301, 13.55573671,  4.86648249, 27.0224097 ,\n",
       "        7.00213893, 10.74959669, 33.71976907, 26.1431854 , 26.29168655,\n",
       "       18.23106973, 40.30735775, 33.57230937, 26.55852882, 27.46870471,\n",
       "       34.01726938, 12.37276799, 40.29402442, 24.55655237,  7.94080035,\n",
       "       25.94128775, 11.52742507,  4.95018324, 23.94814167, 27.14296285,\n",
       "        8.17150673, 20.42512057, 28.79717462, 22.61835394,  6.46106045,\n",
       "       17.38514497,  1.50508234, 32.22731456, 12.80553942,  7.5308933 ,\n",
       "       43.05504183, 17.38178224,  3.6335444 ,  6.89271037, 35.89198571,\n",
       "        3.13811928, 26.17963765, 23.76299836, 34.01726938, 24.55655237,\n",
       "       40.6146452 , 28.74969139,  0.54058167, 27.2142872 , 12.31786685,\n",
       "        6.27485624, 21.4061822 , 29.50630549,  0.81099614,  9.37558918,\n",
       "       18.94304474, 16.5964557 , 15.68374767, 35.89198571, 26.22633827,\n",
       "       13.23517426,  2.93316169, 29.62900911,  4.37047407, 42.21237196,\n",
       "       28.72367241, 40.39305454, 38.66580648,  2.99047005, 30.15842696,\n",
       "       35.71601764, 17.40178178,  0.81099614, 14.11033771,  7.6934341 ,\n",
       "       24.41164279, 22.08248203, 35.3596856 , 29.27648541, 33.18295522,\n",
       "       24.07011968, 27.24010648, 32.91125358,  3.1842978 , 10.13092067,\n",
       "       11.8327575 , 28.22062698, 32.87797138, 38.43656319, 40.6673386 ,\n",
       "        6.83272648, 13.77493879, 10.27555356, 32.34034301, 15.76058015,\n",
       "       32.34034301, 14.61565218, 31.66746032,  1.01469658, 40.39305454,\n",
       "       19.36839684,  3.59627559, 33.49701294,  7.16093504, 31.72988556,\n",
       "       36.76265065,  5.11897324, 11.71793073, 25.92982555, 11.8327575 ,\n",
       "       28.71646471, 23.70407962, 29.54976442, 43.93797804,  4.83091419,\n",
       "       17.40178178, 15.29585884, 25.68188833,  7.62058011,  6.41979408,\n",
       "        1.04887946,  1.40438767,  4.37047407,  6.57999641, 15.22367495,\n",
       "       15.53010224, 27.52321387, 23.72308821, 26.25508827, 31.66746032,\n",
       "       35.54370084, 28.95454446, 20.6817011 , 10.59846876, 27.09858839,\n",
       "       11.35067812,  3.00153095, 23.70617523,  7.6934341 ,  6.64214923,\n",
       "       26.59502085,  4.06092233, 20.47826945, 15.98449086, 23.70407962,\n",
       "       29.81423818, 38.77586063, 10.74959669, 26.08328091, 22.21549604,\n",
       "       41.28416057, 42.95290688, 31.58831952, 24.85496174, 23.70407962,\n",
       "        4.46805961, 20.02800728, 41.13069275, 34.63114544, 29.80806308,\n",
       "       27.39953012, 35.3596856 , 43.54934561, 20.47826945, 41.18050077,\n",
       "        1.19466631,  8.38690402, 15.68374767, 23.18928648, 21.80775038,\n",
       "       42.63747291, 25.40981438,  6.22217044, 20.06955756,  1.39728513,\n",
       "       31.86271861, 22.19392783, 26.34656465, 15.53498336, 10.61210512,\n",
       "       42.21237196, 19.18729195, 21.20957776, 27.70894897,  7.6934341 ,\n",
       "        1.04887946, 40.67118072,  5.75337079, 12.26885761, 16.33710823,\n",
       "       36.37991042,  9.37558918, 18.10640762, 29.64994105, 31.72988556,\n",
       "       37.53562961, 26.1950787 , 14.08297287,  2.9925116 , 13.84021056,\n",
       "       15.7422046 , 27.42337267, 39.2430536 , 21.79914153, 38.53478422,\n",
       "        4.86648249, 32.34034301, 17.23512607, 10.9269251 , 31.21862998,\n",
       "       17.17586968, 22.82577121,  3.86305415, 38.47206536, 39.88552215,\n",
       "       33.31669568, 36.1484923 ,  1.58062403, 24.93002143, 28.79717462,\n",
       "       22.03991199,  6.26989998, 13.76542868, 29.24226429,  1.04887946,\n",
       "       17.40400449,  6.41979408,  4.37047407, 38.79659125, 13.5592063 ,\n",
       "       36.38587557, 31.72988556, 42.21237196, 29.63250094, 11.11332345,\n",
       "       33.12025863, 23.94472698, 30.6030474 , 32.75020148, 25.32986699,\n",
       "       22.23104997,  0.39681281,  5.11897324,  0.71055157,  3.24004351,\n",
       "       18.96883595, 29.27648541, 21.67896005, 33.80534375, 32.22731456,\n",
       "       23.83763933, 23.61885721, 19.77363989, 36.07259923,  9.72657397,\n",
       "       14.58205425, 18.68995812, 30.07457932,  7.11109955, 11.60991235,\n",
       "       17.36725037, 32.56502926, 26.23969321, 23.00018243,  4.75588212,\n",
       "        3.1842978 ,  8.89084087,  6.79896037, 33.31669568, 16.26603346,\n",
       "       27.0182584 , 27.86320832,  8.36577667,  7.31958405, 41.18050077,\n",
       "       26.32739799, 30.77176491, 10.29317765, 10.27555356, 26.33296941,\n",
       "        0.37403504, 28.46068875, 14.58205425, 41.17006956, 16.01310161,\n",
       "       31.55851884, 10.27555356,  3.59627559, 18.3710534 , 23.97472621,\n",
       "       38.94087199, 18.59488266, 32.86699652, 14.77791428, 35.48912633,\n",
       "       14.53330578, 11.39947982, 39.63968069,  6.16012917, 15.63928799,\n",
       "        2.94734194, 16.33710823, 28.51380428, 16.29880829, 26.12372448,\n",
       "       43.36739935,  7.74655641,  0.4087444 , 24.55655237, 25.76884758,\n",
       "       20.47826945,  3.74011366, 39.63968069, 25.63086741,  8.4078553 ,\n",
       "       15.68374767, 18.20505922, 34.83984489,  8.17150673, 36.05265953,\n",
       "       43.01794563, 24.55655237,  1.50508234, 11.44039343, 18.93671141,\n",
       "       14.45862327, 27.3185984 , 39.53967301, 30.98689871, 29.84472975,\n",
       "       23.43669187, 13.14937869, 33.31669568, 16.39203163, 13.06757925,\n",
       "        4.86648249, 12.31786685, 24.55655237, 28.2973206 , 27.71157242,\n",
       "        7.16093504, 14.6374613 , 32.16794473, 16.33710823, 39.00527646,\n",
       "       15.61678798, 33.59540785, 24.22547622, 33.1766054 , 14.62650552,\n",
       "       15.30689241, 43.1556055 , 14.5811076 , 11.82723784, 28.79717462,\n",
       "       21.79914153, 14.49377913, 10.23218243, 17.81365801, 16.57677497,\n",
       "       14.71345274, 22.28708695, 25.66166741,  3.22611318, 28.63521943,\n",
       "       36.38587557, 34.07752052, 15.8214309 , 17.48747751,  3.29946981,\n",
       "       19.77363989, 41.18050077, 36.13733053, 15.74662435, 19.77363989,\n",
       "        1.50508234,  2.0201216 ,  3.31276505, 33.25840597,  6.7871156 ,\n",
       "       28.20743787, 18.87098783,  1.50508234, 10.41659685, 34.57912398,\n",
       "       17.53751576, 14.17479553, 24.64034718, 29.11015049, 34.55605909,\n",
       "        4.07594805, 23.71424558, 14.75904282, 35.1159569 , 20.26966579,\n",
       "       32.96985337, 34.96832296,  6.7871156 , 35.62680166, 19.77363989,\n",
       "       15.58402279, 30.17620347, 31.17773047, 18.87098783,  3.53323761,\n",
       "       29.73133049,  8.360519  , 16.46244235, 18.87098783, 40.21722824,\n",
       "        6.79896037, 32.56226329,  3.59627559,  6.37281295,  3.89147483,\n",
       "       42.43951803, 38.86005965,  7.95416853, 32.34034301, 28.68736376,\n",
       "       38.43656319, 16.01072151, 19.90049563,  3.59627559, 20.47826945,\n",
       "        3.12464151, 21.4061822 , 37.1953388 ,  3.25925924,  4.03336491,\n",
       "       11.35067812, 24.55655237,  5.81173181, 26.22633827, 42.93567025,\n",
       "        4.44639294, 38.92876672, 14.38966053, 22.0924583 , 14.59798552,\n",
       "       18.87098783, 37.67005605, 43.77354231, 19.18729195, 29.01828475,\n",
       "       42.80102127,  9.11990459, 16.04380983, 21.65378406, 42.21237196,\n",
       "       32.12562483,  4.17297844, 31.11131014, 33.30391963,  9.37558918,\n",
       "        0.59448659, 19.77363989, 38.43656319, 36.86373443,  9.75809192,\n",
       "       31.11131014, 13.5592063 ,  7.27844458, 38.62313765, 18.39226437,\n",
       "       28.56168396, 38.75540078, 42.00574448, 20.60931406, 32.6708985 ,\n",
       "        0.66877173,  5.85066344, 40.72629414, 42.49951803, 40.79131519,\n",
       "       42.30686263, 34.01726938, 11.43478963, 43.54934561, 11.26264113,\n",
       "       18.5441588 , 24.33830202, 10.87774036, 38.17698834, 22.61835394,\n",
       "        4.05798383,  6.73192455, 13.49209218,  1.28081216, 34.99637847,\n",
       "       32.34034301, 36.23452169, 36.09429397, 19.5874764 , 15.0956317 ,\n",
       "       17.38178224, 18.97501708,  0.76521409, 40.43300177, 19.65084069,\n",
       "       38.43656319, 36.22477963, 30.91121496, 16.47076889, 13.77628255,\n",
       "       40.5341058 , 34.91678081, 11.85283294, 30.66138811, 34.10835101,\n",
       "       34.64689809,  3.80058619,  5.75337079, 23.03183941,  0.3184148 ,\n",
       "       10.92432011, 22.61835394, 29.76526281,  6.70617092, 11.3080759 ,\n",
       "       43.54934561, 37.50669777, 13.23517426, 10.27555356, 28.74969139,\n",
       "       22.61835394,  7.28511075,  3.30734559,  3.31276505, 19.39284128,\n",
       "       10.85102574, 35.89198571, 41.98548545, 12.31786685, 19.00956188,\n",
       "       18.18800135, 15.61586918, 19.60163164, 20.86899788, 20.47826945,\n",
       "       28.78473935, 42.78702156, 32.23167533, 37.67005605, 23.85226669,\n",
       "       23.79058135,  1.07511082, 14.74618818, 41.60508771, 40.90388969,\n",
       "       29.27648541, 30.4182637 , 24.41164279, 38.43656319,  7.87008597,\n",
       "       26.37075604,  6.41979408,  1.98262884,  9.41551268, 15.43565177,\n",
       "        1.27808519, 28.6618861 , 40.48250501, 25.67418915,  1.39532283,\n",
       "       33.18295522, 43.03044018, 30.53901522, 11.49813936,  1.04887946,\n",
       "       28.6456361 , 20.81874292, 24.55655237, 42.21237196, 39.13944532,\n",
       "       37.53562961,  3.59627559, 14.61601406,  9.10763378, 29.24226429,\n",
       "       40.39305454,  0.54058167, 28.30584878, 14.39407453, 37.89654194,\n",
       "       10.62240707, 16.33710823, 34.24154074,  3.96553112, 40.6146452 ,\n",
       "       18.48505269, 12.8403822 ,  4.04553112, 41.15368534, 23.19402857,\n",
       "       29.31353199,  3.33691946,  8.83909264, 25.36430012,  2.79478764,\n",
       "       35.58855609, 11.43478963, 39.63968069, 30.45200566, 11.95662049,\n",
       "        2.90558431, 14.46308669, 23.59907695,  4.99175467, 43.9109488 ,\n",
       "       13.5592063 , 11.4158052 ,  4.0197696 , 40.48250501, 11.35267198,\n",
       "        9.26344158,  6.54821069, 29.27648541, 18.5441588 , 16.18187356,\n",
       "       29.81106308, 34.01726938, 38.53478422,  2.62339874, 13.93541121,\n",
       "       36.27741491,  2.463159  , 10.26510439, 32.34034301, 40.85046224,\n",
       "        3.06082516, 29.27648541,  6.53574473, 36.38587557,  6.08408521,\n",
       "       35.97166257, 29.63876301, 16.33710823, 16.31289854,  8.17150673,\n",
       "       26.12372448, 23.7459749 , 24.02188901, 23.99984148, 15.68374767,\n",
       "       23.70407962, 28.79717462,  7.10701059, 37.61573292,  9.37558918,\n",
       "       27.45681769, 17.40178178,  0.75101694, 21.67896005, 28.79717462,\n",
       "       12.21731905, 19.77363989, 36.24477963, 12.31786685, 32.80209756,\n",
       "       22.96431071, 20.47826945, 31.75476666, 28.79717462,  7.31958405,\n",
       "       42.10842639, 34.97184035,  2.52739655, 28.79717462,  1.04887946,\n",
       "        1.75974649, 18.93951109,  1.50508234, 16.33710823,  5.56390798,\n",
       "       24.43781027, 20.78935631, 12.31786685, 30.9373405 , 13.5592063 ,\n",
       "       18.24653649, 34.01726938, 27.23140712, 11.35067812, 32.34034301,\n",
       "       32.34034301, 27.7572641 , 10.27555356, 35.89198571, 19.77363989,\n",
       "       11.16164681,  3.16185653, 18.25892343, 41.84256811,  1.38260592,\n",
       "       40.23806951, 32.59836061,  4.76270512, 37.53562961, 32.57053984,\n",
       "        8.23626344,  3.86305415, 21.39317827,  7.16093504,  0.38520594,\n",
       "       22.92988876, 32.54916464, 25.51318395, 16.40260453, 14.17479553,\n",
       "       18.70915247, 37.57292601, 10.38409685, 11.31968815,  4.86648249,\n",
       "       24.55655237, 12.90706474,  3.53323761, 12.31786685, 21.2504239 ,\n",
       "        7.7007128 , 27.15512653, 14.67426552, 18.71499953, 23.61298558,\n",
       "       22.61835394, 29.67563294, 17.40178178, 15.0743817 , 34.50790675,\n",
       "        9.33484404,  3.68929471,  3.59627559, 25.98828775, 22.61835394,\n",
       "       26.07244757, 20.33029372, 10.26510439, 19.72349723, 17.40178178,\n",
       "        6.41979408, 25.60232831,  4.37047407,  3.31276505,  3.3107579 ,\n",
       "       13.5592063 , 40.02284473, 25.67418915, 18.96883595, 13.10091207,\n",
       "        8.89084087, 35.17578487,  4.86648249, 30.36624388, 18.79102628,\n",
       "       11.19759919,  0.81099614, 39.2430536 , 18.95975903,  3.08171354,\n",
       "        7.65842158, 37.67482562, 11.82723784, 37.82093705, 31.94916121,\n",
       "       20.59699045, 28.66496943, 40.43300177,  0.40671757,  7.6934341 ,\n",
       "       38.86005965, 33.57230937,  7.17724886, 40.92872271, 27.45829163,\n",
       "       33.02686087, 11.02160098, 14.17479553,  7.65842158, 17.97764944,\n",
       "       35.1825379 , 22.12876824, 28.66796453, 26.23969321, 17.40178178,\n",
       "       13.14937869, 10.58151443, 28.79717462, 34.94491727, 41.18050077,\n",
       "       19.77363989, 25.3867978 , 10.1689    , 24.55655237, 39.36759012,\n",
       "       40.39305454, 14.37000241, 28.72006746, 40.51866319, 10.88064113,\n",
       "       16.01310161, 28.79717462, 28.20767446, 18.41337392, 20.65739233,\n",
       "       26.33296941, 35.89198571, 24.55655237, 23.3404245 , 40.75304267,\n",
       "       30.32017223, 16.5025382 , 33.02196464, 14.40717621, 13.46506977,\n",
       "       29.7042468 ,  1.62417159, 14.56691355, 32.89804071, 22.0774351 ,\n",
       "       40.98563607, 21.23834057, 10.68986705, 38.43656319, 26.69857545,\n",
       "       27.39953012, 38.43656319,  1.98262884, 30.79807163, 29.60167967,\n",
       "       40.78390477,  8.03721789, 28.79717462, 19.18729195, 28.79717462,\n",
       "       18.16853701, 14.6644756 , 27.56399236, 17.85647619, 31.72988556,\n",
       "       28.18034307, 34.48408794,  5.4634512 , 42.94046572, 29.77998895,\n",
       "        0.56412013,  1.57731892, 26.19308313, 11.94409174, 38.43656319,\n",
       "       17.7685097 , 16.33710823, 19.77363989, 16.02379863, 39.53967301,\n",
       "       11.39076554, 32.27691028, 11.9053042 , 33.31669568, 18.87098783,\n",
       "       28.21540278,  3.97277166, 33.31669568,  2.46282394, 14.29872208,\n",
       "       16.01072151, 30.26073272,  8.17150673, 24.43449825, 16.46244235,\n",
       "       21.04829584, 42.21237196, 24.15851441, 14.76427624, 29.54976442,\n",
       "       18.44734646, 18.92534821,  6.65178738,  1.27574783,  5.75337079,\n",
       "        4.86648249,  1.49527673,  4.86648249, 42.21498065, 19.77363989,\n",
       "       22.57384444, 36.44008588, 31.72988556, 20.47826945,  3.50503786,\n",
       "        6.69164055, 31.08650365,  1.04887946, 11.52742507, 42.21237196,\n",
       "       38.89409352, 17.95145897, 42.32443521, 32.34034301,  5.10480657,\n",
       "       19.41746071, 38.59086594, 22.79044845,  2.45282566, 18.44112392,\n",
       "       23.75492376, 26.59502085, 16.33710823, 24.55655237, 16.60040188,\n",
       "       40.75304267, 30.77176491, 16.14660532,  6.62397569,  5.11897324,\n",
       "       33.95533817, 20.06955756, 18.60814922, 12.31786685, 16.99924575,\n",
       "       26.23969321, 14.53119206, 19.63419665, 41.83067482, 14.37000241,\n",
       "       30.26974388, 25.10588996,  1.6573978 , 31.72988556, 32.34034301,\n",
       "       18.4386487 , 18.76150045,  3.24216961, 10.2072977 , 13.45567096,\n",
       "       32.92301626, 24.32508625, 39.41103087, 41.18050077, 33.02855362,\n",
       "        1.21588394, 42.0827116 , 17.55501576, 13.92474385, 38.08215364,\n",
       "       15.64924024, 27.39953012, 12.31786685, 28.40307432, 23.3404245 ,\n",
       "       18.41337392, 18.3912751 , 21.4061822 , 33.20821345, 19.57908419,\n",
       "       33.80994473, 43.54934561, 44.92686814, 10.27555356, 34.77223878,\n",
       "        9.11990459,  3.04464677, 10.27555356, 12.85938734, 33.24754729,\n",
       "       18.25892343, 14.40158641, 10.27555356, 33.80994473, 33.37609946,\n",
       "       32.24160027, 18.27895875, 24.55655237,  4.83006898, 38.43656319,\n",
       "       18.9116594 , 29.4457431 ,  3.37836197, 18.14390762, 42.21237196])"
      ]
     },
     "execution_count": 15,
     "metadata": {},
     "output_type": "execute_result"
    }
   ],
   "source": [
    "y_pred = model_rf.predict(X_test)\n",
    "y_pred\n"
   ]
  },
  {
   "cell_type": "code",
   "execution_count": 16,
   "metadata": {},
   "outputs": [
    {
     "data": {
      "text/plain": [
       "(1000,)"
      ]
     },
     "execution_count": 16,
     "metadata": {},
     "output_type": "execute_result"
    }
   ],
   "source": [
    "y_test.shape"
   ]
  },
  {
   "cell_type": "code",
   "execution_count": 17,
   "metadata": {},
   "outputs": [
    {
     "data": {
      "text/plain": [
       "(1000,)"
      ]
     },
     "execution_count": 17,
     "metadata": {},
     "output_type": "execute_result"
    }
   ],
   "source": [
    "y_pred.shape"
   ]
  },
  {
   "cell_type": "code",
   "execution_count": 18,
   "metadata": {},
   "outputs": [
    {
     "data": {
      "application/vnd.microsoft.datawrangler.viewer.v0+json": {
       "columns": [
        {
         "name": "index",
         "rawType": "int64",
         "type": "integer"
        },
        {
         "name": "Años Hasta Jubilación",
         "rawType": "int64",
         "type": "integer"
        },
        {
         "name": "PRED",
         "rawType": "float64",
         "type": "float"
        },
        {
         "name": "Error",
         "rawType": "float64",
         "type": "float"
        }
       ],
       "conversionMethod": "pd.DataFrame",
       "ref": "475b0300-dde6-4437-a273-480c0fba9eb7",
       "rows": [
        [
         "1501",
         "36",
         "35.49670208989039",
         "0.5032979101096089"
        ],
        [
         "2586",
         "1",
         "3.1243562721540457",
         "-2.1243562721540457"
        ],
        [
         "2653",
         "20",
         "21.40618220176913",
         "-1.4061822017691306"
        ],
        [
         "1055",
         "32",
         "32.78651002846426",
         "-0.7865100284642565"
        ],
        [
         "705",
         "46",
         "43.60691024492309",
         "2.3930897550769075"
        ],
        [
         "106",
         "19",
         "19.77363989048078",
         "-0.77363989048078"
        ],
        [
         "589",
         "15",
         "14.926452120410705",
         "0.0735478795892952"
        ],
        [
         "2468",
         "34",
         "32.3403430141765",
         "1.6596569858235029"
        ],
        [
         "2413",
         "31",
         "33.25840597067122",
         "-2.2584059706712196"
        ],
        [
         "1600",
         "15",
         "14.604652183820065",
         "0.3953478161799353"
        ],
        [
         "2464",
         "35",
         "32.757697640171095",
         "2.242302359828905"
        ],
        [
         "228",
         "41",
         "39.438434278083214",
         "1.5615657219167858"
        ],
        [
         "915",
         "6",
         "4.293931999461261",
         "1.706068000538739"
        ],
        [
         "794",
         "18",
         "16.454190360229727",
         "1.5458096397702725"
        ],
        [
         "3021",
         "29",
         "29.336384538840967",
         "-0.3363845388409672"
        ],
        [
         "3543",
         "38",
         "38.15573833700111",
         "-0.15573833700111095"
        ],
        [
         "1073",
         "13",
         "13.238108931518276",
         "-0.23810893151827628"
        ],
        [
         "3351",
         "19",
         "17.795853798624766",
         "1.2041462013752344"
        ],
        [
         "1744",
         "38",
         "39.53967301276567",
         "-1.5396730127656681"
        ],
        [
         "1084",
         "38",
         "38.99918555069229",
         "-0.9991855506922889"
        ],
        [
         "926",
         "44",
         "43.130282635544084",
         "0.8697173644559157"
        ],
        [
         "3049",
         "38",
         "39.53967301276567",
         "-1.5396730127656681"
        ],
        [
         "1117",
         "10",
         "13.55573671335354",
         "-3.5557367133535394"
        ],
        [
         "642",
         "4",
         "4.86648248973019",
         "-0.8664824897301902"
        ],
        [
         "4767",
         "27",
         "27.022409698752735",
         "-0.022409698752735352"
        ],
        [
         "501",
         "9",
         "7.0021389344637734",
         "1.9978610655362266"
        ],
        [
         "4066",
         "10",
         "10.749596689650216",
         "-0.7495966896502164"
        ],
        [
         "333",
         "31",
         "33.719769070548544",
         "-2.719769070548544"
        ],
        [
         "4684",
         "26",
         "26.1431853987291",
         "-0.14318539872909852"
        ],
        [
         "486",
         "24",
         "26.29168655019652",
         "-2.29168655019652"
        ],
        [
         "1962",
         "17",
         "18.23106973082183",
         "-1.2310697308218295"
        ],
        [
         "393",
         "41",
         "40.307357754173935",
         "0.6926422458260646"
        ],
        [
         "4842",
         "35",
         "33.57230936672413",
         "1.4276906332758728"
        ],
        [
         "4866",
         "27",
         "26.55852881574685",
         "0.4414711842531496"
        ],
        [
         "1755",
         "29",
         "27.468704712107698",
         "1.531295287892302"
        ],
        [
         "2515",
         "36",
         "34.017269381601885",
         "1.982730618398115"
        ],
        [
         "3585",
         "10",
         "12.372767985743218",
         "-2.3727679857432182"
        ],
        [
         "4315",
         "39",
         "40.2940244208406",
         "-1.2940244208406"
        ],
        [
         "4966",
         "24",
         "24.556552370009296",
         "-0.556552370009296"
        ],
        [
         "2099",
         "5",
         "7.94080035496691",
         "-2.9408003549669104"
        ],
        [
         "3599",
         "25",
         "25.941287751901882",
         "-0.9412877519018821"
        ],
        [
         "4121",
         "13",
         "11.527425074443352",
         "1.472574925556648"
        ],
        [
         "29",
         "7",
         "4.950183243211542",
         "2.0498167567884584"
        ],
        [
         "65",
         "27",
         "23.94814166942251",
         "3.0518583305774882"
        ],
        [
         "838",
         "28",
         "27.14296284917558",
         "0.8570371508244214"
        ],
        [
         "3906",
         "7",
         "8.171506733143561",
         "-1.171506733143561"
        ],
        [
         "3773",
         "19",
         "20.42512056515315",
         "-1.4251205651531507"
        ],
        [
         "4635",
         "28",
         "28.797174621031093",
         "-0.7971746210310933"
        ],
        [
         "3161",
         "23",
         "22.618353936919995",
         "0.38164606308000515"
        ],
        [
         "2659",
         "7",
         "6.461060446585846",
         "0.5389395534141537"
        ]
       ],
       "shape": {
        "columns": 3,
        "rows": 1000
       }
      },
      "text/html": [
       "<div>\n",
       "<style scoped>\n",
       "    .dataframe tbody tr th:only-of-type {\n",
       "        vertical-align: middle;\n",
       "    }\n",
       "\n",
       "    .dataframe tbody tr th {\n",
       "        vertical-align: top;\n",
       "    }\n",
       "\n",
       "    .dataframe thead th {\n",
       "        text-align: right;\n",
       "    }\n",
       "</style>\n",
       "<table border=\"1\" class=\"dataframe\">\n",
       "  <thead>\n",
       "    <tr style=\"text-align: right;\">\n",
       "      <th></th>\n",
       "      <th>Años Hasta Jubilación</th>\n",
       "      <th>PRED</th>\n",
       "      <th>Error</th>\n",
       "    </tr>\n",
       "  </thead>\n",
       "  <tbody>\n",
       "    <tr>\n",
       "      <th>1501</th>\n",
       "      <td>36</td>\n",
       "      <td>35.496702</td>\n",
       "      <td>0.503298</td>\n",
       "    </tr>\n",
       "    <tr>\n",
       "      <th>2586</th>\n",
       "      <td>1</td>\n",
       "      <td>3.124356</td>\n",
       "      <td>-2.124356</td>\n",
       "    </tr>\n",
       "    <tr>\n",
       "      <th>2653</th>\n",
       "      <td>20</td>\n",
       "      <td>21.406182</td>\n",
       "      <td>-1.406182</td>\n",
       "    </tr>\n",
       "    <tr>\n",
       "      <th>1055</th>\n",
       "      <td>32</td>\n",
       "      <td>32.786510</td>\n",
       "      <td>-0.786510</td>\n",
       "    </tr>\n",
       "    <tr>\n",
       "      <th>705</th>\n",
       "      <td>46</td>\n",
       "      <td>43.606910</td>\n",
       "      <td>2.393090</td>\n",
       "    </tr>\n",
       "    <tr>\n",
       "      <th>...</th>\n",
       "      <td>...</td>\n",
       "      <td>...</td>\n",
       "      <td>...</td>\n",
       "    </tr>\n",
       "    <tr>\n",
       "      <th>4711</th>\n",
       "      <td>18</td>\n",
       "      <td>18.911659</td>\n",
       "      <td>-0.911659</td>\n",
       "    </tr>\n",
       "    <tr>\n",
       "      <th>2313</th>\n",
       "      <td>30</td>\n",
       "      <td>29.445743</td>\n",
       "      <td>0.554257</td>\n",
       "    </tr>\n",
       "    <tr>\n",
       "      <th>3214</th>\n",
       "      <td>3</td>\n",
       "      <td>3.378362</td>\n",
       "      <td>-0.378362</td>\n",
       "    </tr>\n",
       "    <tr>\n",
       "      <th>2732</th>\n",
       "      <td>16</td>\n",
       "      <td>18.143908</td>\n",
       "      <td>-2.143908</td>\n",
       "    </tr>\n",
       "    <tr>\n",
       "      <th>1926</th>\n",
       "      <td>43</td>\n",
       "      <td>42.212372</td>\n",
       "      <td>0.787628</td>\n",
       "    </tr>\n",
       "  </tbody>\n",
       "</table>\n",
       "<p>1000 rows × 3 columns</p>\n",
       "</div>"
      ],
      "text/plain": [
       "      Años Hasta Jubilación       PRED     Error\n",
       "1501                     36  35.496702  0.503298\n",
       "2586                      1   3.124356 -2.124356\n",
       "2653                     20  21.406182 -1.406182\n",
       "1055                     32  32.786510 -0.786510\n",
       "705                      46  43.606910  2.393090\n",
       "...                     ...        ...       ...\n",
       "4711                     18  18.911659 -0.911659\n",
       "2313                     30  29.445743  0.554257\n",
       "3214                      3   3.378362 -0.378362\n",
       "2732                     16  18.143908 -2.143908\n",
       "1926                     43  42.212372  0.787628\n",
       "\n",
       "[1000 rows x 3 columns]"
      ]
     },
     "execution_count": 18,
     "metadata": {},
     "output_type": "execute_result"
    }
   ],
   "source": [
    "y_test = pd.DataFrame(y_test)\n",
    "y_test['PRED'] = y_pred\n",
    "y_test['Error'] = y_test['Años Hasta Jubilación']-y_test['PRED']\n",
    "y_test\n"
   ]
  },
  {
   "cell_type": "code",
   "execution_count": 19,
   "metadata": {},
   "outputs": [
    {
     "data": {
      "text/plain": [
       "array([13.98262001, 34.4483956 , 11.53055267, 14.17479553, 15.48819722,\n",
       "       25.67418915, 32.97294853, 16.57208206, 10.27555356, 20.70366511,\n",
       "       39.49169753, 10.21859306, 21.7463586 , 19.00956188, 22.24319767,\n",
       "       26.80642023, 31.49206201, 39.63968069, 36.38587557, 28.46068875,\n",
       "       21.19619153, 14.85128464, 18.29395875, 29.88346234, 15.61678798,\n",
       "       37.06218053, 28.79717462, 17.17586968, 29.77998895, 32.34034301,\n",
       "       16.31289854, 34.76166547, 22.61835394, 36.7967329 , 26.62204636,\n",
       "       29.68013587, 24.37139798, 37.74428142, 28.18422076, 28.47366018,\n",
       "       34.12057247, 27.39953012, 32.34034301, 27.33028918, 23.00018243,\n",
       "       19.39076646, 11.99451131, 10.63156999, 34.39730358, 35.9830417 ,\n",
       "       34.50472559, 29.4457431 , 31.03023204, 30.61250875, 37.67005605,\n",
       "       36.24023334, 18.20505922, 37.94599049, 27.4449583 , 14.55996624,\n",
       "       14.45108669, 19.40701626, 38.3924153 , 37.37507263, 24.45949825,\n",
       "       29.96149091, 14.688262  , 38.94179845, 37.43058761,  9.24248508,\n",
       "       26.61395112, 11.20825473, 10.82522724, 20.74966511, 24.00817482,\n",
       "       34.4483956 , 12.31786685, 17.7958538 , 34.19369451,  7.47717423,\n",
       "       16.2200717 , 18.96883595, 34.06394909, 20.47826945, 37.50655155,\n",
       "       17.33401294, 18.96883595, 32.12562483, 22.61835394, 20.73562417,\n",
       "       26.23969321, 23.25621111, 16.52232167, 25.67500075, 16.40607325,\n",
       "       13.67944153, 29.86986348, 39.01991236, 28.78804623, 23.59817174])"
      ]
     },
     "execution_count": 19,
     "metadata": {},
     "output_type": "execute_result"
    }
   ],
   "source": [
    "predicciones = model_rf.predict(X_2)\n",
    "predicciones"
   ]
  },
  {
   "cell_type": "code",
   "execution_count": 20,
   "metadata": {},
   "outputs": [
    {
     "data": {
      "application/vnd.microsoft.datawrangler.viewer.v0+json": {
       "columns": [
        {
         "name": "index",
         "rawType": "int64",
         "type": "integer"
        },
        {
         "name": "ID",
         "rawType": "int64",
         "type": "integer"
        },
        {
         "name": "FECHA NAC",
         "rawType": "object",
         "type": "string"
        },
        {
         "name": "SEXO",
         "rawType": "object",
         "type": "string"
        },
        {
         "name": "NOMINA BRUTA 01/01/2025",
         "rawType": "float64",
         "type": "float"
        },
        {
         "name": "FECHA ENTRADA",
         "rawType": "object",
         "type": "string"
        },
        {
         "name": "PARA CONTAR MESES",
         "rawType": "object",
         "type": "string"
        },
        {
         "name": "EDAD",
         "rawType": "int64",
         "type": "integer"
        },
        {
         "name": "AÑOS HASTA JUBILACION",
         "rawType": "float64",
         "type": "float"
        },
        {
         "name": "EDAD DE JUBILACION",
         "rawType": "float64",
         "type": "float"
        }
       ],
       "conversionMethod": "pd.DataFrame",
       "ref": "d76f3e91-25b9-496d-8690-38b045249c34",
       "rows": [
        [
         "0",
         "1",
         "1974-03-22",
         "H",
         "15319.07",
         "2002-05-01",
         "2002-05-01",
         "51",
         "13.982620012853818",
         "64.98262001285381"
        ],
        [
         "1",
         "2",
         "1995-06-21",
         "M",
         "19168.8",
         "2018-04-13",
         "2018-05-01",
         "30",
         "34.44839559523387",
         "64.44839559523388"
        ],
        [
         "2",
         "3",
         "1973-06-07",
         "H",
         "18719.86",
         "2002-04-01",
         "2002-04-01",
         "52",
         "11.530552668293435",
         "63.53055266829344"
        ],
        [
         "3",
         "4",
         "1975-07-03",
         "M",
         "12942.6",
         "2002-04-01",
         "2002-04-01",
         "50",
         "14.17479552547471",
         "64.1747955254747"
        ],
        [
         "4",
         "5",
         "1976-07-19",
         "M",
         "20158.08",
         "2003-04-01",
         "2003-04-01",
         "49",
         "15.48819721686123",
         "64.48819721686124"
        ]
       ],
       "shape": {
        "columns": 9,
        "rows": 5
       }
      },
      "text/html": [
       "<div>\n",
       "<style scoped>\n",
       "    .dataframe tbody tr th:only-of-type {\n",
       "        vertical-align: middle;\n",
       "    }\n",
       "\n",
       "    .dataframe tbody tr th {\n",
       "        vertical-align: top;\n",
       "    }\n",
       "\n",
       "    .dataframe thead th {\n",
       "        text-align: right;\n",
       "    }\n",
       "</style>\n",
       "<table border=\"1\" class=\"dataframe\">\n",
       "  <thead>\n",
       "    <tr style=\"text-align: right;\">\n",
       "      <th></th>\n",
       "      <th>ID</th>\n",
       "      <th>FECHA NAC</th>\n",
       "      <th>SEXO</th>\n",
       "      <th>NOMINA BRUTA 01/01/2025</th>\n",
       "      <th>FECHA ENTRADA</th>\n",
       "      <th>PARA CONTAR MESES</th>\n",
       "      <th>EDAD</th>\n",
       "      <th>AÑOS HASTA JUBILACION</th>\n",
       "      <th>EDAD DE JUBILACION</th>\n",
       "    </tr>\n",
       "  </thead>\n",
       "  <tbody>\n",
       "    <tr>\n",
       "      <th>0</th>\n",
       "      <td>1</td>\n",
       "      <td>1974-03-22</td>\n",
       "      <td>H</td>\n",
       "      <td>15319.07</td>\n",
       "      <td>2002-05-01</td>\n",
       "      <td>2002-05-01</td>\n",
       "      <td>51</td>\n",
       "      <td>13.982620</td>\n",
       "      <td>64.982620</td>\n",
       "    </tr>\n",
       "    <tr>\n",
       "      <th>1</th>\n",
       "      <td>2</td>\n",
       "      <td>1995-06-21</td>\n",
       "      <td>M</td>\n",
       "      <td>19168.80</td>\n",
       "      <td>2018-04-13</td>\n",
       "      <td>2018-05-01</td>\n",
       "      <td>30</td>\n",
       "      <td>34.448396</td>\n",
       "      <td>64.448396</td>\n",
       "    </tr>\n",
       "    <tr>\n",
       "      <th>2</th>\n",
       "      <td>3</td>\n",
       "      <td>1973-06-07</td>\n",
       "      <td>H</td>\n",
       "      <td>18719.86</td>\n",
       "      <td>2002-04-01</td>\n",
       "      <td>2002-04-01</td>\n",
       "      <td>52</td>\n",
       "      <td>11.530553</td>\n",
       "      <td>63.530553</td>\n",
       "    </tr>\n",
       "    <tr>\n",
       "      <th>3</th>\n",
       "      <td>4</td>\n",
       "      <td>1975-07-03</td>\n",
       "      <td>M</td>\n",
       "      <td>12942.60</td>\n",
       "      <td>2002-04-01</td>\n",
       "      <td>2002-04-01</td>\n",
       "      <td>50</td>\n",
       "      <td>14.174796</td>\n",
       "      <td>64.174796</td>\n",
       "    </tr>\n",
       "    <tr>\n",
       "      <th>4</th>\n",
       "      <td>5</td>\n",
       "      <td>1976-07-19</td>\n",
       "      <td>M</td>\n",
       "      <td>20158.08</td>\n",
       "      <td>2003-04-01</td>\n",
       "      <td>2003-04-01</td>\n",
       "      <td>49</td>\n",
       "      <td>15.488197</td>\n",
       "      <td>64.488197</td>\n",
       "    </tr>\n",
       "  </tbody>\n",
       "</table>\n",
       "</div>"
      ],
      "text/plain": [
       "   ID   FECHA NAC SEXO  NOMINA BRUTA 01/01/2025 FECHA ENTRADA  \\\n",
       "0   1  1974-03-22    H                 15319.07    2002-05-01   \n",
       "1   2  1995-06-21    M                 19168.80    2018-04-13   \n",
       "2   3  1973-06-07    H                 18719.86    2002-04-01   \n",
       "3   4  1975-07-03    M                 12942.60    2002-04-01   \n",
       "4   5  1976-07-19    M                 20158.08    2003-04-01   \n",
       "\n",
       "  PARA CONTAR MESES  EDAD  AÑOS HASTA JUBILACION  EDAD DE JUBILACION  \n",
       "0        2002-05-01    51              13.982620           64.982620  \n",
       "1        2018-05-01    30              34.448396           64.448396  \n",
       "2        2002-04-01    52              11.530553           63.530553  \n",
       "3        2002-04-01    50              14.174796           64.174796  \n",
       "4        2003-04-01    49              15.488197           64.488197  "
      ]
     },
     "execution_count": 20,
     "metadata": {},
     "output_type": "execute_result"
    }
   ],
   "source": [
    "df['AÑOS HASTA JUBILACION'] = predicciones\n",
    "df['EDAD DE JUBILACION'] = df['EDAD'] + df['AÑOS HASTA JUBILACION']\n",
    "\n",
    "df.head()"
   ]
  },
  {
   "cell_type": "code",
   "execution_count": 21,
   "metadata": {},
   "outputs": [
    {
     "data": {
      "text/plain": [
       "<Axes: >"
      ]
     },
     "execution_count": 21,
     "metadata": {},
     "output_type": "execute_result"
    },
    {
     "data": {
      "image/png": "[encoded data removed]",
      "text/plain": [
       "<Figure size 640x480 with 1 Axes>"
      ]
     },
     "metadata": {},
     "output_type": "display_data"
    }
   ],
   "source": [
    "df['EDAD DE JUBILACION'].hist()"
   ]
  },
  {
   "cell_type": "code",
   "execution_count": 22,
   "metadata": {},
   "outputs": [
    {
     "data": {
      "text/plain": [
       "<Axes: >"
      ]
     },
     "execution_count": 22,
     "metadata": {},
     "output_type": "execute_result"
    },
    {
     "data": {
      "image/png": "[encoded data removed]",
      "text/plain": [
       "<Figure size 640x480 with 1 Axes>"
      ]
     },
     "metadata": {},
     "output_type": "display_data"
    }
   ],
   "source": [
    "df2['Edad de Jubilación'].hist()"
   ]
  },
  {
   "cell_type": "code",
   "execution_count": 23,
   "metadata": {},
   "outputs": [],
   "source": [
    "import pickle"
   ]
  },
  {
   "cell_type": "code",
   "execution_count": 24,
   "metadata": {},
   "outputs": [],
   "source": [
    "with open('modelo_def.pkl', 'wb') as handle:\n",
    "    pickle.dump(model_rf, handle)"
   ]
  },
  {
   "cell_type": "code",
   "execution_count": 25,
   "metadata": {},
   "outputs": [],
   "source": [
    "model_rf = models['Gradient Boosting']"
   ]
  },
  {
   "cell_type": "code",
   "execution_count": 26,
   "metadata": {},
   "outputs": [
    {
     "data": {
      "text/plain": [
       "array([13.90339689, 34.33949452, 12.41293293, 14.49934643, 15.69224246,\n",
       "       25.43607123, 32.66838809, 17.54780258, 10.2609285 , 21.55824765,\n",
       "       39.29741884, 10.2609285 , 21.55824765, 19.51337192, 21.55824765,\n",
       "       26.47066189, 31.58215707, 39.29741884, 36.29994466, 28.54733149,\n",
       "       21.55824765, 15.69224246, 19.51337192, 30.1216298 , 15.69224246,\n",
       "       36.29994466, 28.54733149, 17.54780258, 30.1216298 , 32.66838809,\n",
       "       17.54780258, 34.33949452, 22.67015261, 35.68353025, 26.47066189,\n",
       "       29.31156298, 24.32447385, 38.35511357, 28.54733149, 28.54733149,\n",
       "       34.33949452, 27.44217852, 32.66838809, 27.44217852, 21.55824765,\n",
       "       20.64094634, 12.41293293, 10.2609285 , 33.32772506, 36.29994466,\n",
       "       34.33949452, 30.1216298 , 31.58215707, 30.1216298 , 37.46718741,\n",
       "       36.29994466, 18.73398128, 37.46718741, 26.47066189, 14.49934643,\n",
       "       13.90339689, 19.51337192, 39.29741884, 38.35511357, 24.32447385,\n",
       "       30.1216298 , 14.49934643, 38.35511357, 38.35511357,  8.24762695,\n",
       "       26.47066189, 11.45644781, 11.45644781, 21.55824765, 25.43607123,\n",
       "       34.33949452, 12.41293293, 17.54780258, 34.33949452,  8.24762695,\n",
       "       17.54780258, 18.73398128, 34.33949452, 20.64094634, 37.46718741,\n",
       "       17.54780258, 18.73398128, 32.66838809, 22.67015261, 20.64094634,\n",
       "       26.47066189, 23.65949615, 15.69224246, 26.47066189, 16.30938445,\n",
       "       14.49934643, 30.1216298 , 38.35511357, 28.54733149, 23.65949615])"
      ]
     },
     "execution_count": 26,
     "metadata": {},
     "output_type": "execute_result"
    }
   ],
   "source": [
    "predicciones = model_rf.predict(X_2)\n",
    "predicciones"
   ]
  },
  {
   "cell_type": "code",
   "execution_count": 27,
   "metadata": {},
   "outputs": [
    {
     "data": {
      "application/vnd.microsoft.datawrangler.viewer.v0+json": {
       "columns": [
        {
         "name": "index",
         "rawType": "int64",
         "type": "integer"
        },
        {
         "name": "ID",
         "rawType": "int64",
         "type": "integer"
        },
        {
         "name": "FECHA NAC",
         "rawType": "object",
         "type": "string"
        },
        {
         "name": "SEXO",
         "rawType": "object",
         "type": "string"
        },
        {
         "name": "NOMINA BRUTA 01/01/2025",
         "rawType": "float64",
         "type": "float"
        },
        {
         "name": "FECHA ENTRADA",
         "rawType": "object",
         "type": "string"
        },
        {
         "name": "PARA CONTAR MESES",
         "rawType": "object",
         "type": "string"
        },
        {
         "name": "EDAD",
         "rawType": "int64",
         "type": "integer"
        },
        {
         "name": "AÑOS HASTA JUBILACION",
         "rawType": "float64",
         "type": "float"
        },
        {
         "name": "EDAD DE JUBILACION",
         "rawType": "float64",
         "type": "float"
        }
       ],
       "conversionMethod": "pd.DataFrame",
       "ref": "7c634c10-fdb2-440e-8933-9a8c86111e5d",
       "rows": [
        [
         "0",
         "1",
         "1974-03-22",
         "H",
         "15319.07",
         "2002-05-01",
         "2002-05-01",
         "51",
         "13.903396886234791",
         "64.90339688623479"
        ],
        [
         "1",
         "2",
         "1995-06-21",
         "M",
         "19168.8",
         "2018-04-13",
         "2018-05-01",
         "30",
         "34.33949451511498",
         "64.33949451511498"
        ],
        [
         "2",
         "3",
         "1973-06-07",
         "H",
         "18719.86",
         "2002-04-01",
         "2002-04-01",
         "52",
         "12.412932925354442",
         "64.41293292535444"
        ],
        [
         "3",
         "4",
         "1975-07-03",
         "M",
         "12942.6",
         "2002-04-01",
         "2002-04-01",
         "50",
         "14.499346428851494",
         "64.4993464288515"
        ],
        [
         "4",
         "5",
         "1976-07-19",
         "M",
         "20158.08",
         "2003-04-01",
         "2003-04-01",
         "49",
         "15.692242460858358",
         "64.69224246085835"
        ]
       ],
       "shape": {
        "columns": 9,
        "rows": 5
       }
      },
      "text/html": [
       "<div>\n",
       "<style scoped>\n",
       "    .dataframe tbody tr th:only-of-type {\n",
       "        vertical-align: middle;\n",
       "    }\n",
       "\n",
       "    .dataframe tbody tr th {\n",
       "        vertical-align: top;\n",
       "    }\n",
       "\n",
       "    .dataframe thead th {\n",
       "        text-align: right;\n",
       "    }\n",
       "</style>\n",
       "<table border=\"1\" class=\"dataframe\">\n",
       "  <thead>\n",
       "    <tr style=\"text-align: right;\">\n",
       "      <th></th>\n",
       "      <th>ID</th>\n",
       "      <th>FECHA NAC</th>\n",
       "      <th>SEXO</th>\n",
       "      <th>NOMINA BRUTA 01/01/2025</th>\n",
       "      <th>FECHA ENTRADA</th>\n",
       "      <th>PARA CONTAR MESES</th>\n",
       "      <th>EDAD</th>\n",
       "      <th>AÑOS HASTA JUBILACION</th>\n",
       "      <th>EDAD DE JUBILACION</th>\n",
       "    </tr>\n",
       "  </thead>\n",
       "  <tbody>\n",
       "    <tr>\n",
       "      <th>0</th>\n",
       "      <td>1</td>\n",
       "      <td>1974-03-22</td>\n",
       "      <td>H</td>\n",
       "      <td>15319.07</td>\n",
       "      <td>2002-05-01</td>\n",
       "      <td>2002-05-01</td>\n",
       "      <td>51</td>\n",
       "      <td>13.903397</td>\n",
       "      <td>64.903397</td>\n",
       "    </tr>\n",
       "    <tr>\n",
       "      <th>1</th>\n",
       "      <td>2</td>\n",
       "      <td>1995-06-21</td>\n",
       "      <td>M</td>\n",
       "      <td>19168.80</td>\n",
       "      <td>2018-04-13</td>\n",
       "      <td>2018-05-01</td>\n",
       "      <td>30</td>\n",
       "      <td>34.339495</td>\n",
       "      <td>64.339495</td>\n",
       "    </tr>\n",
       "    <tr>\n",
       "      <th>2</th>\n",
       "      <td>3</td>\n",
       "      <td>1973-06-07</td>\n",
       "      <td>H</td>\n",
       "      <td>18719.86</td>\n",
       "      <td>2002-04-01</td>\n",
       "      <td>2002-04-01</td>\n",
       "      <td>52</td>\n",
       "      <td>12.412933</td>\n",
       "      <td>64.412933</td>\n",
       "    </tr>\n",
       "    <tr>\n",
       "      <th>3</th>\n",
       "      <td>4</td>\n",
       "      <td>1975-07-03</td>\n",
       "      <td>M</td>\n",
       "      <td>12942.60</td>\n",
       "      <td>2002-04-01</td>\n",
       "      <td>2002-04-01</td>\n",
       "      <td>50</td>\n",
       "      <td>14.499346</td>\n",
       "      <td>64.499346</td>\n",
       "    </tr>\n",
       "    <tr>\n",
       "      <th>4</th>\n",
       "      <td>5</td>\n",
       "      <td>1976-07-19</td>\n",
       "      <td>M</td>\n",
       "      <td>20158.08</td>\n",
       "      <td>2003-04-01</td>\n",
       "      <td>2003-04-01</td>\n",
       "      <td>49</td>\n",
       "      <td>15.692242</td>\n",
       "      <td>64.692242</td>\n",
       "    </tr>\n",
       "  </tbody>\n",
       "</table>\n",
       "</div>"
      ],
      "text/plain": [
       "   ID   FECHA NAC SEXO  NOMINA BRUTA 01/01/2025 FECHA ENTRADA  \\\n",
       "0   1  1974-03-22    H                 15319.07    2002-05-01   \n",
       "1   2  1995-06-21    M                 19168.80    2018-04-13   \n",
       "2   3  1973-06-07    H                 18719.86    2002-04-01   \n",
       "3   4  1975-07-03    M                 12942.60    2002-04-01   \n",
       "4   5  1976-07-19    M                 20158.08    2003-04-01   \n",
       "\n",
       "  PARA CONTAR MESES  EDAD  AÑOS HASTA JUBILACION  EDAD DE JUBILACION  \n",
       "0        2002-05-01    51              13.903397           64.903397  \n",
       "1        2018-05-01    30              34.339495           64.339495  \n",
       "2        2002-04-01    52              12.412933           64.412933  \n",
       "3        2002-04-01    50              14.499346           64.499346  \n",
       "4        2003-04-01    49              15.692242           64.692242  "
      ]
     },
     "execution_count": 27,
     "metadata": {},
     "output_type": "execute_result"
    }
   ],
   "source": [
    "df['AÑOS HASTA JUBILACION'] = predicciones\n",
    "df['EDAD DE JUBILACION'] = df['EDAD'] + df['AÑOS HASTA JUBILACION']\n",
    "\n",
    "df.head()"
   ]
  },
  {
   "cell_type": "code",
   "execution_count": 28,
   "metadata": {},
   "outputs": [
    {
     "data": {
      "text/plain": [
       "<Axes: >"
      ]
     },
     "execution_count": 28,
     "metadata": {},
     "output_type": "execute_result"
    },
    {
     "data": {
      "image/png": "[encoded data removed]",
      "text/plain": [
       "<Figure size 640x480 with 1 Axes>"
      ]
     },
     "metadata": {},
     "output_type": "display_data"
    }
   ],
   "source": [
    "df['EDAD DE JUBILACION'].hist()"
   ]
  },
  {
   "cell_type": "code",
   "execution_count": 29,
   "metadata": {},
   "outputs": [],
   "source": [
    "model_rf = models['XGBoost']"
   ]
  },
  {
   "cell_type": "code",
   "execution_count": 30,
   "metadata": {},
   "outputs": [
    {
     "data": {
      "text/plain": [
       "array([13.742291 , 34.087452 , 12.139001 , 14.3958235, 15.434943 ,\n",
       "       25.582869 , 32.18357  , 17.078852 , 10.253557 , 21.142168 ,\n",
       "       39.53642  , 10.197913 , 21.69653  , 19.189426 , 21.337963 ,\n",
       "       26.586458 , 31.246105 , 40.033905 , 36.437126 , 28.584421 ,\n",
       "       21.804827 , 15.282364 , 19.07344  , 29.612562 , 15.694419 ,\n",
       "       37.384735 , 28.692665 , 18.011286 , 29.933008 , 32.502155 ,\n",
       "       16.844112 , 34.393044 , 22.817474 , 37.139217 , 26.321001 ,\n",
       "       29.699429 , 24.717264 , 38.16128  , 28.1979   , 28.584421 ,\n",
       "       34.24451  , 27.416422 , 32.502155 , 27.201008 , 22.634903 ,\n",
       "       20.018644 , 12.276734 , 10.635454 , 33.722553 , 36.273823 ,\n",
       "       33.837173 , 29.736809 , 31.257326 , 29.630447 , 37.809464 ,\n",
       "       36.16687  , 17.751245 , 37.84956  , 27.48677  , 14.310673 ,\n",
       "       14.029289 , 19.531996 , 39.0662   , 38.071968 , 24.673615 ,\n",
       "       29.558271 , 14.797665 , 38.122093 , 37.631626 ,  8.593056 ,\n",
       "       26.539303 , 11.656376 , 11.471789 , 21.142168 , 25.446861 ,\n",
       "       34.51008  , 12.4719715, 17.455982 , 34.227463 ,  7.462502 ,\n",
       "       16.598532 , 19.14243  , 34.248222 , 20.503792 , 37.988903 ,\n",
       "       17.520552 , 18.947376 , 32.47188  , 22.817474 , 20.83125  ,\n",
       "       26.347624 , 24.355562 , 16.26037  , 26.382166 , 16.273226 ,\n",
       "       14.176285 , 29.58059  , 39.663807 , 28.555595 , 23.492002 ],\n",
       "      dtype=float32)"
      ]
     },
     "execution_count": 30,
     "metadata": {},
     "output_type": "execute_result"
    }
   ],
   "source": [
    "predicciones = model_rf.predict(X_2)\n",
    "predicciones"
   ]
  },
  {
   "cell_type": "code",
   "execution_count": 31,
   "metadata": {},
   "outputs": [
    {
     "data": {
      "application/vnd.microsoft.datawrangler.viewer.v0+json": {
       "columns": [
        {
         "name": "index",
         "rawType": "int64",
         "type": "integer"
        },
        {
         "name": "ID",
         "rawType": "int64",
         "type": "integer"
        },
        {
         "name": "FECHA NAC",
         "rawType": "object",
         "type": "string"
        },
        {
         "name": "SEXO",
         "rawType": "object",
         "type": "string"
        },
        {
         "name": "NOMINA BRUTA 01/01/2025",
         "rawType": "float64",
         "type": "float"
        },
        {
         "name": "FECHA ENTRADA",
         "rawType": "object",
         "type": "string"
        },
        {
         "name": "PARA CONTAR MESES",
         "rawType": "object",
         "type": "string"
        },
        {
         "name": "EDAD",
         "rawType": "int64",
         "type": "integer"
        },
        {
         "name": "AÑOS HASTA JUBILACION",
         "rawType": "float32",
         "type": "float"
        },
        {
         "name": "EDAD DE JUBILACION",
         "rawType": "float64",
         "type": "float"
        }
       ],
       "conversionMethod": "pd.DataFrame",
       "ref": "419e71db-5341-4175-bfb4-dcf36cf135cd",
       "rows": [
        [
         "0",
         "1",
         "1974-03-22",
         "H",
         "15319.07",
         "2002-05-01",
         "2002-05-01",
         "51",
         "13.742291",
         "64.74229145050049"
        ],
        [
         "1",
         "2",
         "1995-06-21",
         "M",
         "19168.8",
         "2018-04-13",
         "2018-05-01",
         "30",
         "34.087452",
         "64.08745193481445"
        ],
        [
         "2",
         "3",
         "1973-06-07",
         "H",
         "18719.86",
         "2002-04-01",
         "2002-04-01",
         "52",
         "12.139001",
         "64.13900089263916"
        ],
        [
         "3",
         "4",
         "1975-07-03",
         "M",
         "12942.6",
         "2002-04-01",
         "2002-04-01",
         "50",
         "14.3958235",
         "64.39582347869873"
        ],
        [
         "4",
         "5",
         "1976-07-19",
         "M",
         "20158.08",
         "2003-04-01",
         "2003-04-01",
         "49",
         "15.434943",
         "64.43494319915771"
        ]
       ],
       "shape": {
        "columns": 9,
        "rows": 5
       }
      },
      "text/html": [
       "<div>\n",
       "<style scoped>\n",
       "    .dataframe tbody tr th:only-of-type {\n",
       "        vertical-align: middle;\n",
       "    }\n",
       "\n",
       "    .dataframe tbody tr th {\n",
       "        vertical-align: top;\n",
       "    }\n",
       "\n",
       "    .dataframe thead th {\n",
       "        text-align: right;\n",
       "    }\n",
       "</style>\n",
       "<table border=\"1\" class=\"dataframe\">\n",
       "  <thead>\n",
       "    <tr style=\"text-align: right;\">\n",
       "      <th></th>\n",
       "      <th>ID</th>\n",
       "      <th>FECHA NAC</th>\n",
       "      <th>SEXO</th>\n",
       "      <th>NOMINA BRUTA 01/01/2025</th>\n",
       "      <th>FECHA ENTRADA</th>\n",
       "      <th>PARA CONTAR MESES</th>\n",
       "      <th>EDAD</th>\n",
       "      <th>AÑOS HASTA JUBILACION</th>\n",
       "      <th>EDAD DE JUBILACION</th>\n",
       "    </tr>\n",
       "  </thead>\n",
       "  <tbody>\n",
       "    <tr>\n",
       "      <th>0</th>\n",
       "      <td>1</td>\n",
       "      <td>1974-03-22</td>\n",
       "      <td>H</td>\n",
       "      <td>15319.07</td>\n",
       "      <td>2002-05-01</td>\n",
       "      <td>2002-05-01</td>\n",
       "      <td>51</td>\n",
       "      <td>13.742291</td>\n",
       "      <td>64.742291</td>\n",
       "    </tr>\n",
       "    <tr>\n",
       "      <th>1</th>\n",
       "      <td>2</td>\n",
       "      <td>1995-06-21</td>\n",
       "      <td>M</td>\n",
       "      <td>19168.80</td>\n",
       "      <td>2018-04-13</td>\n",
       "      <td>2018-05-01</td>\n",
       "      <td>30</td>\n",
       "      <td>34.087452</td>\n",
       "      <td>64.087452</td>\n",
       "    </tr>\n",
       "    <tr>\n",
       "      <th>2</th>\n",
       "      <td>3</td>\n",
       "      <td>1973-06-07</td>\n",
       "      <td>H</td>\n",
       "      <td>18719.86</td>\n",
       "      <td>2002-04-01</td>\n",
       "      <td>2002-04-01</td>\n",
       "      <td>52</td>\n",
       "      <td>12.139001</td>\n",
       "      <td>64.139001</td>\n",
       "    </tr>\n",
       "    <tr>\n",
       "      <th>3</th>\n",
       "      <td>4</td>\n",
       "      <td>1975-07-03</td>\n",
       "      <td>M</td>\n",
       "      <td>12942.60</td>\n",
       "      <td>2002-04-01</td>\n",
       "      <td>2002-04-01</td>\n",
       "      <td>50</td>\n",
       "      <td>14.395823</td>\n",
       "      <td>64.395823</td>\n",
       "    </tr>\n",
       "    <tr>\n",
       "      <th>4</th>\n",
       "      <td>5</td>\n",
       "      <td>1976-07-19</td>\n",
       "      <td>M</td>\n",
       "      <td>20158.08</td>\n",
       "      <td>2003-04-01</td>\n",
       "      <td>2003-04-01</td>\n",
       "      <td>49</td>\n",
       "      <td>15.434943</td>\n",
       "      <td>64.434943</td>\n",
       "    </tr>\n",
       "  </tbody>\n",
       "</table>\n",
       "</div>"
      ],
      "text/plain": [
       "   ID   FECHA NAC SEXO  NOMINA BRUTA 01/01/2025 FECHA ENTRADA  \\\n",
       "0   1  1974-03-22    H                 15319.07    2002-05-01   \n",
       "1   2  1995-06-21    M                 19168.80    2018-04-13   \n",
       "2   3  1973-06-07    H                 18719.86    2002-04-01   \n",
       "3   4  1975-07-03    M                 12942.60    2002-04-01   \n",
       "4   5  1976-07-19    M                 20158.08    2003-04-01   \n",
       "\n",
       "  PARA CONTAR MESES  EDAD  AÑOS HASTA JUBILACION  EDAD DE JUBILACION  \n",
       "0        2002-05-01    51              13.742291           64.742291  \n",
       "1        2018-05-01    30              34.087452           64.087452  \n",
       "2        2002-04-01    52              12.139001           64.139001  \n",
       "3        2002-04-01    50              14.395823           64.395823  \n",
       "4        2003-04-01    49              15.434943           64.434943  "
      ]
     },
     "execution_count": 31,
     "metadata": {},
     "output_type": "execute_result"
    }
   ],
   "source": [
    "df['AÑOS HASTA JUBILACION'] = predicciones\n",
    "df['EDAD DE JUBILACION'] = df['EDAD'] + df['AÑOS HASTA JUBILACION']\n",
    "\n",
    "df.head()"
   ]
  },
  {
   "cell_type": "code",
   "execution_count": 32,
   "metadata": {},
   "outputs": [
    {
     "data": {
      "text/plain": [
       "<Axes: >"
      ]
     },
     "execution_count": 32,
     "metadata": {},
     "output_type": "execute_result"
    },
    {
     "data": {
      "image/png": "[encoded data removed]",
      "text/plain": [
       "<Figure size 640x480 with 1 Axes>"
      ]
     },
     "metadata": {},
     "output_type": "display_data"
    }
   ],
   "source": [
    "df['EDAD DE JUBILACION'].hist()"
   ]
  }
 ],
 "metadata": {
  "kernelspec": {
   "display_name": "PROGRA06",
   "language": "python",
   "name": "python3"
  },
  "language_info": {
   "codemirror_mode": {
    "name": "ipython",
    "version": 3
   },
   "file_extension": ".py",
   "mimetype": "text/x-python",
   "name": "python",
   "nbconvert_exporter": "python",
   "pygments_lexer": "ipython3",
   "version": "3.12.7"
  }
 },
 "nbformat": 4,
 "nbformat_minor": 2
}
